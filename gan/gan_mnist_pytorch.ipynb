{
 "cells": [
  {
   "cell_type": "markdown",
   "id": "a751de81",
   "metadata": {},
   "source": [
    "# Training GAN on MNIST Dataset"
   ]
  },
  {
   "cell_type": "code",
   "execution_count": null,
   "id": "31695fa8",
   "metadata": {},
   "outputs": [],
   "source": [
    "# Import necessary libraries\n",
    "import torch\n",
    "import torch.nn as nn\n",
    "import torch.nn.functional as F\n",
    "import torch.optim as optim\n",
    "from torchvision import datasets, transforms\n",
    "from torch.autograd import Variable\n",
    "from torchvision.utils import save_image\n",
    "from torch.utils.tensorboard import SummaryWriter\n",
    "import sys"
   ]
  },
  {
   "cell_type": "code",
   "execution_count": null,
   "id": "a6ac8650",
   "metadata": {},
   "outputs": [],
   "source": [
    "# Experiment settings\n",
    "batch_size = 64 # Batch size\n",
    "learning_rate = 0.0002 # Learning rate\n",
    "z_dim = 100 # Dimension of the noise vector\n",
    "max_epochs = 200 # Number of epochs to train the model\n",
    "mnist_data_root = './datasets' # Root directory for the MNIST dataset\n",
    "saved_models_dir = './saved_models' # Model weight save directory\n",
    "experiment_name = 'gan_mnist_pytorch' # Name of the experiment\n",
    "output_dir = './data/' + experiment_name + '_output' # Output directory for generated images\n",
    "tensorboard_log_dir = './runs/' + experiment_name # TensorBoard log directory"
   ]
  },
  {
   "cell_type": "code",
   "execution_count": null,
   "id": "e79aa9eb",
   "metadata": {},
   "outputs": [],
   "source": [
    "# Check if a GPU is available and set the device accordingly\n",
    "if torch.accelerator.is_available():\n",
    "    device = torch.accelerator.current_accelerator().type\n",
    "else:\n",
    "    device = \"cpu\"\n",
    "print(f\"Using {device} device\")"
   ]
  },
  {
   "cell_type": "code",
   "execution_count": null,
   "id": "c65dd478",
   "metadata": {},
   "outputs": [],
   "source": [
    "# MNIST Dataset\n",
    "transform = transforms.Compose([\n",
    "    transforms.Grayscale(num_output_channels=1),  # Convert to 1 channel\n",
    "    transforms.ToTensor(),\n",
    "    transforms.Normalize(mean=[0.5], std=[0.5])  # Adjust for 1 channel\n",
    "])\n",
    "\n",
    "# Dataset for MNIST training images\n",
    "train_dataset = datasets.MNIST(root=mnist_data_root, train=True, transform=transform, download=False)\n",
    "\n",
    "# DataLoader for MNIST training images\n",
    "batch_size = 32\n",
    "train_loader = torch.utils.data.DataLoader(dataset=train_dataset, batch_size=batch_size, shuffle=True)\n"
   ]
  },
  {
   "cell_type": "code",
   "execution_count": null,
   "id": "31e2f567",
   "metadata": {},
   "outputs": [],
   "source": [
    "# Get a batch of images from MNIST train dataset \n",
    "images, labels = next(iter(train_loader))\n",
    "\n",
    "# Save the images as a grid\n",
    "save_image(images, output_dir + '/gan_mnist_pytorch__training_images.png', nrow=8, normalize=True)"
   ]
  },
  {
   "cell_type": "code",
   "execution_count": null,
   "id": "ac85029b",
   "metadata": {},
   "outputs": [],
   "source": [
    "# Generator model\n",
    "class Generator(nn.Module):\n",
    "    def __init__(self, g_input_dim, g_output_dim):\n",
    "        super(Generator, self).__init__()       \n",
    "        self.fc1 = nn.Linear(g_input_dim, 256)\n",
    "        self.fc2 = nn.Linear(self.fc1.out_features, self.fc1.out_features*2)\n",
    "        self.fc3 = nn.Linear(self.fc2.out_features, self.fc2.out_features*2)\n",
    "        self.fc4 = nn.Linear(self.fc3.out_features, g_output_dim)\n",
    "    \n",
    "    # forward method\n",
    "    def forward(self, x): \n",
    "        x = F.leaky_relu(self.fc1(x), 0.2)\n",
    "        x = F.leaky_relu(self.fc2(x), 0.2)\n",
    "        x = F.leaky_relu(self.fc3(x), 0.2)\n",
    "        return torch.tanh(self.fc4(x))"
   ]
  },
  {
   "cell_type": "code",
   "execution_count": null,
   "id": "650f5b0c",
   "metadata": {},
   "outputs": [],
   "source": [
    "# Discriminator model\n",
    "class Discriminator(nn.Module):\n",
    "    def __init__(self, d_input_dim):\n",
    "        super(Discriminator, self).__init__()\n",
    "        self.fc1 = nn.Linear(d_input_dim, 1024)\n",
    "        self.fc2 = nn.Linear(self.fc1.out_features, self.fc1.out_features//2)\n",
    "        self.fc3 = nn.Linear(self.fc2.out_features, self.fc2.out_features//2)\n",
    "        self.fc4 = nn.Linear(self.fc3.out_features, 1)\n",
    "    \n",
    "    # forward method\n",
    "    def forward(self, x):\n",
    "        x = F.leaky_relu(self.fc1(x), 0.2)\n",
    "        x = F.dropout(x, 0.3)\n",
    "        x = F.leaky_relu(self.fc2(x), 0.2)\n",
    "        x = F.dropout(x, 0.3)\n",
    "        x = F.leaky_relu(self.fc3(x), 0.2)\n",
    "        x = F.dropout(x, 0.3)\n",
    "        return torch.sigmoid(self.fc4(x))"
   ]
  },
  {
   "cell_type": "code",
   "execution_count": null,
   "id": "53f78444",
   "metadata": {},
   "outputs": [],
   "source": [
    "# build network\n",
    "mnist_dim = train_dataset.train_data.size(1) * train_dataset.train_data.size(2) \n",
    "\n",
    "# Initialize the generator and discriminator\n",
    "generator_model = Generator(g_input_dim = z_dim, g_output_dim = mnist_dim).to(device)\n",
    "discriminator_model = Discriminator(mnist_dim).to(device)"
   ]
  },
  {
   "cell_type": "code",
   "execution_count": null,
   "id": "bec1126b",
   "metadata": {},
   "outputs": [],
   "source": [
    "# Show the generator and discriminator model architectures\n",
    "print(generator_model)\n",
    "print(discriminator_model) \n",
    "sys.stdout.flush()"
   ]
  },
  {
   "cell_type": "code",
   "execution_count": null,
   "id": "812e1bdb",
   "metadata": {},
   "outputs": [],
   "source": [
    "# Loss function\n",
    "criterion = nn.BCELoss() \n",
    "\n",
    "# Optimizers\n",
    "generator_optimizer = optim.Adam(generator_model.parameters(), lr = learning_rate)\n",
    "discriminator_optimizer = optim.Adam(discriminator_model.parameters(), lr = learning_rate)"
   ]
  },
  {
   "cell_type": "code",
   "execution_count": null,
   "id": "7f6fc611",
   "metadata": {},
   "outputs": [],
   "source": [
    "# Function to train the discriminator\n",
    "def D_train(x):\n",
    "    # Reset gradients of model\n",
    "    discriminator_model.zero_grad()\n",
    "\n",
    "    # Take the real images\n",
    "    x_real, y_real = x.view(-1, mnist_dim), torch.ones(batch_size, 1)\n",
    "    x_real, y_real = Variable(x_real.to(device)), Variable(y_real.to(device))\n",
    "\n",
    "    # Let the discriminator predict the real images\n",
    "    D_output = discriminator_model(x_real)\n",
    "    D_real_loss = criterion(D_output, y_real)\n",
    "\n",
    "    # Let the discriminator predict the fake images \n",
    "    z = Variable(torch.randn(batch_size, z_dim).to(device))\n",
    "    x_fake, y_fake = generator_model(z), Variable(torch.zeros(batch_size, 1).to(device))\n",
    "    D_output = discriminator_model(x_fake)\n",
    "    D_fake_loss = criterion(D_output, y_fake)\n",
    "\n",
    "    # Calculate the total discriminator loss, backpropagate, and update the parameters\n",
    "    D_loss = D_real_loss + D_fake_loss\n",
    "    D_loss.backward()\n",
    "    discriminator_optimizer.step()\n",
    "    \n",
    "    # Return the discriminator loss\n",
    "    return  D_loss.data.item()"
   ]
  },
  {
   "cell_type": "code",
   "execution_count": null,
   "id": "c0862c8d",
   "metadata": {},
   "outputs": [],
   "source": [
    "# Function to train the generator\n",
    "def G_train(x):\n",
    "    # Reset gradients of model\n",
    "    generator_model.zero_grad()\n",
    "\n",
    "    # Generate random noise with label 1 (fake)\n",
    "    z = Variable(torch.randn(batch_size, z_dim).to(device))\n",
    "    y = Variable(torch.ones(batch_size, 1).to(device))\n",
    "\n",
    "    # Let the generator generate fake images\n",
    "    G_output = generator_model(z)\n",
    "\n",
    "    # Let the discriminator predict the fake images\n",
    "    D_output = discriminator_model(G_output)\n",
    "\n",
    "    # Calculate the generator loss\n",
    "    G_loss = criterion(D_output, y)\n",
    "\n",
    "    # Gradient backpropagation and optimization of the generator's parameters\n",
    "    G_loss.backward()\n",
    "    generator_optimizer.step()\n",
    "        \n",
    "    # Return the generator loss\n",
    "    return G_loss.data.item()"
   ]
  },
  {
   "cell_type": "code",
   "execution_count": null,
   "id": "0051a079",
   "metadata": {},
   "outputs": [],
   "source": [
    "# Training loop\n",
    "writer = SummaryWriter(tensorboard_log_dir)\n",
    "for epoch in range(1, max_epochs+1):    \n",
    "    # Lists to store losses       \n",
    "    D_losses, G_losses = [], []\n",
    "\n",
    "    # Iterate through the training data \n",
    "    for batch_idx, (x, _) in enumerate(train_loader):\n",
    "        # Train the discriminator and store the loss \n",
    "        D_losses.append(D_train(x))\n",
    "        # Train the generator and store the loss\n",
    "        G_losses.append(G_train(x))\n",
    "\n",
    "    # Print the average losses for the epoch\n",
    "    print('[%d/%d]: loss_d: %.3f, loss_g: %.3f' % (\n",
    "            (epoch), max_epochs, torch.mean(torch.FloatTensor(D_losses)), torch.mean(torch.FloatTensor(G_losses))))\n",
    "    sys.stdout.flush()\n",
    "\n",
    "    # Log the losses to TensorBoard\n",
    "    writer.add_scalars('Discriminator vs Generator Loss', {'Discriminator': torch.mean(torch.FloatTensor(D_losses)), 'Generator': torch.mean(torch.FloatTensor(G_losses))}, epoch)\n",
    "    writer.flush()\n",
    "\n",
    "    # Save the generator and discriminator models for every epoch\n",
    "    torch.save(generator_model.state_dict(), saved_models_dir + '/' + experiment_name + '_G_epoch_' + str(epoch) + '.pth')\n",
    "    torch.save(discriminator_model.state_dict(), saved_models_dir + '/' + experiment_name + '_D_epoch_' + str(epoch) + '.pth')\n",
    "\n",
    "    # Save image for every epoch\n",
    "    with torch.no_grad():\n",
    "        test_z = Variable(torch.randn(batch_size, z_dim).to(device))\n",
    "        generated = generator_model(test_z)\n",
    "        save_image(generated.view(generated.size(0), 1, 28, 28),  output_dir + '/' + experiment_name + '_output_' + str(epoch) + '.png')\n"
   ]
  }
 ],
 "metadata": {
  "kernelspec": {
   "display_name": "cv",
   "language": "python",
   "name": "python3"
  },
  "language_info": {
   "codemirror_mode": {
    "name": "ipython",
    "version": 3
   },
   "file_extension": ".py",
   "mimetype": "text/x-python",
   "name": "python",
   "nbconvert_exporter": "python",
   "pygments_lexer": "ipython3",
   "version": "3.11.11"
  }
 },
 "nbformat": 4,
 "nbformat_minor": 5
}
