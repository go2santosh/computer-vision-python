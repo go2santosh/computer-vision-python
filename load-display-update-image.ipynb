{
 "cells": [
  {
   "cell_type": "markdown",
   "id": "2c3ff719",
   "metadata": {},
   "source": [
    "# Load, Display, and Update an Image"
   ]
  },
  {
   "cell_type": "code",
   "execution_count": null,
   "id": "2c000ca5",
   "metadata": {},
   "outputs": [],
   "source": [
    "import cv2\n",
    "import os\n",
    "import matplotlib.pyplot as plt\n",
    "import numpy as np"
   ]
  },
  {
   "cell_type": "code",
   "execution_count": null,
   "id": "355196d2",
   "metadata": {},
   "outputs": [],
   "source": [
    "# image input and output folders\n",
    "input_folder = 'input_images'\n",
    "output_folder = 'output_images'"
   ]
  },
  {
   "cell_type": "code",
   "execution_count": null,
   "id": "6e7c544f",
   "metadata": {},
   "outputs": [],
   "source": [
    "# function to read all the image file paths from an input folder\n",
    "def get_image_paths(folder):\n",
    "    image_extensions = ('.png', '.jpg', '.jpeg', '.bmp', '.tiff')\n",
    "    return [os.path.join(folder, f) for f in os.listdir(folder) if f.lower().endswith(image_extensions)]\n",
    "\n",
    "# get all image paths from the input folder\n",
    "image_paths = get_image_paths(input_folder)"
   ]
  },
  {
   "cell_type": "code",
   "execution_count": null,
   "id": "024e6029",
   "metadata": {},
   "outputs": [],
   "source": [
    "# function to read the image paths and display the images in a grid using matplotlib\n",
    "def display_images_in_grid(image_paths):\n",
    "    # calculate grid size\n",
    "    n = len(image_paths)\n",
    "    cols = 4\n",
    "    rows = (n + cols - 1) // cols  # round up to the nearest whole number\n",
    "\n",
    "    fig, axes = plt.subplots(rows, cols, figsize=(15, 5 * rows))\n",
    "    axes = axes.flatten()  # flatten the axes array for easy indexing\n",
    "\n",
    "    for ax in axes:\n",
    "        ax.axis('off')  # turn off axis\n",
    "\n",
    "    for i, image_path in enumerate(image_paths):\n",
    "        img = cv2.imread(image_path)\n",
    "        if img is not None:\n",
    "            img_rgb = cv2.cvtColor(img, cv2.COLOR_BGR2RGB)  # convert BGR to RGB\n",
    "            axes[i].imshow(img_rgb)\n",
    "            axes[i].set_title(os.path.basename(image_path))\n",
    "\n",
    "    plt.tight_layout()\n",
    "    plt.show()\n",
    "\n",
    "# show the images in a grid\n",
    "display_images_in_grid(image_paths)"
   ]
  },
  {
   "cell_type": "code",
   "execution_count": null,
   "id": "bb782c4e",
   "metadata": {},
   "outputs": [],
   "source": [
    "# function to display the image properties\n",
    "def print_image_properties(image):\n",
    "    print(\"Dimensions of the image: \", image.ndim)\n",
    "    print(\"Image height: \", format(image.shape[0]))\n",
    "    print(\"Image width: \", format(image.shape[1]))\n",
    "    print(\"Image channels: \", format(image.shape[2]))\n",
    "    print(\"Size of the image array: \", image.size)\n",
    "\n",
    "\n",
    "# display image properties for all images\n",
    "for image_path in image_paths:\n",
    "    img = cv2.imread(image_path)\n",
    "    if img is not None:\n",
    "        print(f\"Properties of {os.path.basename(image_path)}:\")\n",
    "        print_image_properties(img)\n",
    "        print(\"\\n\")\n",
    "    else:\n",
    "        print(f\"Could not read image: {image_path}\")"
   ]
  },
  {
   "cell_type": "code",
   "execution_count": null,
   "id": "f478a57e",
   "metadata": {},
   "outputs": [],
   "source": [
    "# Access pixel at (0,0) location for all the images in the input folder\n",
    "for image_path in image_paths:\n",
    "    img = cv2.imread(image_path)\n",
    "    if img is not None:\n",
    "        (b, g, r) = img[0, 0]\n",
    "        print(f\"Image: {os.path.basename(image_path)} - Blue: {b}, Green: {g}, Red: {r}\")\n",
    "    else:\n",
    "        print(f\"Could not read image: {image_path}\")"
   ]
  },
  {
   "cell_type": "code",
   "execution_count": null,
   "id": "a5778e8b",
   "metadata": {},
   "outputs": [],
   "source": [
    "# Invert the colors for right-half of all the images in the input folder\n",
    "for image_path in image_paths:\n",
    "    img = cv2.imread(image_path)\n",
    "    if img is not None:\n",
    "        img_inverted = img.copy()\n",
    "        img_inverted[:, img.shape[1] // 2:] = 255 - img_inverted[:, img.shape[1] // 2:]\n",
    "        output_path = os.path.join(output_folder, 'inverted_' + os.path.basename(image_path))\n",
    "        cv2.imwrite(output_path, img_inverted)\n",
    "        print(f\"Inverted image saved to: {output_path}\")\n",
    "    else:\n",
    "        print(f\"Could not read image: {image_path}\")\n",
    "\n",
    "# Display the inverted images in a grid\n",
    "display_images_in_grid(get_image_paths(output_folder))"
   ]
  },
  {
   "cell_type": "code",
   "execution_count": null,
   "id": "b3c0add2",
   "metadata": {},
   "outputs": [],
   "source": [
    "# convert all the image to grayscale\n",
    "for image_path in image_paths:\n",
    "    img = cv2.imread(image_path)\n",
    "    if img is not None:\n",
    "        img_gray = cv2.cvtColor(img, cv2.COLOR_BGR2GRAY)\n",
    "        output_path = os.path.join(output_folder, 'gray_' + os.path.basename(image_path))\n",
    "        cv2.imwrite(output_path, img_gray)\n",
    "        print(f\"Grayscale image saved to: {output_path}\")\n",
    "    else:\n",
    "        print(f\"Could not read image: {image_path}\")\n",
    "\n",
    "# Display the grayscale images in a grid\n",
    "display_images_in_grid(get_image_paths(output_folder))"
   ]
  },
  {
   "cell_type": "code",
   "execution_count": null,
   "id": "4284081a",
   "metadata": {},
   "outputs": [],
   "source": [
    "# resize all the images to 512 pixels width and 512 pixels height\n",
    "for image_path in image_paths:\n",
    "    img = cv2.imread(image_path)\n",
    "    if img is not None:\n",
    "        img_resized = cv2.resize(img, (512, 512))\n",
    "        output_path = os.path.join(output_folder, 'resized_' + os.path.basename(image_path))\n",
    "        cv2.imwrite(output_path, img_resized)\n",
    "        print(f\"Resized image saved to: {output_path}\")\n",
    "    else:\n",
    "        print(f\"Could not read image: {image_path}\")\n",
    "\n",
    "# Display the resized images in a grid\n",
    "display_images_in_grid(get_image_paths(output_folder))"
   ]
  }
 ],
 "metadata": {
  "kernelspec": {
   "display_name": "cv",
   "language": "python",
   "name": "python3"
  },
  "language_info": {
   "codemirror_mode": {
    "name": "ipython",
    "version": 3
   },
   "file_extension": ".py",
   "mimetype": "text/x-python",
   "name": "python",
   "nbconvert_exporter": "python",
   "pygments_lexer": "ipython3",
   "version": "3.11.11"
  }
 },
 "nbformat": 4,
 "nbformat_minor": 5
}
