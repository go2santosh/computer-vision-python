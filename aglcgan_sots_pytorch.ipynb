{
 "cells": [
  {
   "cell_type": "markdown",
   "id": "42e881f1",
   "metadata": {},
   "source": [
    "# Attention-based Global–Local Cycle-consistent Generative Adversarial Network (AGLC-GAN)\n",
    "\n",
    "https://github.com/jr925/AGLC-GAN/blob/main/AGLC%20GAN.ipynb\n",
    "\n",
    "R.S. Jaisurya , Snehasis Mukherjee\n"
   ]
  },
  {
   "cell_type": "markdown",
   "id": "2d0aeaf5",
   "metadata": {},
   "source": [
    "## Imports"
   ]
  },
  {
   "cell_type": "code",
   "execution_count": 1,
   "id": "81d632c9",
   "metadata": {},
   "outputs": [],
   "source": [
    "import torch\n",
    "import math\n",
    "import sys\n",
    "from torch.utils.data import DataLoader\n",
    "import torch.nn as nn\n",
    "import torch.optim as optim\n",
    "from tqdm import tqdm\n",
    "from torch.backends import cudnn\n",
    "import torchvision\n",
    "import torchvision.datasets as datasets\n",
    "import torchvision.utils as vutils\n",
    "from torchvision.utils import save_image\n",
    "from matplotlib import pyplot as plt\n",
    "import numpy as np\n",
    "from torch.cuda.amp import GradScaler, autocast\n",
    "import warnings,os,argparse\n",
    "import torch.utils.data as data\n",
    "import torchvision.transforms as tfs\n",
    "from torchvision.transforms import functional as FF\n",
    "from matplotlib import pyplot as plt\n",
    "import functools\n",
    "from torchvision.utils import make_grid\n",
    "from torch.utils.tensorboard import SummaryWriter"
   ]
  },
  {
   "cell_type": "markdown",
   "id": "80da081b",
   "metadata": {},
   "source": [
    "## Options"
   ]
  },
  {
   "cell_type": "code",
   "execution_count": 2,
   "id": "f407ccab",
   "metadata": {},
   "outputs": [],
   "source": [
    "# Check if a GPU is available and set the device accordingly\n",
    "device = \"cpu\"\n",
    "#if torch.accelerator.is_available():\n",
    "#    device = torch.accelerator.current_accelerator().type"
   ]
  },
  {
   "cell_type": "code",
   "execution_count": null,
   "id": "4767b525",
   "metadata": {},
   "outputs": [],
   "source": [
    "class options:\n",
    "  def __init__(self): \n",
    "    self.device = device\n",
    "    self.load_model = False\n",
    "    self.save_model = True\n",
    "    self.steps = 60001\n",
    "    self.num_workers = 0 \n",
    "    self.lambda_gen = 2\n",
    "    self.lambda_identity= 5\n",
    "    self.lambda_cycle = 10\n",
    "    self.lambda_pc = 0.1\n",
    "    self.checkpoint_model_load = \"./saved_models/aglcgan_sots_pytorch/my_checkpoint_1.pk\"\n",
    "    self.checkpoint_model = \"./saved_models/aglcgan_sots_pytorch/my_checkpoint_2.pk\"\n",
    "    self.log_dir =\"logs\"\n",
    "    self.eval_step =50\n",
    "    self.lr=0.0001\n",
    "    self.trainset='its_train'\n",
    "    self.testsett='its_test'\n",
    "    self.gps=3\n",
    "    self.blocks=6\n",
    "    self.bs=1\n",
    "    self.crop= True\n",
    "    self.crop_size=256\n",
    "    self.ld_input_size = 64\n",
    "\n",
    "opt = options()"
   ]
  },
  {
   "cell_type": "markdown",
   "id": "c2ae95db",
   "metadata": {},
   "source": [
    "## Metrics"
   ]
  },
  {
   "cell_type": "code",
   "execution_count": 4,
   "id": "3d8d7d05",
   "metadata": {},
   "outputs": [],
   "source": [
    "from math import exp\n",
    "import math\n",
    "import numpy as np\n",
    "\n",
    "import torch.nn.functional as F\n",
    "from torch.autograd import Variable\n",
    "\n",
    "from  torchvision.transforms import ToPILImage\n",
    "\n",
    "def gaussian(window_size, sigma):\n",
    "    gauss = torch.Tensor([exp(-(x - window_size // 2) ** 2 / float(2 * sigma ** 2)) for x in range(window_size)])\n",
    "    return gauss / gauss.sum()\n",
    "\n",
    "def create_window(window_size, channel):\n",
    "    _1D_window = gaussian(window_size, 1.5).unsqueeze(1)\n",
    "    _2D_window = _1D_window.mm(_1D_window.t()).float().unsqueeze(0).unsqueeze(0)\n",
    "    window = Variable(_2D_window.expand(channel, 1, window_size, window_size).contiguous())\n",
    "    return window\n",
    "\n",
    "def _ssim(img1, img2, window, window_size, channel, size_average=True):\n",
    "    mu1 = F.conv2d(img1, window, padding=window_size // 2, groups=channel)\n",
    "    mu2 = F.conv2d(img2, window, padding=window_size // 2, groups=channel)\n",
    "    mu1_sq = mu1.pow(2)\n",
    "    mu2_sq = mu2.pow(2)\n",
    "    mu1_mu2 = mu1 * mu2\n",
    "    sigma1_sq = F.conv2d(img1 * img1, window, padding=window_size // 2, groups=channel) - mu1_sq\n",
    "    sigma2_sq = F.conv2d(img2 * img2, window, padding=window_size // 2, groups=channel) - mu2_sq\n",
    "    sigma12 = F.conv2d(img1 * img2, window, padding=window_size // 2, groups=channel) - mu1_mu2\n",
    "    C1 = 0.01 ** 2\n",
    "    C2 = 0.03 ** 2\n",
    "    ssim_map = ((2 * mu1_mu2 + C1) * (2 * sigma12 + C2)) / ((mu1_sq + mu2_sq + C1) * (sigma1_sq + sigma2_sq + C2))\n",
    "\n",
    "    if size_average:\n",
    "        return ssim_map.mean()\n",
    "    else:\n",
    "        return ssim_map.mean(1).mean(1).mean(1)\n",
    "\n",
    "\n",
    "def ssim(img1, img2, window_size=11, size_average=True):\n",
    "    img1=torch.clamp(img1,min=0,max=1)\n",
    "    img2=torch.clamp(img2,min=0,max=1)\n",
    "    (_, channel, _, _) = img1.size()\n",
    "    window = create_window(window_size, channel)\n",
    "    if img1.is_cuda:\n",
    "        window = window.cuda(img1.get_device())\n",
    "    window = window.type_as(img1)\n",
    "    return _ssim(img1, img2, window, window_size, channel, size_average)\n",
    "def psnr(pred, gt):\n",
    "    pred=pred.clamp(0,1).cpu().numpy()\n",
    "    gt=gt.clamp(0,1).cpu().numpy()\n",
    "    imdff = pred - gt\n",
    "    rmse = math.sqrt(np.mean(imdff ** 2))\n",
    "    if rmse == 0:\n",
    "        return 100\n",
    "    return 20 * math.log10( 1.0 / rmse)"
   ]
  },
  {
   "cell_type": "code",
   "execution_count": 5,
   "id": "942631fe",
   "metadata": {},
   "outputs": [],
   "source": [
    "def save_checkpoint(gen_C, gen_H, disc_C, disc_H, opt_gen, opt_disc, start_step, max_ssim, max_psnr, ssims, psnrs, filename=\"my_checkpoint.pth.tar\"):\n",
    "    print(\"=> Saving checkpoint\")\n",
    "    checkpoint = {\n",
    "        \"gen_C\": gen_C.state_dict(),\n",
    "        \"gen_H\": gen_H.state_dict(),\n",
    "        \"disc_C\": disc_C.state_dict(),\n",
    "        \"disc_H\": disc_H.state_dict(),\n",
    "        \"opt_gen\": opt_gen.state_dict(),\n",
    "        \"opt_disc\": opt_disc.state_dict(),\n",
    "        \"start_step\":start_step,\n",
    "\t\t    \"max_psnr\":max_psnr,\n",
    "        \"max_ssim\":max_ssim,\n",
    "        \"ssims\":ssims,\n",
    "        \"psnrs\":psnrs\n",
    "    }\n",
    "    torch.save(checkpoint, filename)"
   ]
  },
  {
   "cell_type": "markdown",
   "id": "c583d911",
   "metadata": {},
   "source": [
    "## Dehaze Module"
   ]
  },
  {
   "cell_type": "code",
   "execution_count": 6,
   "id": "95d340c2",
   "metadata": {},
   "outputs": [],
   "source": [
    "from torch import nn\n",
    "\n",
    "\n",
    "class DeformConv2d(nn.Module):\n",
    "    def __init__(self, inc, outc, kernel_size=3, padding=1, stride=1, bias=None, modulation=True):\n",
    "        super(DeformConv2d, self).__init__()\n",
    "        self.kernel_size = kernel_size\n",
    "        self.padding = padding\n",
    "        self.stride = stride\n",
    "        self.zero_padding = nn.ZeroPad2d(padding)\n",
    "        self.conv = nn.Conv2d(inc, outc, kernel_size=kernel_size, stride=kernel_size, bias=bias)\n",
    "\n",
    "        self.p_conv = nn.Conv2d(inc, 2*kernel_size*kernel_size, kernel_size=3, padding=1, stride=stride)\n",
    "        nn.init.constant_(self.p_conv.weight, 0)\n",
    "        self.p_conv.register_backward_hook(self._set_lr)\n",
    "\n",
    "        self.modulation = modulation\n",
    "        if modulation:\n",
    "            self.m_conv = nn.Conv2d(inc, kernel_size*kernel_size, kernel_size=3, padding=1, stride=stride)\n",
    "            nn.init.constant_(self.m_conv.weight, 0)\n",
    "            self.m_conv.register_backward_hook(self._set_lr)\n",
    "\n",
    "    @staticmethod\n",
    "    def _set_lr(module, grad_input, grad_output):\n",
    "        grad_input = (grad_input[i] * 0.1 for i in range(len(grad_input)))\n",
    "        grad_output = (grad_output[i] * 0.1 for i in range(len(grad_output)))\n",
    "\n",
    "    def forward(self, x):\n",
    "        offset = self.p_conv(x)\n",
    "        if self.modulation:\n",
    "            m = torch.sigmoid(self.m_conv(x))\n",
    "\n",
    "        dtype = offset.data.type()\n",
    "        ks = self.kernel_size\n",
    "        N = offset.size(1) // 2\n",
    "\n",
    "        if self.padding:\n",
    "            x = self.zero_padding(x)\n",
    "\n",
    "        # (b, 2N, h, w)\n",
    "        p = self._get_p(offset, dtype)\n",
    "\n",
    "        # (b, h, w, 2N)\n",
    "        p = p.contiguous().permute(0, 2, 3, 1)\n",
    "        q_lt = p.detach().floor()\n",
    "        q_rb = q_lt + 1\n",
    "\n",
    "        q_lt = torch.cat([torch.clamp(q_lt[..., :N], 0, x.size(2)-1), torch.clamp(q_lt[..., N:], 0, x.size(3)-1)], dim=-1).long()\n",
    "        q_rb = torch.cat([torch.clamp(q_rb[..., :N], 0, x.size(2)-1), torch.clamp(q_rb[..., N:], 0, x.size(3)-1)], dim=-1).long()\n",
    "        q_lb = torch.cat([q_lt[..., :N], q_rb[..., N:]], dim=-1)\n",
    "        q_rt = torch.cat([q_rb[..., :N], q_lt[..., N:]], dim=-1)\n",
    "\n",
    "        # clip p\n",
    "        p = torch.cat([torch.clamp(p[..., :N], 0, x.size(2)-1), torch.clamp(p[..., N:], 0, x.size(3)-1)], dim=-1)\n",
    "\n",
    "        # bilinear kernel (b, h, w, N)\n",
    "        g_lt = (1 + (q_lt[..., :N].type_as(p) - p[..., :N])) * (1 + (q_lt[..., N:].type_as(p) - p[..., N:]))\n",
    "        g_rb = (1 - (q_rb[..., :N].type_as(p) - p[..., :N])) * (1 - (q_rb[..., N:].type_as(p) - p[..., N:]))\n",
    "        g_lb = (1 + (q_lb[..., :N].type_as(p) - p[..., :N])) * (1 - (q_lb[..., N:].type_as(p) - p[..., N:]))\n",
    "        g_rt = (1 - (q_rt[..., :N].type_as(p) - p[..., :N])) * (1 + (q_rt[..., N:].type_as(p) - p[..., N:]))\n",
    "\n",
    "        # (b, c, h, w, N)\n",
    "        x_q_lt = self._get_x_q(x, q_lt, N)\n",
    "        x_q_rb = self._get_x_q(x, q_rb, N)\n",
    "        x_q_lb = self._get_x_q(x, q_lb, N)\n",
    "        x_q_rt = self._get_x_q(x, q_rt, N)\n",
    "\n",
    "        # (b, c, h, w, N)\n",
    "        x_offset = g_lt.unsqueeze(dim=1) * x_q_lt + \\\n",
    "                   g_rb.unsqueeze(dim=1) * x_q_rb + \\\n",
    "                   g_lb.unsqueeze(dim=1) * x_q_lb + \\\n",
    "                   g_rt.unsqueeze(dim=1) * x_q_rt\n",
    "\n",
    "        # modulation\n",
    "        if self.modulation:\n",
    "            m = m.contiguous().permute(0, 2, 3, 1)\n",
    "            m = m.unsqueeze(dim=1)\n",
    "            m = torch.cat([m for _ in range(x_offset.size(1))], dim=1)\n",
    "            x_offset *= m\n",
    "\n",
    "        x_offset = self._reshape_x_offset(x_offset, ks)\n",
    "        out = self.conv(x_offset)\n",
    "\n",
    "        return out\n",
    "\n",
    "    def _get_p_n(self, N, dtype):\n",
    "        p_n_x, p_n_y = torch.meshgrid(\n",
    "            torch.arange(-(self.kernel_size-1)//2, (self.kernel_size-1)//2+1),\n",
    "            torch.arange(-(self.kernel_size-1)//2, (self.kernel_size-1)//2+1))\n",
    "        # (2N, 1)\n",
    "        p_n = torch.cat([torch.flatten(p_n_x), torch.flatten(p_n_y)], 0)\n",
    "        p_n = p_n.view(1, 2*N, 1, 1).type(dtype)\n",
    "\n",
    "        return p_n\n",
    "\n",
    "    def _get_p_0(self, h, w, N, dtype):\n",
    "        p_0_x, p_0_y = torch.meshgrid(\n",
    "            torch.arange(1, h*self.stride+1, self.stride),\n",
    "            torch.arange(1, w*self.stride+1, self.stride))\n",
    "        p_0_x = torch.flatten(p_0_x).view(1, 1, h, w).repeat(1, N, 1, 1)\n",
    "        p_0_y = torch.flatten(p_0_y).view(1, 1, h, w).repeat(1, N, 1, 1)\n",
    "        p_0 = torch.cat([p_0_x, p_0_y], 1).type(dtype)\n",
    "\n",
    "        return p_0\n",
    "\n",
    "    def _get_p(self, offset, dtype):\n",
    "        N, h, w = offset.size(1)//2, offset.size(2), offset.size(3)\n",
    "\n",
    "        # (1, 2N, 1, 1)\n",
    "        p_n = self._get_p_n(N, dtype)\n",
    "        # (1, 2N, h, w)\n",
    "        p_0 = self._get_p_0(h, w, N, dtype)\n",
    "        p = p_0 + p_n + offset\n",
    "        return p\n",
    "\n",
    "    def _get_x_q(self, x, q, N):\n",
    "        b, h, w, _ = q.size()\n",
    "        padded_w = x.size(3)\n",
    "        c = x.size(1)\n",
    "        # (b, c, h*w)\n",
    "        x = x.contiguous().view(b, c, -1)\n",
    "\n",
    "        # (b, h, w, N)\n",
    "        index = q[..., :N]*padded_w + q[..., N:]  # offset_x*w + offset_y\n",
    "        # (b, c, h*w*N)\n",
    "        index = index.contiguous().unsqueeze(dim=1).expand(-1, c, -1, -1, -1).contiguous().view(b, c, -1)\n",
    "\n",
    "        x_offset = x.gather(dim=-1, index=index).contiguous().view(b, c, h, w, N)\n",
    "\n",
    "        return x_offset\n",
    "\n",
    "    @staticmethod\n",
    "    def _reshape_x_offset(x_offset, ks):\n",
    "        b, c, h, w, N = x_offset.size()\n",
    "        x_offset = torch.cat([x_offset[..., s:s+ks].contiguous().view(b, c, h, w*ks) for s in range(0, N, ks)], dim=-1)\n",
    "        x_offset = x_offset.contiguous().view(b, c, h*ks, w*ks)\n",
    "\n",
    "        return x_offset"
   ]
  },
  {
   "cell_type": "code",
   "execution_count": 7,
   "id": "adeedd7b",
   "metadata": {},
   "outputs": [],
   "source": [
    "import torch.nn as nn\n",
    "\n",
    "def default_conv(in_channels, out_channels, kernel_size, bias=True):\n",
    "    return nn.Conv2d(in_channels, out_channels, kernel_size, padding=(kernel_size//2), bias=bias)\n",
    "    \n",
    "class PALayer(nn.Module):\n",
    "    def __init__(self, channel):\n",
    "        super(PALayer, self).__init__()\n",
    "        self.pa = nn.Sequential(\n",
    "                nn.Conv2d(channel, channel // 4, kernel_size=3, stride=1, dilation=2, padding=2, bias=True),\n",
    "                nn.ReLU(inplace=True),\n",
    "                nn.Conv2d(channel // 4, channel // 8, kernel_size=3, stride=1, dilation=1, padding=1, bias=True),\n",
    "                nn.ReLU(inplace=True),\n",
    "                nn.Conv2d(channel // 8, 1, kernel_size=1, stride=1, dilation=1, padding=0, bias=True),\n",
    "                nn.Sigmoid()\n",
    "        )\n",
    "    def forward(self, x):\n",
    "        y = self.pa(x)\n",
    "        return x * y\n",
    "\n",
    "class CALayer(nn.Module):\n",
    "    def __init__(self, channel):\n",
    "        super(CALayer, self).__init__()\n",
    "        self.avg_pool = nn.AdaptiveAvgPool2d(1)\n",
    "        self.ca = nn.Sequential(\n",
    "                nn.Conv2d(channel, channel // 8, 1, padding=0, bias=True),\n",
    "                nn.ReLU(inplace=True),\n",
    "                nn.Conv2d(channel // 8, channel, 1, padding=0, bias=True),\n",
    "                nn.Sigmoid()\n",
    "        )\n",
    "\n",
    "    def forward(self, x):\n",
    "        y = self.avg_pool(x)\n",
    "        y = self.ca(y)\n",
    "        return x * y\n",
    "\n",
    "class DCNBlock(nn.Module):\n",
    "    def __init__(self, in_channel, out_channel):\n",
    "        super(DCNBlock, self).__init__()\n",
    "        self.dcn = DeformConv2d(in_channel, out_channel, kernel_size=3, padding=1, stride=1).to(device)\n",
    "    def forward(self, x):\n",
    "        return self.dcn(x)\n",
    "\n",
    "class Block(nn.Module):\n",
    "    def __init__(self, conv, dim, kernel_size,):\n",
    "        super(Block, self).__init__()\n",
    "        self.conv1=conv(dim, dim, kernel_size, bias=True)\n",
    "        self.act1=nn.LeakyReLU(0.2,inplace=True)\n",
    "        self.conv2=conv(dim,dim,kernel_size,bias=True)\n",
    "        self.calayer=CALayer(dim)\n",
    "        self.palayer=PALayer(dim)\n",
    "    def forward(self, x):\n",
    "        res=self.act1(self.conv1(x))\n",
    "        res=res+x \n",
    "        res=self.conv2(res)\n",
    "        res=self.calayer(res)\n",
    "        res=self.palayer(res)\n",
    "        res += x \n",
    "        return res\n",
    "\n",
    "class DehazeModule(nn.Module):\n",
    "    def __init__(self,blocks = opt.blocks,conv=default_conv,io_channel = 256):\n",
    "        super(DehazeModule, self).__init__()\n",
    "        self.dim= io_channel\n",
    "        kernel_size = 3\n",
    "        modules = [ Block(conv, self.dim, kernel_size)  for _ in range(blocks)]\n",
    "        self.gp = nn.Sequential(*modules)\n",
    "        self.dcn_block = DCNBlock(self.dim, self.dim)\n",
    "      \n",
    "\n",
    "    def forward(self, x):\n",
    "\n",
    "        res = self.gp(x)\n",
    "        res_dcn1 = self.dcn_block(res)\n",
    "        res_dcn2 = self.dcn_block(res_dcn1)\n",
    "\n",
    "        return res_dcn2"
   ]
  },
  {
   "cell_type": "markdown",
   "id": "ea04593c",
   "metadata": {},
   "source": [
    "## Generator"
   ]
  },
  {
   "cell_type": "code",
   "execution_count": 8,
   "id": "22ccce96",
   "metadata": {},
   "outputs": [],
   "source": [
    "class Mix(nn.Module):\n",
    "    def __init__(self, m=-0.80):\n",
    "        super(Mix, self).__init__()\n",
    "        w = torch.nn.Parameter(torch.FloatTensor([m]), requires_grad=True)\n",
    "        w = torch.nn.Parameter(w, requires_grad=True)\n",
    "        self.w = w\n",
    "        self.mix_block = nn.Sigmoid()\n",
    "\n",
    "    def forward(self, fea1, fea2):\n",
    "        mix_factor = self.mix_block(self.w)\n",
    "        out = fea1 * mix_factor.expand_as(fea1) + fea2 * (1 - mix_factor.expand_as(fea2))\n",
    "        return out\n",
    "\n",
    "class ConvBlock(nn.Module):\n",
    "\n",
    "    def __init__(self, in_channels, out_channels, down=True, **kwargs):\n",
    "        super().__init__()\n",
    "        self.conv = nn.Sequential(\n",
    "            nn.Conv2d(in_channels, out_channels, padding_mode=\"reflect\", **kwargs)\n",
    "            if down\n",
    "            else nn.ConvTranspose2d(in_channels, out_channels, **kwargs),\n",
    "            nn.InstanceNorm2d(out_channels),\n",
    "            nn.ReLU(inplace=True)\n",
    "        )\n",
    "    def forward(self, x):\n",
    "        return self.conv(x)\n",
    "\n",
    "\n",
    "class Generator(nn.Module):\n",
    "    def __init__(self,img_channels=3,out=3):\n",
    "        super(Generator,self).__init__()\n",
    "        self.down1 = nn.Sequential(nn.Conv2d(img_channels, 64, kernel_size=7, stride=1, padding=3, padding_mode=\"reflect\"),nn.InstanceNorm2d(64),nn.ReLU(inplace=True))\n",
    "        self.down2 = ConvBlock(64, 128, kernel_size=3, stride=2, padding=1)\n",
    "        self.down3 = ConvBlock(128, 256, kernel_size=3, stride=2, padding=1)\n",
    "\n",
    "        \n",
    "        self.dehaze_block = DehazeModule()\n",
    "\n",
    "        \n",
    "        self.up1 = ConvBlock(256, 128, down=False, kernel_size=3, stride=2, padding=1, output_padding=1)\n",
    "        self.up2 = ConvBlock(128, 64, down=False, kernel_size=3, stride=2, padding=1, output_padding=1)\n",
    "        self.up3 = nn.Sequential(nn.Conv2d(64, img_channels, kernel_size=7, stride=1, padding=3, padding_mode=\"reflect\"),nn.Tanh())\n",
    "\n",
    "        self.mix1 = Mix(m=-1)\n",
    "        self.mix2 = Mix(m=-0.6)\n",
    "\n",
    "    def forward(self, input):\n",
    "        x_down1 = self.down1(input) \n",
    "        x_down2 = self.down2(x_down1) \n",
    "        x_down3 = self.down3(x_down2) \n",
    "\n",
    "        x_dehaze = self.dehaze_block(x_down3)\n",
    "\n",
    "        x_out_mix = self.mix1(x_down3, x_dehaze)\n",
    "        x_up1 = self.up1(x_out_mix) \n",
    "        x_up1_mix = self.mix2(x_down2, x_up1)\n",
    "        x_up2 = self.up2(x_up1_mix) \n",
    "        out = self.up3(x_up2) \n",
    "\n",
    "        return out"
   ]
  },
  {
   "cell_type": "markdown",
   "id": "1acf8fcb",
   "metadata": {},
   "source": [
    "## Discriminator"
   ]
  },
  {
   "cell_type": "code",
   "execution_count": 9,
   "id": "7bf709fd",
   "metadata": {},
   "outputs": [],
   "source": [
    "import random\n",
    "import torch\n",
    "\n",
    "def gen_hole_area(size, mask_size):\n",
    "    mask_w, mask_h = mask_size\n",
    "    harea_w, harea_h = size\n",
    "    offset_x = random.randint(0, mask_w - harea_w)\n",
    "    offset_y = random.randint(0, mask_h - harea_h)\n",
    "    return ((offset_x, offset_y), (harea_w, harea_h))\n",
    "\n",
    "\n",
    "def crop(x, area):\n",
    "    xmin, ymin = area[0]\n",
    "    w, h = area[1]\n",
    "    return x[:, :, ymin: ymin + h, xmin: xmin + w]"
   ]
  },
  {
   "cell_type": "code",
   "execution_count": 10,
   "id": "bae8cac7",
   "metadata": {},
   "outputs": [],
   "source": [
    "class DiscModule(nn.Module):\n",
    "    def __init__(self,in_channels=3,out_channels=1):\n",
    "        super(DiscModule, self).__init__()\n",
    "\n",
    "        norm_layer = functools.partial(nn.InstanceNorm2d, affine=False, track_running_stats=False)\n",
    "\n",
    "        model =    [\n",
    "                        nn.Conv2d(in_channels, 64, kernel_size=4, stride=2, padding=1),             \n",
    "                        nn.LeakyReLU(0.2,True),\n",
    "\n",
    "                        nn.Conv2d(64, 128, kernel_size=4, stride=2, padding=1, bias=True),\n",
    "                        norm_layer(128),\n",
    "                        nn.LeakyReLU(0.2, True),\n",
    "\n",
    "                        nn.Conv2d(128, 256, kernel_size=4, stride=2, padding=1, bias=True),\n",
    "                        norm_layer(256),\n",
    "                        nn.LeakyReLU(0.2, True),\n",
    "\n",
    "                        nn.Conv2d(256, 512, kernel_size=4, stride=1, padding=1, bias=True),\n",
    "                        norm_layer(512),\n",
    "                        nn.LeakyReLU(0.2, True),\n",
    "\n",
    "                        nn.Conv2d(512, out_channels, kernel_size=4, stride=1, padding=1)           \n",
    "                    ]\n",
    "        self.model = nn.Sequential(*model)\n",
    "\n",
    "    def forward(self, input):\n",
    "\n",
    "        return torch.flatten(self.model(input))\n",
    "\n",
    "\n",
    "class Discriminator(nn.Module):\n",
    "    def __init__(self):\n",
    "        super(Discriminator, self).__init__()\n",
    "        self.model_ld = DiscModule()\n",
    "        self.model_gd = DiscModule()\n",
    "\n",
    "        self.act1 = nn.Sigmoid()\n",
    "\n",
    "    def forward(self, x):\n",
    "        x_c1 = crop(x,gen_hole_area((opt.ld_input_size, opt.ld_input_size),(x.shape[3], x.shape[2])))\n",
    "        x_c2 = crop(x,gen_hole_area((opt.ld_input_size, opt.ld_input_size),(x.shape[3], x.shape[2])))\n",
    "        x_c3 = crop(x,gen_hole_area((opt.ld_input_size, opt.ld_input_size),(x.shape[3], x.shape[2])))\n",
    "\n",
    "        x_gd = self.model_ld(x)\n",
    "        x_ld1 = self.model_gd(x_c1)\n",
    "        x_ld2 = self.model_gd(x_c2)\n",
    "        x_ld3 = self.model_gd(x_c3)\n",
    "\n",
    "        out = self.act1((torch.cat((x_gd, x_ld1, x_ld2, x_ld3),-1)))\n",
    "        return out"
   ]
  },
  {
   "cell_type": "markdown",
   "id": "fe298e10",
   "metadata": {},
   "source": [
    "## Dataset"
   ]
  },
  {
   "cell_type": "code",
   "execution_count": 11,
   "id": "ebbda849",
   "metadata": {},
   "outputs": [
    {
     "name": "stdout",
     "output_type": "stream",
     "text": [
      "1\n",
      "/Users/santoshs2/Documents/GitHub/computer-vision-python\n",
      "crop size 256\n",
      "crop size whole img\n",
      "/Users/santoshs2/Documents/GitHub/computer-vision-python\n"
     ]
    }
   ],
   "source": [
    "sys.path.append('.')\n",
    "sys.path.append('..')\n",
    "import numpy as np\n",
    "import torch\n",
    "import random\n",
    "from PIL import Image\n",
    "\n",
    "BS=opt.bs\n",
    "print(BS)\n",
    "if opt.crop:\n",
    "    crop_size=opt.crop_size\n",
    "\n",
    "\n",
    "class UnNormalize(object):\n",
    "    def __init__(self, mean, std):\n",
    "        self.mean = mean\n",
    "        self.std = std\n",
    "\n",
    "    def __call__(self, tensor):\n",
    "        for t, m, s in zip(tensor, self.mean, self.std):\n",
    "            t.mul_(s).add_(m)\n",
    "        return tensor\n",
    "\n",
    "def tensorShow(tensor,titles=None):\n",
    "\n",
    "        fig=plt.figure()\n",
    "        img = make_grid(tensor)\n",
    "        npimg = img.numpy()\n",
    "        ax = fig.add_subplot(211)\n",
    "        ax.imshow(np.transpose(npimg, (1, 2, 0)))\n",
    "        ax.set_title(titles)\n",
    "        plt.show()\n",
    "\n",
    "class RESIDE_Dataset(data.Dataset):\n",
    "    def __init__(self,path,train,size=crop_size,format='.png'):\n",
    "    \n",
    "        super(RESIDE_Dataset,self).__init__()\n",
    "        self.size=size\n",
    "        print('crop size',size)\n",
    "        self.train=train\n",
    "        self.format=format\n",
    "        self.haze_imgs_dir=os.listdir(os.path.join(path,'hazy'))\n",
    "        self.haze_imgs=[os.path.join(path,'hazy',img) for img in self.haze_imgs_dir]\n",
    "        self.clear_dir=os.path.join(path,'clear')\n",
    "        self.transforms = self.get_transforms()  \n",
    "        self.transformstest = self.get_transforms_test()\n",
    "\n",
    "    def __getitem__(self, index):\n",
    "\n",
    "        haze=Image.open(self.haze_imgs[index])\n",
    "        img=self.haze_imgs[index]\n",
    "        id=img.split('/')[-1].split('_')[0]\n",
    "        if self.train:\n",
    "          clear_name=id+self.format\n",
    "          clear=Image.open(os.path.join(self.clear_dir,clear_name))\n",
    "          hazeimage = self.transforms(haze.convert(\"RGB\"))\n",
    "          clearimage = self.transforms(clear.convert(\"RGB\"))\n",
    "        else :\n",
    "          clear_name=id+'.png'\n",
    "          clear=Image.open(os.path.join(self.clear_dir,clear_name))\n",
    "          w, h = clear.size\n",
    "          clear = clear.resize((w-(w%4),h-(h%4)))\n",
    "          haze = haze.resize((w-(w%4),h-(h%4)))\n",
    "          hazeimage = self.transformstest(haze.convert(\"RGB\"))\n",
    "          clearimage = self.transformstest(clear.convert(\"RGB\"))\n",
    "\n",
    "        return hazeimage,clearimage\n",
    "\n",
    "    def get_transforms(self, resize_to=350, interpolation=Image.BICUBIC):\n",
    "        all_transforms=[]\n",
    "        crop_s=opt.crop_size\n",
    "        all_transforms.append(tfs.Resize(size=(resize_to,resize_to), interpolation=interpolation))\n",
    "        all_transforms.append(tfs.RandomCrop(crop_s))\n",
    "        all_transforms.append(tfs.ToTensor())\n",
    "        all_transforms.append(tfs.Normalize( (0.5, 0.5, 0.5), (0.5, 0.5, 0.5) ))\n",
    "        return tfs.Compose(all_transforms)\n",
    "\n",
    "    def get_transforms_test(self, interpolation=Image.BICUBIC):\n",
    "        all_transforms=[]\n",
    "        all_transforms.append(tfs.ToTensor())\n",
    "        all_transforms.append(tfs.Normalize( (0.5, 0.5, 0.5), (0.5, 0.5, 0.5) ))\n",
    "        return tfs.Compose(all_transforms)\n",
    "\n",
    "    def __len__(self):\n",
    "        return len(self.haze_imgs)\n",
    "\n",
    "pwd=os.getcwd()\n",
    "print(pwd)\n",
    "path='./datasets/SOTS'  #path to your 'data' folder\n",
    "\n",
    "ITS_train_loader=DataLoader(dataset=RESIDE_Dataset(path+'/indoor',train=True,size=opt.crop_size,format='.png'),batch_size=opt.bs,shuffle=True,num_workers=opt.num_workers,pin_memory=True)\n",
    "ITS_test_loader=DataLoader(dataset=RESIDE_Dataset(path+'/outdoor',train=False,size='whole img',format='.png'),batch_size=1,shuffle=False,pin_memory=True)\n",
    "\n",
    "class Eval_Dataset(data.Dataset):\n",
    "    def __init__(self,path,train,size=crop_size,format='.png'):\n",
    "    \n",
    "        super(Eval_Dataset,self).__init__()\n",
    "        self.size=size\n",
    "        print('crop size',size)\n",
    "        self.train=train\n",
    "        self.format=format\n",
    "        self.haze_imgs_dir=os.listdir(path)\n",
    "        self.haze_imgs=[os.path.join(path,img) for img in self.haze_imgs_dir]\n",
    "        # self.transforms = self.get_transforms()  \n",
    "        self.transformstest = self.get_transforms_test()\n",
    "\n",
    "    def __getitem__(self, index):\n",
    "        haze=Image.open(self.haze_imgs[index])\n",
    "        w, h = haze.size\n",
    "        haze = haze.resize((w-(w%4),h-(h%4)))\n",
    "        hazeimage = self.transformstest(haze.convert(\"RGB\"))\n",
    "        return hazeimage\n",
    "\n",
    "    def get_transforms_test(self, interpolation=Image.BICUBIC):\n",
    "        all_transforms=[]\n",
    "        all_transforms.append(tfs.ToTensor())\n",
    "        all_transforms.append(tfs.Normalize( (0.5, 0.5, 0.5), (0.5, 0.5, 0.5) ))\n",
    "        return tfs.Compose(all_transforms)\n",
    "\n",
    "    def __len__(self):\n",
    "        return len(self.haze_imgs)\n",
    "\n",
    "pwd=os.getcwd()\n",
    "print(pwd)"
   ]
  },
  {
   "cell_type": "code",
   "execution_count": 12,
   "id": "5db93ed2",
   "metadata": {},
   "outputs": [],
   "source": [
    "from torchvision import models\n",
    "from torch.autograd import Variable\n",
    "from PIL import Image\n",
    "from collections import namedtuple\n",
    "\n",
    "class Vgg16(torch.nn.Module):\n",
    "    def __init__(self):\n",
    "        super(Vgg16, self).__init__()\n",
    "        features = list(models.vgg16(pretrained=True).features)[:]\n",
    "        self.features = nn.ModuleList(features).eval()\n",
    "\n",
    "    def forward(self, x):\n",
    "        results = []\n",
    "        for ii, model in enumerate(self.features):\n",
    "            x = model(x)\n",
    "            # print(x.shape)\n",
    "            if ii in {16,30}:\n",
    "                results.append(x)\n",
    "\n",
    "        vgg_outputs = namedtuple(\"VggOutputs\", ['mp_2', 'mp_5'])\n",
    "        return vgg_outputs(*results)\n",
    "     "
   ]
  },
  {
   "cell_type": "markdown",
   "id": "86dd7eb3",
   "metadata": {},
   "source": [
    "## Train"
   ]
  },
  {
   "cell_type": "code",
   "execution_count": 13,
   "id": "11fbbb22",
   "metadata": {},
   "outputs": [
    {
     "name": "stderr",
     "output_type": "stream",
     "text": [
      "/opt/miniconda3/envs/cv/lib/python3.11/site-packages/torchvision/models/_utils.py:208: UserWarning: The parameter 'pretrained' is deprecated since 0.13 and may be removed in the future, please use 'weights' instead.\n",
      "  warnings.warn(\n",
      "/opt/miniconda3/envs/cv/lib/python3.11/site-packages/torchvision/models/_utils.py:223: UserWarning: Arguments other than a weight enum or `None` for 'weights' are deprecated since 0.13 and may be removed in the future. The current behavior is equivalent to passing `weights=VGG16_Weights.IMAGENET1K_V1`. You can also use `weights=VGG16_Weights.DEFAULT` to get the most up-to-date weights.\n",
      "  warnings.warn(msg)\n"
     ]
    }
   ],
   "source": [
    "def lr_schedule_cosdecay(t,T = opt.steps,init_lr=opt.lr):\n",
    "\tlr=0.5*(1+math.cos(t*math.pi/T))*init_lr\n",
    "\treturn lr\n",
    "\n",
    "vgg = Vgg16().eval()\n",
    "vgg.to(opt.device)\n",
    "\n",
    "def train_fn(disc_C, disc_H, gen_H, gen_C, train_loader, test_loader, opt_disc, opt_gen, l1, mse, just_eval=False):\n",
    "    start_step = 0\n",
    "    max_ssim = 0\n",
    "    max_psnr = 0\n",
    "    ssims = []\n",
    "    psnrs = []\n",
    "    g_scaler = GradScaler()\n",
    "    d_scaler = GradScaler()\n",
    "    writer = SummaryWriter(f'./runs/aglcgan_sots_pytorch')\n",
    "    if opt.load_model:\n",
    "        print(\"=> Loading checkpoint\")\n",
    "        checkpoint = torch.load(opt.checkpoint_model_load, map_location=opt.device)\n",
    "        gen_C.load_state_dict(checkpoint[\"gen_C\"])\n",
    "        gen_H.load_state_dict(checkpoint[\"gen_H\"])\n",
    "        disc_C.load_state_dict(checkpoint[\"disc_C\"])\n",
    "        disc_H.load_state_dict(checkpoint[\"disc_H\"])\n",
    "        opt_gen.load_state_dict(checkpoint[\"opt_gen\"])\n",
    "        opt_disc.load_state_dict(checkpoint[\"opt_disc\"])\n",
    "        start_step = checkpoint['start_step']\n",
    "        max_ssim = checkpoint['max_ssim']\n",
    "        max_psnr = checkpoint['max_psnr']\n",
    "        psnrs = checkpoint['psnrs']\n",
    "        ssims = checkpoint['ssims']\n",
    "\n",
    "    if(just_eval):\n",
    "      print(f'just eval ---')\n",
    "      eval_loader=DataLoader(dataset=Eval_Dataset('./data/aglcgan_sots_pytorch/input',train=False,size='whole img'),batch_size=1,shuffle=False,pin_memory=True)\n",
    "      Eval(gen_C,eval_loader)\n",
    "      return\n",
    "\n",
    "    if(opt.load_model):\n",
    "\n",
    "        print(f'starting training at {start_step} ---')\n",
    "\n",
    "    else :\n",
    "        print('train from scratch ---')\n",
    "\n",
    "    # C_reals = 0\n",
    "    # C_fakes = 0\n",
    "    loop = tqdm(range(start_step+1,opt.steps))\n",
    "\n",
    "    train_iterator = iter(train_loader)\n",
    "\n",
    "    for idx in loop:\n",
    "        lr=lr_schedule_cosdecay(idx)\n",
    "        for param_group in opt_gen.param_groups:\n",
    "            param_group[\"lr\"] = lr\n",
    "\n",
    "        haze, clean = next(train_iterator)\n",
    "        haze = haze.to(opt.device)\n",
    "        clean = clean.to(opt.device)\n",
    "        # with autocast():\n",
    "        fake_clean = gen_C(haze)\n",
    "        D_C_real = disc_C(clean)\n",
    "        D_C_fake = disc_C(fake_clean.detach())\n",
    "        # C_reals += D_C_real.mean().item()\n",
    "        # C_fakes += D_C_fake.mean().item()\n",
    "        D_C_real_loss = mse(D_C_real, torch.ones_like(D_C_real))\n",
    "        D_C_fake_loss = mse(D_C_fake, torch.zeros_like(D_C_fake))\n",
    "        D_C_loss = D_C_real_loss + D_C_fake_loss\n",
    "\n",
    "        fake_haze = gen_H(clean)\n",
    "        D_H_real = disc_H(haze)\n",
    "        D_H_fake = disc_H(fake_haze.detach())\n",
    "        D_H_real_loss = mse(D_H_real, torch.ones_like(D_H_real))\n",
    "        D_H_fake_loss = mse(D_H_fake, torch.zeros_like(D_H_fake))\n",
    "        D_H_loss = D_H_real_loss + D_H_fake_loss\n",
    "\n",
    "        D_loss = (D_H_loss + D_C_loss)/2\n",
    "\n",
    "        # opt_disc.zero_grad()\n",
    "        # d_scaler.scale(D_loss).backward()\n",
    "        # d_scaler.step(opt_disc)\n",
    "        # d_scaler.update()\n",
    "        opt_disc.zero_grad()\n",
    "        D_loss.backward()\n",
    "        opt_disc.step()\n",
    "\n",
    "        # with autocast():\n",
    "        # adversarial loss for both generators\n",
    "        D_C_fake = disc_C(fake_clean)\n",
    "        D_H_fake = disc_H(fake_haze)\n",
    "        loss_G_C = mse(D_C_fake, torch.ones_like(D_C_fake))\n",
    "        loss_G_H = mse(D_H_fake, torch.ones_like(D_H_fake))\n",
    "\n",
    "        # cycle loss\n",
    "        cycle_haze = gen_H(fake_clean)\n",
    "        cycle_clean = gen_C(fake_haze)\n",
    "        cycle_haze_loss = l1(haze, cycle_haze)\n",
    "        cycle_clean_loss = l1(clean, cycle_clean)\n",
    "\n",
    "        # identity loss (remove these for efficiency if you set lambda_identity=0)\n",
    "        identity_haze = gen_H(haze)\n",
    "        identity_clean = gen_C(clean)\n",
    "        identity_haze_loss = l1(haze, identity_haze)\n",
    "        identity_clean_loss = l1(clean, identity_clean)\n",
    "\n",
    "        # perpectual cyclic consistency loss\n",
    "        scaler = tfs.Resize((224, 224))\n",
    "        for param in vgg.parameters():\n",
    "          param.requires_grad = False\n",
    "\n",
    "        fhaze_sc = vgg(scaler(haze))\n",
    "        fcycle_haze_sc = vgg(scaler(cycle_haze))\n",
    "        fclean_sc = vgg(scaler(clean))\n",
    "        fcycle_clean_sc = vgg(scaler(cycle_clean))\n",
    "\n",
    "        pcm1 = mse(fhaze_sc.mp_2,fcycle_haze_sc.mp_2)\n",
    "        pcm2 = mse(fhaze_sc.mp_5,fcycle_haze_sc.mp_5)\n",
    "        pcm3 = mse(fclean_sc.mp_2,fcycle_clean_sc.mp_2)\n",
    "        pcm4 = mse(fclean_sc.mp_5,fcycle_clean_sc.mp_5)\n",
    "\n",
    "        perceptual_loss = (pcm1 + pcm2 + pcm3 + pcm4) \n",
    "    \n",
    "        # print(perceptual_loss)\n",
    "        # add all togethor\n",
    "        G_loss = (\n",
    "            loss_G_C * opt.lambda_gen\n",
    "            + loss_G_H * opt.lambda_gen\n",
    "            + cycle_haze_loss * opt.lambda_cycle\n",
    "            + cycle_clean_loss * opt.lambda_cycle\n",
    "            + identity_clean_loss * opt.lambda_identity\n",
    "            + identity_haze_loss * opt.lambda_identity\n",
    "            + perceptual_loss * opt.lambda_pc\n",
    "        )\n",
    "\n",
    "        opt_gen.zero_grad()\n",
    "        G_loss.backward()\n",
    "        opt_gen.step()\n",
    "        writer.add_scalar('data/loss_G',G_loss,idx)\n",
    "        # writer.add_scalar('data/loss_Gen_C',loss_G_C,idx)\n",
    "        # writer.add_scalar('data/loss_cycle_clean',cycle_clean_loss,idx)\n",
    "        # writer.add_scalar('data/loss_clean_identity',identity_clean_loss,idx)\n",
    "        writer.add_scalar('data/loss_Disc',D_loss,idx)\n",
    "        writer.add_scalar('data/loss_P_C',perceptual_loss,idx)\n",
    "        \n",
    "\n",
    "        if idx % opt.eval_step == 0:\n",
    "            # save_image(fake_clean*0.5+0.5, f\"saved_images/clean_{idx}.png\")\n",
    "            # save_image(fake_haze*0.5+0.5, f\"saved_images/haze_{idx}.png\")\n",
    "            unorm = UnNormalize(mean=(0.5, 0.5, 0.5),\n",
    "                                std=(0.5, 0.5, 0.5))\n",
    "            # img_grid = vutils.make_grid([torch.squeeze(haze.cpu()[0]), torch.squeeze(\n",
    "            #     fake_clean.cpu()[0]), torch.squeeze(clean.cpu()[0]), torch.squeeze(fake_haze.cpu()[0])])\n",
    "            img_grid = vutils.make_grid([torch.squeeze(unorm(haze.detach()).cpu()[0]), torch.squeeze(\n",
    "                unorm(fake_clean.detach()).cpu()[0]), torch.squeeze(unorm(clean.detach()).cpu()[0]), torch.squeeze(unorm(fake_haze.detach()).cpu()[0])])\n",
    "            save_image(img_grid, f\"./data/aglcgan_sots_pytorch/output/img_{idx}.png\")\n",
    "            # save_image(img_grid, f\"saved_images/img_{epoch}_{idx}.png\")\n",
    "            # save_image(fake_clean, f\"saved_images/clean_{epoch}_{idx}.png\")\n",
    "            # save_image(fake_z, f\"saved_images/haze_{epoch}_{idx}.png\")\n",
    "            # tensorShow(clean.detach().cpu())\n",
    "            # tensorShow(unorm(haze).detach().cpu())\n",
    "\n",
    "        if idx % (10*opt.eval_step) == 0 and idx != 0 :\n",
    "            with torch.no_grad():\n",
    "                ssim_eval, psnr_eval = test(gen_C, test_loader, max_psnr, max_ssim, idx)\n",
    "            print(f'\\n iter :{idx} |ssim:{ssim_eval:.4f}| psnr:{psnr_eval:.4f}')\n",
    "\n",
    "            writer.add_scalar('data/ssim',ssim_eval,idx)\n",
    "            writer.add_scalar('data/psnr',psnr_eval,idx)\n",
    "            writer.add_scalars('group',{\n",
    "                'ssim':ssim_eval,\n",
    "                'psnr':psnr_eval,\n",
    "                'loss':G_loss\n",
    "            },idx)\n",
    "            \n",
    "            ssims.append(ssim_eval)\n",
    "            psnrs.append(psnr_eval)\n",
    "            # if ssim_eval > max_ssim or psnr_eval > max_psnr :\n",
    "            if True :\n",
    "                print(\"sim eval\")\n",
    "                max_ssim=max(max_ssim,ssim_eval)\n",
    "                max_psnr=max(max_psnr,psnr_eval)\n",
    "                save_checkpoint(gen_C, gen_H, disc_C, disc_H, opt_gen, opt_disc, idx,\n",
    "                        max_ssim, max_psnr, ssims, psnrs, filename=opt.checkpoint_model)\n",
    "\n",
    "                print(f'\\n model saved at :{idx} | max_psnr:{max_psnr:.4f}|max_ssim:{max_ssim:.4f}')\n",
    "\n",
    "        loop.set_postfix(iter = idx,G_loss = G_loss.item(),D_loss = D_loss.item(),cycle_H_loss = cycle_haze_loss.item(),cycle_C_loss = cycle_clean_loss.item(),G_C_loss = loss_G_C.item(),G_H_loss = loss_G_H.item(),I_H_loss = identity_haze_loss.item(),I_loss = identity_clean_loss.item(),PC_loss = perceptual_loss.item() , max_ssim = max_ssim, max_psnr = max_psnr)\n",
    "\n",
    "        if opt.save_model:\n",
    "            save_checkpoint(gen_C, gen_H, disc_C, disc_H, opt_gen, opt_disc, idx, max_ssim, max_psnr, ssims, psnrs, filename=opt.checkpoint_model)\n",
    "\n",
    "def test(gen_C, test_loader, max_psnr, max_ssim, idx):\n",
    "    gen_C.eval()\n",
    "    if device==\"cuda\":\n",
    "        torch.cuda.empty_cache()\n",
    "    ssims = []\n",
    "    psnrs = []\n",
    "    s = True\n",
    "    val_loop = tqdm(test_loader, leave=True)\n",
    "    for i, (inputs, targets) in enumerate(val_loop):\n",
    "        inputs = inputs.to(opt.device)\n",
    "        targets = targets.to(opt.device)\n",
    "        pred = gen_C(inputs)\n",
    "        unorm = UnNormalize(mean=(0.5, 0.5, 0.5),std=(0.5, 0.5, 0.5))\n",
    "        ts = vutils.make_grid([torch.squeeze(unorm(inputs.detach()).cpu()[0]), torch.squeeze(unorm(targets.detach()).cpu()[0]), torch.squeeze(unorm(pred.detach()).cpu()[0])])\n",
    "      \n",
    "        # ts = vutils.make_grid([torch.squeeze(inputs.cpu()[0]), torch.squeeze(targets.cpu()[0]), torch.squeeze(pred.cpu()[0])])\n",
    "        vutils.save_image(ts, f'./data/aglcgan_sots_pytorch/output/{i}_testimg.png')\n",
    "        ssim1 = ssim(unorm(pred.detach()), unorm(targets.detach())).item()\n",
    "        psnr1 = psnr(unorm(pred.detach()), unorm(targets.detach()))\n",
    "        ssims.append(ssim1)\n",
    "        psnrs.append(psnr1)\n",
    "        if (psnr1 > max_psnr and ssim1 > max_ssim) and s:\n",
    "            vutils.save_image(ts, f'./data/aglcgan_sots_pytorch/output/best_picks/{idx}_ps_{psnr1:.4}_{ssim1:.4}.png')\n",
    "            s = False\n",
    "        val_loop.set_postfix(ssim = ssim1, psnr = psnr1)\n",
    "    return np.mean(ssims) ,np.mean(psnrs)\n",
    "\n",
    "def Eval(gen_C, eval_loader):\n",
    "    gen_C.eval()\n",
    "    if device==\"cuda\":\n",
    "        torch.cuda.empty_cache()\n",
    "    s = True\n",
    "    val_loop = tqdm(eval_loader, leave=True)\n",
    "    for i, (inputs) in enumerate(val_loop):\n",
    "        inputs = inputs.to(opt.device)\n",
    "        pred = gen_C(inputs)\n",
    "        unorm = UnNormalize(mean=(0.5, 0.5, 0.5),std=(0.5, 0.5, 0.5))\n",
    "        vutils.save_image(torch.squeeze(unorm(pred.detach()).cpu()[0]), f'./data/aglcgan_sots_pytorch/output/{i}_testimg.png')\n"
   ]
  },
  {
   "cell_type": "code",
   "execution_count": 14,
   "id": "a94c81be",
   "metadata": {},
   "outputs": [],
   "source": [
    "def main():\n",
    "\n",
    "    disc_C = Discriminator().to(opt.device)\n",
    "    disc_H = Discriminator().to(opt.device)\n",
    "    gen_H = Generator(img_channels=3).to(opt.device)\n",
    "    gen_C = Generator(img_channels=3).to(opt.device)\n",
    "    if opt.device=='cuda':\n",
    "        disc_C=torch.nn.DataParallel(disc_C)\n",
    "        disc_H=torch.nn.DataParallel(disc_H)\n",
    "        gen_H=torch.nn.DataParallel(gen_H)\n",
    "        gen_C=torch.nn.DataParallel(gen_C)\n",
    "        cudnn.benchmark=True\n",
    "\n",
    "    opt_disc = optim.Adam(\n",
    "        list(disc_C.parameters()) + list(disc_H.parameters()),\n",
    "        lr=opt.lr,\n",
    "        betas=(0.5, 0.999),\n",
    "    )\n",
    "\n",
    "    opt_gen = optim.Adam(\n",
    "        list(gen_H.parameters()) + list(gen_C.parameters()),\n",
    "        lr=opt.lr,\n",
    "        betas=(0.5, 0.999),\n",
    "    )\n",
    "\n",
    "    L1 = nn.L1Loss()\n",
    "    mse = nn.MSELoss()\n",
    "    \n",
    "    # set just_eval = False for training \n",
    "    train_fn(disc_C, disc_H, gen_H, gen_C, ITS_train_loader, ITS_test_loader,\n",
    "                 opt_disc, opt_gen, L1, mse, just_eval=False)"
   ]
  },
  {
   "cell_type": "code",
   "execution_count": 15,
   "id": "650db611",
   "metadata": {},
   "outputs": [
    {
     "name": "stderr",
     "output_type": "stream",
     "text": [
      "/var/folders/bg/lmk1vp_s5qqgqvw65qf1zq_sdyfk87/T/ipykernel_86423/2336217351.py:14: FutureWarning: `torch.cuda.amp.GradScaler(args...)` is deprecated. Please use `torch.amp.GradScaler('cuda', args...)` instead.\n",
      "  g_scaler = GradScaler()\n",
      "/opt/miniconda3/envs/cv/lib/python3.11/site-packages/torch/amp/grad_scaler.py:136: UserWarning: torch.cuda.amp.GradScaler is enabled, but CUDA is not available.  Disabling.\n",
      "  warnings.warn(\n",
      "/var/folders/bg/lmk1vp_s5qqgqvw65qf1zq_sdyfk87/T/ipykernel_86423/2336217351.py:15: FutureWarning: `torch.cuda.amp.GradScaler(args...)` is deprecated. Please use `torch.amp.GradScaler('cuda', args...)` instead.\n",
      "  d_scaler = GradScaler()\n"
     ]
    },
    {
     "name": "stdout",
     "output_type": "stream",
     "text": [
      "train from scratch ---\n"
     ]
    },
    {
     "name": "stderr",
     "output_type": "stream",
     "text": [
      "  0%|          | 0/60000 [00:00<?, ?it/s]/opt/miniconda3/envs/cv/lib/python3.11/site-packages/torch/utils/data/dataloader.py:683: UserWarning: 'pin_memory' argument is set as true but not supported on MPS now, then device pinned memory won't be used.\n",
      "  warnings.warn(warn_msg)\n",
      "/opt/miniconda3/envs/cv/lib/python3.11/site-packages/torch/nn/modules/module.py:1842: FutureWarning: Using a non-full backward hook when the forward contains multiple autograd Nodes is deprecated and will be removed in future versions. This hook will be missing some grad_input. Please use register_full_backward_hook to get the documented behavior.\n",
      "  self._maybe_warn_non_full_backward_hook(args, result, grad_fn)\n",
      "/opt/miniconda3/envs/cv/lib/python3.11/site-packages/torch/functional.py:554: UserWarning: torch.meshgrid: in an upcoming release, it will be required to pass the indexing argument. (Triggered internally at /Users/runner/work/pytorch/pytorch/pytorch/aten/src/ATen/native/TensorShape.cpp:4316.)\n",
      "  return _VF.meshgrid(tensors, **kwargs)  # type: ignore[attr-defined]\n",
      "  0%|          | 0/60000 [00:16<?, ?it/s, D_loss=0.522, G_C_loss=0.277, G_H_loss=0.28, G_loss=18.5, I_H_loss=0.521, I_loss=0.418, PC_loss=31.7, cycle_C_loss=0.43, cycle_H_loss=0.518, iter=1, max_psnr=0, max_ssim=0]"
     ]
    },
    {
     "name": "stdout",
     "output_type": "stream",
     "text": [
      "=> Saving checkpoint\n"
     ]
    },
    {
     "name": "stderr",
     "output_type": "stream",
     "text": [
      "  0%|          | 1/60000 [00:33<303:40:39, 18.22s/it, D_loss=0.501, G_C_loss=0.268, G_H_loss=0.308, G_loss=19.5, I_H_loss=0.448, I_loss=0.579, PC_loss=30.9, cycle_C_loss=0.566, cycle_H_loss=0.445, iter=2, max_psnr=0, max_ssim=0]"
     ]
    },
    {
     "name": "stdout",
     "output_type": "stream",
     "text": [
      "=> Saving checkpoint\n"
     ]
    },
    {
     "name": "stderr",
     "output_type": "stream",
     "text": [
      "  0%|          | 2/60000 [00:50<290:18:32, 17.42s/it, D_loss=0.505, G_C_loss=0.296, G_H_loss=0.32, G_loss=21.2, I_H_loss=0.538, I_loss=0.644, PC_loss=26.4, cycle_C_loss=0.621, cycle_H_loss=0.523, iter=3, max_psnr=0, max_ssim=0] "
     ]
    },
    {
     "name": "stdout",
     "output_type": "stream",
     "text": [
      "=> Saving checkpoint\n"
     ]
    },
    {
     "name": "stderr",
     "output_type": "stream",
     "text": [
      "  0%|          | 3/60000 [01:07<288:19:36, 17.30s/it, D_loss=0.536, G_C_loss=0.294, G_H_loss=0.335, G_loss=14.6, I_H_loss=0.309, I_loss=0.429, PC_loss=25.7, cycle_C_loss=0.428, cycle_H_loss=0.284, iter=4, max_psnr=0, max_ssim=0]"
     ]
    },
    {
     "name": "stdout",
     "output_type": "stream",
     "text": [
      "=> Saving checkpoint\n"
     ]
    },
    {
     "name": "stderr",
     "output_type": "stream",
     "text": [
      "  0%|          | 4/60000 [01:25<291:09:11, 17.47s/it, D_loss=0.497, G_C_loss=0.293, G_H_loss=0.324, G_loss=14.4, I_H_loss=0.282, I_loss=0.472, PC_loss=22.9, cycle_C_loss=0.455, cycle_H_loss=0.252, iter=5, max_psnr=0, max_ssim=0]"
     ]
    },
    {
     "name": "stdout",
     "output_type": "stream",
     "text": [
      "=> Saving checkpoint\n"
     ]
    },
    {
     "name": "stderr",
     "output_type": "stream",
     "text": [
      "  0%|          | 5/60000 [01:43<292:51:25, 17.57s/it, D_loss=0.486, G_C_loss=0.307, G_H_loss=0.305, G_loss=13.2, I_H_loss=0.334, I_loss=0.32, PC_loss=23.6, cycle_C_loss=0.305, cycle_H_loss=0.326, iter=6, max_psnr=0, max_ssim=0] "
     ]
    },
    {
     "name": "stdout",
     "output_type": "stream",
     "text": [
      "=> Saving checkpoint\n"
     ]
    },
    {
     "name": "stderr",
     "output_type": "stream",
     "text": [
      "  0%|          | 6/60000 [02:00<291:34:49, 17.50s/it, D_loss=0.475, G_C_loss=0.315, G_H_loss=0.29, G_loss=12.2, I_H_loss=0.309, I_loss=0.259, PC_loss=25.8, cycle_C_loss=0.244, cycle_H_loss=0.315, iter=7, max_psnr=0, max_ssim=0]"
     ]
    },
    {
     "name": "stdout",
     "output_type": "stream",
     "text": [
      "=> Saving checkpoint\n"
     ]
    },
    {
     "name": "stderr",
     "output_type": "stream",
     "text": [
      "  0%|          | 7/60000 [02:18<292:43:09, 17.57s/it, D_loss=0.485, G_C_loss=0.334, G_H_loss=0.306, G_loss=15, I_H_loss=0.466, I_loss=0.311, PC_loss=17.6, cycle_C_loss=0.332, cycle_H_loss=0.476, iter=8, max_psnr=0, max_ssim=0] "
     ]
    },
    {
     "name": "stdout",
     "output_type": "stream",
     "text": [
      "=> Saving checkpoint\n"
     ]
    },
    {
     "name": "stderr",
     "output_type": "stream",
     "text": [
      "  0%|          | 8/60000 [02:34<290:53:18, 17.46s/it, D_loss=0.494, G_C_loss=0.306, G_H_loss=0.292, G_loss=13.5, I_H_loss=0.212, I_loss=0.428, PC_loss=25.4, cycle_C_loss=0.443, cycle_H_loss=0.21, iter=9, max_psnr=0, max_ssim=0]"
     ]
    },
    {
     "name": "stdout",
     "output_type": "stream",
     "text": [
      "=> Saving checkpoint\n"
     ]
    },
    {
     "name": "stderr",
     "output_type": "stream",
     "text": [
      "  0%|          | 9/60000 [02:51<287:23:10, 17.25s/it, D_loss=0.503, G_C_loss=0.299, G_H_loss=0.287, G_loss=13.9, I_H_loss=0.236, I_loss=0.359, PC_loss=38.6, cycle_C_loss=0.345, cycle_H_loss=0.248, iter=10, max_psnr=0, max_ssim=0]"
     ]
    },
    {
     "name": "stdout",
     "output_type": "stream",
     "text": [
      "=> Saving checkpoint\n"
     ]
    },
    {
     "name": "stderr",
     "output_type": "stream",
     "text": [
      "  0%|          | 10/60000 [03:09<286:17:44, 17.18s/it, D_loss=0.49, G_C_loss=0.298, G_H_loss=0.312, G_loss=11.9, I_H_loss=0.217, I_loss=0.312, PC_loss=27.3, cycle_C_loss=0.3, cycle_H_loss=0.232, iter=11, max_psnr=0, max_ssim=0]   "
     ]
    },
    {
     "name": "stdout",
     "output_type": "stream",
     "text": [
      "=> Saving checkpoint\n"
     ]
    },
    {
     "name": "stderr",
     "output_type": "stream",
     "text": [
      "  0%|          | 11/60000 [03:26<286:42:34, 17.21s/it, D_loss=0.524, G_C_loss=0.29, G_H_loss=0.305, G_loss=9.23, I_H_loss=0.146, I_loss=0.199, PC_loss=26, cycle_C_loss=0.219, cycle_H_loss=0.153, iter=12, max_psnr=0, max_ssim=0]"
     ]
    },
    {
     "name": "stdout",
     "output_type": "stream",
     "text": [
      "=> Saving checkpoint\n"
     ]
    },
    {
     "name": "stderr",
     "output_type": "stream",
     "text": [
      "  0%|          | 12/60000 [03:43<287:49:54, 17.27s/it, D_loss=0.488, G_C_loss=0.336, G_H_loss=0.295, G_loss=12.9, I_H_loss=0.368, I_loss=0.295, PC_loss=17.7, cycle_C_loss=0.3, cycle_H_loss=0.355, iter=13, max_psnr=0, max_ssim=0]"
     ]
    },
    {
     "name": "stdout",
     "output_type": "stream",
     "text": [
      "=> Saving checkpoint\n"
     ]
    },
    {
     "name": "stderr",
     "output_type": "stream",
     "text": [
      "  0%|          | 13/60000 [04:00<284:10:35, 17.05s/it, D_loss=0.491, G_C_loss=0.316, G_H_loss=0.297, G_loss=13.6, I_H_loss=0.294, I_loss=0.286, PC_loss=24.2, cycle_C_loss=0.351, cycle_H_loss=0.355, iter=14, max_psnr=0, max_ssim=0]"
     ]
    },
    {
     "name": "stdout",
     "output_type": "stream",
     "text": [
      "=> Saving checkpoint\n"
     ]
    },
    {
     "name": "stderr",
     "output_type": "stream",
     "text": [
      "  0%|          | 14/60000 [04:18<285:14:00, 17.12s/it, D_loss=0.511, G_C_loss=0.296, G_H_loss=0.294, G_loss=13.3, I_H_loss=0.39, I_loss=0.207, PC_loss=24.5, cycle_C_loss=0.231, cycle_H_loss=0.442, iter=15, max_psnr=0, max_ssim=0] "
     ]
    },
    {
     "name": "stdout",
     "output_type": "stream",
     "text": [
      "=> Saving checkpoint\n"
     ]
    },
    {
     "name": "stderr",
     "output_type": "stream",
     "text": [
      "  0%|          | 15/60000 [04:35<287:39:31, 17.26s/it, D_loss=0.541, G_C_loss=0.285, G_H_loss=0.308, G_loss=10.9, I_H_loss=0.183, I_loss=0.345, PC_loss=17.4, cycle_C_loss=0.36, cycle_H_loss=0.175, iter=16, max_psnr=0, max_ssim=0]"
     ]
    },
    {
     "name": "stdout",
     "output_type": "stream",
     "text": [
      "=> Saving checkpoint\n"
     ]
    },
    {
     "name": "stderr",
     "output_type": "stream",
     "text": [
      "  0%|          | 16/60000 [04:52<287:48:09, 17.27s/it, D_loss=0.501, G_C_loss=0.272, G_H_loss=0.259, G_loss=11.8, I_H_loss=0.188, I_loss=0.267, PC_loss=34.9, cycle_C_loss=0.292, cycle_H_loss=0.206, iter=17, max_psnr=0, max_ssim=0]"
     ]
    },
    {
     "name": "stdout",
     "output_type": "stream",
     "text": [
      "=> Saving checkpoint\n"
     ]
    },
    {
     "name": "stderr",
     "output_type": "stream",
     "text": [
      "  0%|          | 17/60000 [05:11<289:46:52, 17.39s/it, D_loss=0.527, G_C_loss=0.283, G_H_loss=0.259, G_loss=11, I_H_loss=0.226, I_loss=0.284, PC_loss=20.1, cycle_C_loss=0.304, cycle_H_loss=0.23, iter=18, max_psnr=0, max_ssim=0]   "
     ]
    },
    {
     "name": "stdout",
     "output_type": "stream",
     "text": [
      "=> Saving checkpoint\n"
     ]
    },
    {
     "name": "stderr",
     "output_type": "stream",
     "text": [
      "  0%|          | 18/60000 [05:29<297:20:08, 17.85s/it, D_loss=0.499, G_C_loss=0.322, G_H_loss=0.273, G_loss=14.9, I_H_loss=0.467, I_loss=0.279, PC_loss=22.7, cycle_C_loss=0.295, cycle_H_loss=0.476, iter=19, max_psnr=0, max_ssim=0]"
     ]
    },
    {
     "name": "stdout",
     "output_type": "stream",
     "text": [
      "=> Saving checkpoint\n"
     ]
    },
    {
     "name": "stderr",
     "output_type": "stream",
     "text": [
      "  0%|          | 19/60000 [05:46<297:32:39, 17.86s/it, D_loss=0.499, G_C_loss=0.299, G_H_loss=0.298, G_loss=9.58, I_H_loss=0.228, I_loss=0.186, PC_loss=17.5, cycle_C_loss=0.2, cycle_H_loss=0.257, iter=20, max_psnr=0, max_ssim=0]  "
     ]
    },
    {
     "name": "stdout",
     "output_type": "stream",
     "text": [
      "=> Saving checkpoint\n"
     ]
    },
    {
     "name": "stderr",
     "output_type": "stream",
     "text": [
      "  0%|          | 20/60000 [06:03<292:22:09, 17.55s/it, D_loss=0.491, G_C_loss=0.27, G_H_loss=0.313, G_loss=9.37, I_H_loss=0.269, I_loss=0.164, PC_loss=17.1, cycle_C_loss=0.172, cycle_H_loss=0.262, iter=21, max_psnr=0, max_ssim=0]"
     ]
    },
    {
     "name": "stdout",
     "output_type": "stream",
     "text": [
      "=> Saving checkpoint\n"
     ]
    },
    {
     "name": "stderr",
     "output_type": "stream",
     "text": [
      "  0%|          | 21/60000 [06:20<289:19:07, 17.37s/it, D_loss=0.491, G_C_loss=0.278, G_H_loss=0.296, G_loss=12.6, I_H_loss=0.14, I_loss=0.447, PC_loss=21.9, cycle_C_loss=0.486, cycle_H_loss=0.143, iter=22, max_psnr=0, max_ssim=0]"
     ]
    },
    {
     "name": "stdout",
     "output_type": "stream",
     "text": [
      "=> Saving checkpoint\n"
     ]
    },
    {
     "name": "stderr",
     "output_type": "stream",
     "text": [
      "  0%|          | 22/60000 [06:39<285:03:34, 17.11s/it, D_loss=0.518, G_C_loss=0.288, G_H_loss=0.28, G_loss=14.9, I_H_loss=0.553, I_loss=0.185, PC_loss=23.9, cycle_C_loss=0.203, cycle_H_loss=0.566, iter=23, max_psnr=0, max_ssim=0]"
     ]
    },
    {
     "name": "stdout",
     "output_type": "stream",
     "text": [
      "=> Saving checkpoint\n"
     ]
    },
    {
     "name": "stderr",
     "output_type": "stream",
     "text": [
      "  0%|          | 23/60000 [06:57<298:59:30, 17.95s/it, D_loss=0.498, G_C_loss=0.298, G_H_loss=0.281, G_loss=9.14, I_H_loss=0.144, I_loss=0.219, PC_loss=23.6, cycle_C_loss=0.229, cycle_H_loss=0.152, iter=24, max_psnr=0, max_ssim=0]"
     ]
    },
    {
     "name": "stdout",
     "output_type": "stream",
     "text": [
      "=> Saving checkpoint\n"
     ]
    },
    {
     "name": "stderr",
     "output_type": "stream",
     "text": [
      "  0%|          | 24/60000 [07:14<295:14:48, 17.72s/it, D_loss=0.525, G_C_loss=0.299, G_H_loss=0.305, G_loss=8.77, I_H_loss=0.181, I_loss=0.211, PC_loss=12.5, cycle_C_loss=0.244, cycle_H_loss=0.191, iter=25, max_psnr=0, max_ssim=0]"
     ]
    },
    {
     "name": "stdout",
     "output_type": "stream",
     "text": [
      "=> Saving checkpoint\n"
     ]
    },
    {
     "name": "stderr",
     "output_type": "stream",
     "text": [
      "  0%|          | 25/60000 [07:31<292:55:19, 17.58s/it, D_loss=0.5, G_C_loss=0.305, G_H_loss=0.305, G_loss=8.25, I_H_loss=0.187, I_loss=0.146, PC_loss=17.2, cycle_C_loss=0.158, cycle_H_loss=0.207, iter=26, max_psnr=0, max_ssim=0]  "
     ]
    },
    {
     "name": "stdout",
     "output_type": "stream",
     "text": [
      "=> Saving checkpoint\n"
     ]
    },
    {
     "name": "stderr",
     "output_type": "stream",
     "text": [
      "  0%|          | 26/60000 [07:50<288:18:59, 17.31s/it, D_loss=0.509, G_C_loss=0.248, G_H_loss=0.287, G_loss=9.96, I_H_loss=0.243, I_loss=0.194, PC_loss=19.5, cycle_C_loss=0.208, cycle_H_loss=0.267, iter=27, max_psnr=0, max_ssim=0]"
     ]
    },
    {
     "name": "stdout",
     "output_type": "stream",
     "text": [
      "=> Saving checkpoint\n"
     ]
    },
    {
     "name": "stderr",
     "output_type": "stream",
     "text": [
      "  0%|          | 27/60000 [08:09<298:15:28, 17.90s/it, D_loss=0.504, G_C_loss=0.272, G_H_loss=0.296, G_loss=9.2, I_H_loss=0.253, I_loss=0.135, PC_loss=21.1, cycle_C_loss=0.156, cycle_H_loss=0.246, iter=28, max_psnr=0, max_ssim=0] "
     ]
    },
    {
     "name": "stdout",
     "output_type": "stream",
     "text": [
      "=> Saving checkpoint\n"
     ]
    },
    {
     "name": "stderr",
     "output_type": "stream",
     "text": [
      "  0%|          | 28/60000 [08:27<304:57:52, 18.31s/it, D_loss=0.487, G_C_loss=0.273, G_H_loss=0.29, G_loss=9.62, I_H_loss=0.227, I_loss=0.163, PC_loss=22.2, cycle_C_loss=0.175, cycle_H_loss=0.258, iter=29, max_psnr=0, max_ssim=0]"
     ]
    },
    {
     "name": "stdout",
     "output_type": "stream",
     "text": [
      "=> Saving checkpoint\n"
     ]
    },
    {
     "name": "stderr",
     "output_type": "stream",
     "text": [
      "  0%|          | 29/60000 [08:44<301:10:34, 18.08s/it, D_loss=0.493, G_C_loss=0.273, G_H_loss=0.281, G_loss=7.76, I_H_loss=0.114, I_loss=0.182, PC_loss=20.5, cycle_C_loss=0.193, cycle_H_loss=0.12, iter=30, max_psnr=0, max_ssim=0]"
     ]
    },
    {
     "name": "stdout",
     "output_type": "stream",
     "text": [
      "=> Saving checkpoint\n"
     ]
    },
    {
     "name": "stderr",
     "output_type": "stream",
     "text": [
      "  0%|          | 30/60000 [09:04<298:19:11, 17.91s/it, D_loss=0.507, G_C_loss=0.276, G_H_loss=0.276, G_loss=9.82, I_H_loss=0.233, I_loss=0.216, PC_loss=18.3, cycle_C_loss=0.238, cycle_H_loss=0.226, iter=31, max_psnr=0, max_ssim=0]"
     ]
    },
    {
     "name": "stdout",
     "output_type": "stream",
     "text": [
      "=> Saving checkpoint\n"
     ]
    },
    {
     "name": "stderr",
     "output_type": "stream",
     "text": [
      "  0%|          | 31/60000 [09:24<307:08:05, 18.44s/it, D_loss=0.467, G_C_loss=0.296, G_H_loss=0.295, G_loss=9.14, I_H_loss=0.301, I_loss=0.135, PC_loss=13.9, cycle_C_loss=0.139, cycle_H_loss=0.301, iter=32, max_psnr=0, max_ssim=0]"
     ]
    },
    {
     "name": "stdout",
     "output_type": "stream",
     "text": [
      "=> Saving checkpoint\n"
     ]
    },
    {
     "name": "stderr",
     "output_type": "stream",
     "text": [
      "  0%|          | 32/60000 [09:44<317:03:30, 19.03s/it, D_loss=0.494, G_C_loss=0.265, G_H_loss=0.305, G_loss=6.82, I_H_loss=0.103, I_loss=0.145, PC_loss=18.8, cycle_C_loss=0.146, cycle_H_loss=0.111, iter=33, max_psnr=0, max_ssim=0]"
     ]
    },
    {
     "name": "stdout",
     "output_type": "stream",
     "text": [
      "=> Saving checkpoint\n"
     ]
    },
    {
     "name": "stderr",
     "output_type": "stream",
     "text": [
      "  0%|          | 33/60000 [10:01<319:15:08, 19.17s/it, D_loss=0.484, G_C_loss=0.281, G_H_loss=0.279, G_loss=10.8, I_H_loss=0.23, I_loss=0.299, PC_loss=15.7, cycle_C_loss=0.326, cycle_H_loss=0.216, iter=34, max_psnr=0, max_ssim=0] "
     ]
    },
    {
     "name": "stdout",
     "output_type": "stream",
     "text": [
      "=> Saving checkpoint\n"
     ]
    },
    {
     "name": "stderr",
     "output_type": "stream",
     "text": [
      "  0%|          | 34/60000 [10:19<310:36:23, 18.65s/it, D_loss=0.48, G_C_loss=0.285, G_H_loss=0.282, G_loss=11.5, I_H_loss=0.271, I_loss=0.285, PC_loss=18.7, cycle_C_loss=0.308, cycle_H_loss=0.265, iter=35, max_psnr=0, max_ssim=0]"
     ]
    },
    {
     "name": "stdout",
     "output_type": "stream",
     "text": [
      "=> Saving checkpoint\n"
     ]
    },
    {
     "name": "stderr",
     "output_type": "stream",
     "text": [
      "  0%|          | 35/60000 [10:37<307:52:06, 18.48s/it, D_loss=0.463, G_C_loss=0.3, G_H_loss=0.296, G_loss=9.07, I_H_loss=0.143, I_loss=0.199, PC_loss=24.3, cycle_C_loss=0.217, cycle_H_loss=0.157, iter=36, max_psnr=0, max_ssim=0] "
     ]
    },
    {
     "name": "stdout",
     "output_type": "stream",
     "text": [
      "=> Saving checkpoint\n"
     ]
    },
    {
     "name": "stderr",
     "output_type": "stream",
     "text": [
      "  0%|          | 36/60000 [10:54<301:52:14, 18.12s/it, D_loss=0.491, G_C_loss=0.271, G_H_loss=0.276, G_loss=9.91, I_H_loss=0.113, I_loss=0.291, PC_loss=26.7, cycle_C_loss=0.29, cycle_H_loss=0.122, iter=37, max_psnr=0, max_ssim=0]"
     ]
    },
    {
     "name": "stdout",
     "output_type": "stream",
     "text": [
      "=> Saving checkpoint\n"
     ]
    },
    {
     "name": "stderr",
     "output_type": "stream",
     "text": [
      "  0%|          | 37/60000 [11:13<299:58:10, 18.01s/it, D_loss=0.481, G_C_loss=0.282, G_H_loss=0.301, G_loss=6.54, I_H_loss=0.122, I_loss=0.121, PC_loss=14.7, cycle_C_loss=0.133, cycle_H_loss=0.137, iter=38, max_psnr=0, max_ssim=0]"
     ]
    },
    {
     "name": "stdout",
     "output_type": "stream",
     "text": [
      "=> Saving checkpoint\n"
     ]
    },
    {
     "name": "stderr",
     "output_type": "stream",
     "text": [
      "  0%|          | 38/60000 [11:32<305:33:48, 18.35s/it, D_loss=0.458, G_C_loss=0.309, G_H_loss=0.337, G_loss=12.7, I_H_loss=0.269, I_loss=0.352, PC_loss=17.2, cycle_C_loss=0.354, cycle_H_loss=0.308, iter=39, max_psnr=0, max_ssim=0]"
     ]
    },
    {
     "name": "stdout",
     "output_type": "stream",
     "text": [
      "=> Saving checkpoint\n"
     ]
    },
    {
     "name": "stderr",
     "output_type": "stream",
     "text": [
      "  0%|          | 39/60000 [11:52<307:43:14, 18.48s/it, D_loss=0.46, G_C_loss=0.298, G_H_loss=0.341, G_loss=6.85, I_H_loss=0.0856, I_loss=0.143, PC_loss=18.9, cycle_C_loss=0.151, cycle_H_loss=0.103, iter=40, max_psnr=0, max_ssim=0]"
     ]
    },
    {
     "name": "stdout",
     "output_type": "stream",
     "text": [
      "=> Saving checkpoint\n"
     ]
    },
    {
     "name": "stderr",
     "output_type": "stream",
     "text": [
      "  0%|          | 40/60000 [12:10<312:59:00, 18.79s/it, D_loss=0.464, G_C_loss=0.293, G_H_loss=0.307, G_loss=8.54, I_H_loss=0.132, I_loss=0.175, PC_loss=25.5, cycle_C_loss=0.173, cycle_H_loss=0.153, iter=41, max_psnr=0, max_ssim=0]"
     ]
    },
    {
     "name": "stdout",
     "output_type": "stream",
     "text": [
      "=> Saving checkpoint\n"
     ]
    },
    {
     "name": "stderr",
     "output_type": "stream",
     "text": [
      "  0%|          | 41/60000 [12:29<310:44:22, 18.66s/it, D_loss=0.5, G_C_loss=0.31, G_H_loss=0.312, G_loss=12.8, I_H_loss=0.357, I_loss=0.32, PC_loss=11.3, cycle_C_loss=0.349, cycle_H_loss=0.357, iter=42, max_psnr=0, max_ssim=0]    "
     ]
    },
    {
     "name": "stdout",
     "output_type": "stream",
     "text": [
      "=> Saving checkpoint\n"
     ]
    },
    {
     "name": "stderr",
     "output_type": "stream",
     "text": [
      "  0%|          | 42/60000 [12:46<312:51:04, 18.78s/it, D_loss=0.456, G_C_loss=0.316, G_H_loss=0.344, G_loss=14.7, I_H_loss=0.469, I_loss=0.315, PC_loss=12, cycle_C_loss=0.359, cycle_H_loss=0.462, iter=43, max_psnr=0, max_ssim=0]"
     ]
    },
    {
     "name": "stdout",
     "output_type": "stream",
     "text": [
      "=> Saving checkpoint\n"
     ]
    },
    {
     "name": "stderr",
     "output_type": "stream",
     "text": [
      "  0%|          | 43/60000 [13:05<305:05:56, 18.32s/it, D_loss=0.51, G_C_loss=0.294, G_H_loss=0.329, G_loss=8.16, I_H_loss=0.18, I_loss=0.185, PC_loss=14.1, cycle_C_loss=0.183, cycle_H_loss=0.185, iter=44, max_psnr=0, max_ssim=0]"
     ]
    },
    {
     "name": "stdout",
     "output_type": "stream",
     "text": [
      "=> Saving checkpoint\n"
     ]
    },
    {
     "name": "stderr",
     "output_type": "stream",
     "text": [
      "  0%|          | 44/60000 [13:22<303:56:16, 18.25s/it, D_loss=0.466, G_C_loss=0.305, G_H_loss=0.276, G_loss=12.5, I_H_loss=0.271, I_loss=0.362, PC_loss=16.1, cycle_C_loss=0.359, cycle_H_loss=0.296, iter=45, max_psnr=0, max_ssim=0]"
     ]
    },
    {
     "name": "stdout",
     "output_type": "stream",
     "text": [
      "=> Saving checkpoint\n"
     ]
    },
    {
     "name": "stderr",
     "output_type": "stream",
     "text": [
      "  0%|          | 45/60000 [13:42<303:10:59, 18.20s/it, D_loss=0.488, G_C_loss=0.296, G_H_loss=0.28, G_loss=8.79, I_H_loss=0.241, I_loss=0.159, PC_loss=11.1, cycle_C_loss=0.185, cycle_H_loss=0.268, iter=46, max_psnr=0, max_ssim=0] "
     ]
    },
    {
     "name": "stdout",
     "output_type": "stream",
     "text": [
      "=> Saving checkpoint\n"
     ]
    },
    {
     "name": "stderr",
     "output_type": "stream",
     "text": [
      "  0%|          | 46/60000 [14:00<309:00:37, 18.55s/it, D_loss=0.466, G_C_loss=0.295, G_H_loss=0.344, G_loss=10.2, I_H_loss=0.154, I_loss=0.32, PC_loss=16, cycle_C_loss=0.328, cycle_H_loss=0.165, iter=47, max_psnr=0, max_ssim=0]  "
     ]
    },
    {
     "name": "stdout",
     "output_type": "stream",
     "text": [
      "=> Saving checkpoint\n"
     ]
    },
    {
     "name": "stderr",
     "output_type": "stream",
     "text": [
      "  0%|          | 47/60000 [14:18<307:14:32, 18.45s/it, D_loss=0.498, G_C_loss=0.34, G_H_loss=0.331, G_loss=15.2, I_H_loss=0.605, I_loss=0.229, PC_loss=12.4, cycle_C_loss=0.241, cycle_H_loss=0.598, iter=48, max_psnr=0, max_ssim=0]"
     ]
    },
    {
     "name": "stdout",
     "output_type": "stream",
     "text": [
      "=> Saving checkpoint\n"
     ]
    },
    {
     "name": "stderr",
     "output_type": "stream",
     "text": [
      "  0%|          | 48/60000 [14:35<301:25:54, 18.10s/it, D_loss=0.494, G_C_loss=0.295, G_H_loss=0.346, G_loss=8.1, I_H_loss=0.222, I_loss=0.135, PC_loss=15.8, cycle_C_loss=0.147, cycle_H_loss=0.198, iter=49, max_psnr=0, max_ssim=0]"
     ]
    },
    {
     "name": "stdout",
     "output_type": "stream",
     "text": [
      "=> Saving checkpoint\n"
     ]
    },
    {
     "name": "stderr",
     "output_type": "stream",
     "text": [
      "  0%|          | 49/60000 [14:53<299:05:26, 17.96s/it, D_loss=0.471, G_C_loss=0.278, G_H_loss=0.36, G_loss=11.5, I_H_loss=0.443, I_loss=0.121, PC_loss=16.7, cycle_C_loss=0.135, cycle_H_loss=0.443, iter=50, max_psnr=0, max_ssim=0]"
     ]
    },
    {
     "name": "stdout",
     "output_type": "stream",
     "text": [
      "=> Saving checkpoint\n"
     ]
    },
    {
     "name": "stderr",
     "output_type": "stream",
     "text": [
      "  0%|          | 50/60000 [15:10<297:42:03, 17.88s/it, D_loss=0.503, G_C_loss=0.259, G_H_loss=0.305, G_loss=9.16, I_H_loss=0.162, I_loss=0.236, PC_loss=24.2, cycle_C_loss=0.217, cycle_H_loss=0.145, iter=51, max_psnr=0, max_ssim=0]"
     ]
    },
    {
     "name": "stdout",
     "output_type": "stream",
     "text": [
      "=> Saving checkpoint\n"
     ]
    },
    {
     "name": "stderr",
     "output_type": "stream",
     "text": [
      "  0%|          | 51/60000 [15:28<296:03:21, 17.78s/it, D_loss=0.466, G_C_loss=0.305, G_H_loss=0.281, G_loss=7.54, I_H_loss=0.187, I_loss=0.126, PC_loss=16.8, cycle_C_loss=0.137, cycle_H_loss=0.176, iter=52, max_psnr=0, max_ssim=0]"
     ]
    },
    {
     "name": "stdout",
     "output_type": "stream",
     "text": [
      "=> Saving checkpoint\n"
     ]
    },
    {
     "name": "stderr",
     "output_type": "stream",
     "text": [
      "  0%|          | 52/60000 [15:48<295:55:02, 17.77s/it, D_loss=0.453, G_C_loss=0.305, G_H_loss=0.318, G_loss=7.79, I_H_loss=0.195, I_loss=0.127, PC_loss=16.8, cycle_C_loss=0.145, cycle_H_loss=0.181, iter=53, max_psnr=0, max_ssim=0]"
     ]
    },
    {
     "name": "stdout",
     "output_type": "stream",
     "text": [
      "=> Saving checkpoint\n"
     ]
    },
    {
     "name": "stderr",
     "output_type": "stream",
     "text": [
      "  0%|          | 53/60000 [16:05<304:30:55, 18.29s/it, D_loss=0.462, G_C_loss=0.305, G_H_loss=0.327, G_loss=6.88, I_H_loss=0.139, I_loss=0.129, PC_loss=13.9, cycle_C_loss=0.14, cycle_H_loss=0.149, iter=54, max_psnr=0, max_ssim=0] "
     ]
    },
    {
     "name": "stdout",
     "output_type": "stream",
     "text": [
      "=> Saving checkpoint\n"
     ]
    },
    {
     "name": "stderr",
     "output_type": "stream",
     "text": [
      "  0%|          | 54/60000 [16:22<301:30:10, 18.11s/it, D_loss=0.487, G_C_loss=0.319, G_H_loss=0.304, G_loss=8.96, I_H_loss=0.208, I_loss=0.185, PC_loss=12.9, cycle_C_loss=0.188, cycle_H_loss=0.258, iter=55, max_psnr=0, max_ssim=0]"
     ]
    },
    {
     "name": "stdout",
     "output_type": "stream",
     "text": [
      "=> Saving checkpoint\n"
     ]
    },
    {
     "name": "stderr",
     "output_type": "stream",
     "text": [
      "  0%|          | 55/60000 [16:40<295:01:35, 17.72s/it, D_loss=0.514, G_C_loss=0.293, G_H_loss=0.295, G_loss=8.86, I_H_loss=0.272, I_loss=0.154, PC_loss=12.2, cycle_C_loss=0.148, cycle_H_loss=0.285, iter=56, max_psnr=0, max_ssim=0]"
     ]
    },
    {
     "name": "stdout",
     "output_type": "stream",
     "text": [
      "=> Saving checkpoint\n"
     ]
    },
    {
     "name": "stderr",
     "output_type": "stream",
     "text": [
      "  0%|          | 56/60000 [16:59<295:23:46, 17.74s/it, D_loss=0.454, G_C_loss=0.279, G_H_loss=0.296, G_loss=9.66, I_H_loss=0.26, I_loss=0.221, PC_loss=11.9, cycle_C_loss=0.2, cycle_H_loss=0.291, iter=57, max_psnr=0, max_ssim=0]   "
     ]
    },
    {
     "name": "stdout",
     "output_type": "stream",
     "text": [
      "=> Saving checkpoint\n"
     ]
    },
    {
     "name": "stderr",
     "output_type": "stream",
     "text": [
      "  0%|          | 57/60000 [17:18<303:19:42, 18.22s/it, D_loss=0.488, G_C_loss=0.28, G_H_loss=0.294, G_loss=6.84, I_H_loss=0.127, I_loss=0.161, PC_loss=13.3, cycle_C_loss=0.141, cycle_H_loss=0.15, iter=58, max_psnr=0, max_ssim=0]"
     ]
    },
    {
     "name": "stdout",
     "output_type": "stream",
     "text": [
      "=> Saving checkpoint\n"
     ]
    },
    {
     "name": "stderr",
     "output_type": "stream",
     "text": [
      "  0%|          | 58/60000 [17:36<305:26:22, 18.34s/it, D_loss=0.486, G_C_loss=0.315, G_H_loss=0.312, G_loss=7.38, I_H_loss=0.155, I_loss=0.16, PC_loss=13.9, cycle_C_loss=0.158, cycle_H_loss=0.158, iter=59, max_psnr=0, max_ssim=0]"
     ]
    },
    {
     "name": "stdout",
     "output_type": "stream",
     "text": [
      "=> Saving checkpoint\n"
     ]
    },
    {
     "name": "stderr",
     "output_type": "stream",
     "text": [
      "  0%|          | 59/60000 [17:55<307:03:05, 18.44s/it, D_loss=0.445, G_C_loss=0.332, G_H_loss=0.303, G_loss=7.08, I_H_loss=0.103, I_loss=0.19, PC_loss=14.9, cycle_C_loss=0.178, cycle_H_loss=0.109, iter=60, max_psnr=0, max_ssim=0]"
     ]
    },
    {
     "name": "stdout",
     "output_type": "stream",
     "text": [
      "=> Saving checkpoint\n"
     ]
    },
    {
     "name": "stderr",
     "output_type": "stream",
     "text": [
      "  0%|          | 60/60000 [18:13<305:27:43, 18.35s/it, D_loss=0.489, G_C_loss=0.323, G_H_loss=0.306, G_loss=7.91, I_H_loss=0.211, I_loss=0.129, PC_loss=12.2, cycle_C_loss=0.151, cycle_H_loss=0.222, iter=61, max_psnr=0, max_ssim=0]"
     ]
    },
    {
     "name": "stdout",
     "output_type": "stream",
     "text": [
      "=> Saving checkpoint\n"
     ]
    },
    {
     "name": "stderr",
     "output_type": "stream",
     "text": [
      "  0%|          | 61/60000 [18:30<304:53:25, 18.31s/it, D_loss=0.525, G_C_loss=0.251, G_H_loss=0.287, G_loss=12.3, I_H_loss=0.453, I_loss=0.159, PC_loss=15.7, cycle_C_loss=0.2, cycle_H_loss=0.462, iter=62, max_psnr=0, max_ssim=0]  "
     ]
    },
    {
     "name": "stdout",
     "output_type": "stream",
     "text": [
      "=> Saving checkpoint\n"
     ]
    },
    {
     "name": "stderr",
     "output_type": "stream",
     "text": [
      "  0%|          | 62/60000 [18:48<301:02:21, 18.08s/it, D_loss=0.477, G_C_loss=0.281, G_H_loss=0.314, G_loss=8.75, I_H_loss=0.0996, I_loss=0.246, PC_loss=15.1, cycle_C_loss=0.29, cycle_H_loss=0.142, iter=63, max_psnr=0, max_ssim=0]"
     ]
    },
    {
     "name": "stdout",
     "output_type": "stream",
     "text": [
      "=> Saving checkpoint\n"
     ]
    },
    {
     "name": "stderr",
     "output_type": "stream",
     "text": [
      "  0%|          | 63/60000 [19:08<300:28:20, 18.05s/it, D_loss=0.479, G_C_loss=0.329, G_H_loss=0.291, G_loss=9.87, I_H_loss=0.216, I_loss=0.2, PC_loss=26.1, cycle_C_loss=0.202, cycle_H_loss=0.193, iter=64, max_psnr=0, max_ssim=0]  "
     ]
    },
    {
     "name": "stdout",
     "output_type": "stream",
     "text": [
      "=> Saving checkpoint\n"
     ]
    },
    {
     "name": "stderr",
     "output_type": "stream",
     "text": [
      "  0%|          | 64/60000 [19:25<305:47:55, 18.37s/it, D_loss=0.475, G_C_loss=0.333, G_H_loss=0.316, G_loss=13.5, I_H_loss=0.385, I_loss=0.29, PC_loss=14.8, cycle_C_loss=0.353, cycle_H_loss=0.386, iter=65, max_psnr=0, max_ssim=0]"
     ]
    },
    {
     "name": "stdout",
     "output_type": "stream",
     "text": [
      "=> Saving checkpoint\n"
     ]
    },
    {
     "name": "stderr",
     "output_type": "stream",
     "text": [
      "  0%|          | 65/60000 [19:42<299:39:41, 18.00s/it, D_loss=0.453, G_C_loss=0.289, G_H_loss=0.332, G_loss=9.94, I_H_loss=0.176, I_loss=0.364, PC_loss=8.66, cycle_C_loss=0.371, cycle_H_loss=0.142, iter=66, max_psnr=0, max_ssim=0]"
     ]
    },
    {
     "name": "stdout",
     "output_type": "stream",
     "text": [
      "=> Saving checkpoint\n"
     ]
    },
    {
     "name": "stderr",
     "output_type": "stream",
     "text": [
      "  0%|          | 66/60000 [19:59<296:20:58, 17.80s/it, D_loss=0.442, G_C_loss=0.318, G_H_loss=0.29, G_loss=6.84, I_H_loss=0.107, I_loss=0.127, PC_loss=16.8, cycle_C_loss=0.142, cycle_H_loss=0.136, iter=67, max_psnr=0, max_ssim=0] "
     ]
    },
    {
     "name": "stdout",
     "output_type": "stream",
     "text": [
      "=> Saving checkpoint\n"
     ]
    },
    {
     "name": "stderr",
     "output_type": "stream",
     "text": [
      "  0%|          | 67/60000 [20:18<293:02:59, 17.60s/it, D_loss=0.447, G_C_loss=0.301, G_H_loss=0.314, G_loss=7.9, I_H_loss=0.179, I_loss=0.14, PC_loss=18.3, cycle_C_loss=0.151, cycle_H_loss=0.175, iter=68, max_psnr=0, max_ssim=0] "
     ]
    },
    {
     "name": "stdout",
     "output_type": "stream",
     "text": [
      "=> Saving checkpoint\n"
     ]
    },
    {
     "name": "stderr",
     "output_type": "stream",
     "text": [
      "  0%|          | 68/60000 [20:35<301:16:01, 18.10s/it, D_loss=0.444, G_C_loss=0.307, G_H_loss=0.288, G_loss=6.48, I_H_loss=0.107, I_loss=0.127, PC_loss=16.3, cycle_C_loss=0.131, cycle_H_loss=0.118, iter=69, max_psnr=0, max_ssim=0]"
     ]
    },
    {
     "name": "stdout",
     "output_type": "stream",
     "text": [
      "=> Saving checkpoint\n"
     ]
    },
    {
     "name": "stderr",
     "output_type": "stream",
     "text": [
      "  0%|          | 69/60000 [20:52<295:15:31, 17.74s/it, D_loss=0.424, G_C_loss=0.335, G_H_loss=0.307, G_loss=9.76, I_H_loss=0.316, I_loss=0.154, PC_loss=13.1, cycle_C_loss=0.146, cycle_H_loss=0.336, iter=70, max_psnr=0, max_ssim=0]"
     ]
    },
    {
     "name": "stdout",
     "output_type": "stream",
     "text": [
      "=> Saving checkpoint\n"
     ]
    },
    {
     "name": "stderr",
     "output_type": "stream",
     "text": [
      "  0%|          | 70/60000 [21:10<292:46:08, 17.59s/it, D_loss=0.435, G_C_loss=0.323, G_H_loss=0.342, G_loss=9.24, I_H_loss=0.143, I_loss=0.232, PC_loss=23.1, cycle_C_loss=0.229, cycle_H_loss=0.144, iter=71, max_psnr=0, max_ssim=0]"
     ]
    },
    {
     "name": "stdout",
     "output_type": "stream",
     "text": [
      "=> Saving checkpoint\n"
     ]
    },
    {
     "name": "stderr",
     "output_type": "stream",
     "text": [
      "  0%|          | 71/60000 [21:27<294:40:37, 17.70s/it, D_loss=0.423, G_C_loss=0.354, G_H_loss=0.334, G_loss=5.96, I_H_loss=0.0843, I_loss=0.103, PC_loss=16.2, cycle_C_loss=0.114, cycle_H_loss=0.0884, iter=72, max_psnr=0, max_ssim=0]"
     ]
    },
    {
     "name": "stdout",
     "output_type": "stream",
     "text": [
      "=> Saving checkpoint\n"
     ]
    },
    {
     "name": "stderr",
     "output_type": "stream",
     "text": [
      "  0%|          | 72/60000 [21:44<290:44:59, 17.47s/it, D_loss=0.549, G_C_loss=0.315, G_H_loss=0.244, G_loss=8.86, I_H_loss=0.269, I_loss=0.196, PC_loss=9.96, cycle_C_loss=0.167, cycle_H_loss=0.275, iter=73, max_psnr=0, max_ssim=0]  "
     ]
    },
    {
     "name": "stdout",
     "output_type": "stream",
     "text": [
      "=> Saving checkpoint\n"
     ]
    },
    {
     "name": "stderr",
     "output_type": "stream",
     "text": [
      "  0%|          | 73/60000 [22:01<287:49:49, 17.29s/it, D_loss=0.482, G_C_loss=0.3, G_H_loss=0.323, G_loss=7.65, I_H_loss=0.163, I_loss=0.151, PC_loss=12.2, cycle_C_loss=0.202, cycle_H_loss=0.16, iter=74, max_psnr=0, max_ssim=0]   "
     ]
    },
    {
     "name": "stdout",
     "output_type": "stream",
     "text": [
      "=> Saving checkpoint\n"
     ]
    },
    {
     "name": "stderr",
     "output_type": "stream",
     "text": [
      "  0%|          | 74/60000 [22:18<285:29:55, 17.15s/it, D_loss=0.486, G_C_loss=0.26, G_H_loss=0.385, G_loss=7.14, I_H_loss=0.19, I_loss=0.107, PC_loss=10.4, cycle_C_loss=0.122, cycle_H_loss=0.21, iter=75, max_psnr=0, max_ssim=0]"
     ]
    },
    {
     "name": "stdout",
     "output_type": "stream",
     "text": [
      "=> Saving checkpoint\n"
     ]
    },
    {
     "name": "stderr",
     "output_type": "stream",
     "text": [
      "  0%|          | 75/60000 [22:37<284:13:49, 17.08s/it, D_loss=0.466, G_C_loss=0.325, G_H_loss=0.319, G_loss=6.28, I_H_loss=0.0935, I_loss=0.145, PC_loss=9.78, cycle_C_loss=0.183, cycle_H_loss=0.099, iter=76, max_psnr=0, max_ssim=0]"
     ]
    },
    {
     "name": "stdout",
     "output_type": "stream",
     "text": [
      "=> Saving checkpoint\n"
     ]
    },
    {
     "name": "stderr",
     "output_type": "stream",
     "text": [
      "  0%|          | 76/60000 [22:55<292:50:58, 17.59s/it, D_loss=0.469, G_C_loss=0.319, G_H_loss=0.322, G_loss=10.4, I_H_loss=0.303, I_loss=0.229, PC_loss=11.5, cycle_C_loss=0.236, cycle_H_loss=0.294, iter=77, max_psnr=0, max_ssim=0] "
     ]
    },
    {
     "name": "stdout",
     "output_type": "stream",
     "text": [
      "=> Saving checkpoint\n"
     ]
    },
    {
     "name": "stderr",
     "output_type": "stream",
     "text": [
      "  0%|          | 77/60000 [23:14<297:09:24, 17.85s/it, D_loss=0.464, G_C_loss=0.302, G_H_loss=0.38, G_loss=9.19, I_H_loss=0.329, I_loss=0.108, PC_loss=12.8, cycle_C_loss=0.123, cycle_H_loss=0.312, iter=78, max_psnr=0, max_ssim=0] "
     ]
    },
    {
     "name": "stdout",
     "output_type": "stream",
     "text": [
      "=> Saving checkpoint\n"
     ]
    },
    {
     "name": "stderr",
     "output_type": "stream",
     "text": [
      "  0%|          | 78/60000 [23:32<300:54:43, 18.08s/it, D_loss=0.436, G_C_loss=0.329, G_H_loss=0.324, G_loss=8.05, I_H_loss=0.139, I_loss=0.275, PC_loss=7.57, cycle_C_loss=0.282, cycle_H_loss=0.109, iter=79, max_psnr=0, max_ssim=0]"
     ]
    },
    {
     "name": "stdout",
     "output_type": "stream",
     "text": [
      "=> Saving checkpoint\n"
     ]
    },
    {
     "name": "stderr",
     "output_type": "stream",
     "text": [
      "  0%|          | 79/60000 [23:49<299:07:32, 17.97s/it, D_loss=0.459, G_C_loss=0.346, G_H_loss=0.25, G_loss=13.3, I_H_loss=0.191, I_loss=0.51, PC_loss=13.3, cycle_C_loss=0.512, cycle_H_loss=0.219, iter=80, max_psnr=0, max_ssim=0]  "
     ]
    },
    {
     "name": "stdout",
     "output_type": "stream",
     "text": [
      "=> Saving checkpoint\n"
     ]
    },
    {
     "name": "stderr",
     "output_type": "stream",
     "text": [
      "  0%|          | 80/60000 [24:07<298:06:43, 17.91s/it, D_loss=0.467, G_C_loss=0.337, G_H_loss=0.304, G_loss=6.32, I_H_loss=0.0939, I_loss=0.162, PC_loss=11.6, cycle_C_loss=0.163, cycle_H_loss=0.0963, iter=81, max_psnr=0, max_ssim=0]"
     ]
    },
    {
     "name": "stdout",
     "output_type": "stream",
     "text": [
      "=> Saving checkpoint\n"
     ]
    },
    {
     "name": "stderr",
     "output_type": "stream",
     "text": [
      "  0%|          | 81/60000 [24:25<298:39:37, 17.94s/it, D_loss=0.427, G_C_loss=0.306, G_H_loss=0.355, G_loss=8.36, I_H_loss=0.19, I_loss=0.178, PC_loss=14.1, cycle_C_loss=0.183, cycle_H_loss=0.197, iter=82, max_psnr=0, max_ssim=0]   "
     ]
    },
    {
     "name": "stdout",
     "output_type": "stream",
     "text": [
      "=> Saving checkpoint\n"
     ]
    },
    {
     "name": "stderr",
     "output_type": "stream",
     "text": [
      "  0%|          | 82/60000 [24:43<295:33:22, 17.76s/it, D_loss=0.44, G_C_loss=0.3, G_H_loss=0.328, G_loss=7.92, I_H_loss=0.16, I_loss=0.197, PC_loss=11.1, cycle_C_loss=0.208, cycle_H_loss=0.169, iter=83, max_psnr=0, max_ssim=0]   "
     ]
    },
    {
     "name": "stdout",
     "output_type": "stream",
     "text": [
      "=> Saving checkpoint\n"
     ]
    },
    {
     "name": "stderr",
     "output_type": "stream",
     "text": [
      "  0%|          | 83/60000 [25:01<298:30:43, 17.94s/it, D_loss=0.477, G_C_loss=0.35, G_H_loss=0.266, G_loss=9.91, I_H_loss=0.196, I_loss=0.25, PC_loss=20.2, cycle_C_loss=0.241, cycle_H_loss=0.201, iter=84, max_psnr=0, max_ssim=0]"
     ]
    },
    {
     "name": "stdout",
     "output_type": "stream",
     "text": [
      "=> Saving checkpoint\n"
     ]
    },
    {
     "name": "stderr",
     "output_type": "stream",
     "text": [
      "  0%|          | 84/60000 [25:18<299:21:53, 17.99s/it, D_loss=0.438, G_C_loss=0.304, G_H_loss=0.424, G_loss=10.1, I_H_loss=0.289, I_loss=0.17, PC_loss=14.9, cycle_C_loss=0.18, cycle_H_loss=0.306, iter=85, max_psnr=0, max_ssim=0]"
     ]
    },
    {
     "name": "stdout",
     "output_type": "stream",
     "text": [
      "=> Saving checkpoint\n"
     ]
    },
    {
     "name": "stderr",
     "output_type": "stream",
     "text": [
      "  0%|          | 85/60000 [25:38<296:43:20, 17.83s/it, D_loss=0.531, G_C_loss=0.335, G_H_loss=0.268, G_loss=14.6, I_H_loss=0.346, I_loss=0.474, PC_loss=8.56, cycle_C_loss=0.491, cycle_H_loss=0.354, iter=86, max_psnr=0, max_ssim=0]"
     ]
    },
    {
     "name": "stdout",
     "output_type": "stream",
     "text": [
      "=> Saving checkpoint\n"
     ]
    },
    {
     "name": "stderr",
     "output_type": "stream",
     "text": [
      "  0%|          | 86/60000 [25:56<305:42:07, 18.37s/it, D_loss=0.355, G_C_loss=0.358, G_H_loss=0.404, G_loss=12.2, I_H_loss=0.425, I_loss=0.188, PC_loss=10.1, cycle_C_loss=0.221, cycle_H_loss=0.436, iter=87, max_psnr=0, max_ssim=0]"
     ]
    },
    {
     "name": "stdout",
     "output_type": "stream",
     "text": [
      "=> Saving checkpoint\n"
     ]
    },
    {
     "name": "stderr",
     "output_type": "stream",
     "text": [
      "  0%|          | 87/60000 [26:14<303:31:58, 18.24s/it, D_loss=0.388, G_C_loss=0.339, G_H_loss=0.379, G_loss=11, I_H_loss=0.281, I_loss=0.228, PC_loss=13.1, cycle_C_loss=0.258, cycle_H_loss=0.315, iter=88, max_psnr=0, max_ssim=0]  "
     ]
    },
    {
     "name": "stdout",
     "output_type": "stream",
     "text": [
      "=> Saving checkpoint\n"
     ]
    },
    {
     "name": "stderr",
     "output_type": "stream",
     "text": [
      "  0%|          | 88/60000 [26:32<302:01:37, 18.15s/it, D_loss=0.541, G_C_loss=0.351, G_H_loss=0.275, G_loss=7.39, I_H_loss=0.191, I_loss=0.146, PC_loss=9.32, cycle_C_loss=0.16, cycle_H_loss=0.192, iter=89, max_psnr=0, max_ssim=0]"
     ]
    },
    {
     "name": "stdout",
     "output_type": "stream",
     "text": [
      "=> Saving checkpoint\n"
     ]
    },
    {
     "name": "stderr",
     "output_type": "stream",
     "text": [
      "  0%|          | 89/60000 [26:50<300:39:04, 18.07s/it, D_loss=0.491, G_C_loss=0.258, G_H_loss=0.365, G_loss=8.11, I_H_loss=0.25, I_loss=0.13, PC_loss=13.1, cycle_C_loss=0.144, cycle_H_loss=0.221, iter=90, max_psnr=0, max_ssim=0] "
     ]
    },
    {
     "name": "stdout",
     "output_type": "stream",
     "text": [
      "=> Saving checkpoint\n"
     ]
    },
    {
     "name": "stderr",
     "output_type": "stream",
     "text": [
      "  0%|          | 90/60000 [27:07<300:15:30, 18.04s/it, D_loss=0.489, G_C_loss=0.304, G_H_loss=0.292, G_loss=10.7, I_H_loss=0.246, I_loss=0.226, PC_loss=24.3, cycle_C_loss=0.228, cycle_H_loss=0.243, iter=91, max_psnr=0, max_ssim=0]"
     ]
    },
    {
     "name": "stdout",
     "output_type": "stream",
     "text": [
      "=> Saving checkpoint\n"
     ]
    },
    {
     "name": "stderr",
     "output_type": "stream",
     "text": [
      "  0%|          | 91/60000 [27:25<297:06:06, 17.85s/it, D_loss=0.483, G_C_loss=0.281, G_H_loss=0.374, G_loss=7.4, I_H_loss=0.118, I_loss=0.185, PC_loss=13.6, cycle_C_loss=0.204, cycle_H_loss=0.117, iter=92, max_psnr=0, max_ssim=0] "
     ]
    },
    {
     "name": "stdout",
     "output_type": "stream",
     "text": [
      "=> Saving checkpoint\n"
     ]
    },
    {
     "name": "stderr",
     "output_type": "stream",
     "text": [
      "  0%|          | 92/60000 [27:42<298:05:55, 17.91s/it, D_loss=0.397, G_C_loss=0.317, G_H_loss=0.332, G_loss=5.84, I_H_loss=0.0743, I_loss=0.128, PC_loss=12.9, cycle_C_loss=0.141, cycle_H_loss=0.0834, iter=93, max_psnr=0, max_ssim=0]"
     ]
    },
    {
     "name": "stdout",
     "output_type": "stream",
     "text": [
      "=> Saving checkpoint\n"
     ]
    },
    {
     "name": "stderr",
     "output_type": "stream",
     "text": [
      "  0%|          | 93/60000 [28:00<293:21:11, 17.63s/it, D_loss=0.439, G_C_loss=0.314, G_H_loss=0.369, G_loss=8.57, I_H_loss=0.146, I_loss=0.289, PC_loss=7.87, cycle_C_loss=0.29, cycle_H_loss=0.134, iter=94, max_psnr=0, max_ssim=0]   "
     ]
    },
    {
     "name": "stdout",
     "output_type": "stream",
     "text": [
      "=> Saving checkpoint\n"
     ]
    },
    {
     "name": "stderr",
     "output_type": "stream",
     "text": [
      "  0%|          | 94/60000 [28:17<292:12:46, 17.56s/it, D_loss=0.4, G_C_loss=0.308, G_H_loss=0.365, G_loss=11.1, I_H_loss=0.266, I_loss=0.226, PC_loss=19.1, cycle_C_loss=0.233, cycle_H_loss=0.307, iter=95, max_psnr=0, max_ssim=0] "
     ]
    },
    {
     "name": "stdout",
     "output_type": "stream",
     "text": [
      "=> Saving checkpoint\n"
     ]
    },
    {
     "name": "stderr",
     "output_type": "stream",
     "text": [
      "  0%|          | 95/60000 [28:37<290:45:04, 17.47s/it, D_loss=0.509, G_C_loss=0.331, G_H_loss=0.286, G_loss=4.84, I_H_loss=0.0982, I_loss=0.0894, PC_loss=7.84, cycle_C_loss=0.0893, cycle_H_loss=0.0995, iter=96, max_psnr=0, max_ssim=0]"
     ]
    },
    {
     "name": "stdout",
     "output_type": "stream",
     "text": [
      "=> Saving checkpoint\n"
     ]
    },
    {
     "name": "stderr",
     "output_type": "stream",
     "text": [
      "  0%|          | 96/60000 [28:55<302:41:40, 18.19s/it, D_loss=0.492, G_C_loss=0.265, G_H_loss=0.296, G_loss=6.28, I_H_loss=0.165, I_loss=0.121, PC_loss=7.59, cycle_C_loss=0.11, cycle_H_loss=0.187, iter=97, max_psnr=0, max_ssim=0]     "
     ]
    },
    {
     "name": "stdout",
     "output_type": "stream",
     "text": [
      "=> Saving checkpoint\n"
     ]
    },
    {
     "name": "stderr",
     "output_type": "stream",
     "text": [
      "  0%|          | 97/60000 [29:14<303:53:16, 18.26s/it, D_loss=0.464, G_C_loss=0.259, G_H_loss=0.3, G_loss=5.51, I_H_loss=0.106, I_loss=0.14, PC_loss=7.74, cycle_C_loss=0.115, cycle_H_loss=0.124, iter=98, max_psnr=0, max_ssim=0]  "
     ]
    },
    {
     "name": "stdout",
     "output_type": "stream",
     "text": [
      "=> Saving checkpoint\n"
     ]
    },
    {
     "name": "stderr",
     "output_type": "stream",
     "text": [
      "  0%|          | 98/60000 [29:31<305:07:55, 18.34s/it, D_loss=0.533, G_C_loss=0.183, G_H_loss=0.348, G_loss=9.67, I_H_loss=0.314, I_loss=0.13, PC_loss=19.3, cycle_C_loss=0.155, cycle_H_loss=0.291, iter=99, max_psnr=0, max_ssim=0]"
     ]
    },
    {
     "name": "stdout",
     "output_type": "stream",
     "text": [
      "=> Saving checkpoint\n"
     ]
    },
    {
     "name": "stderr",
     "output_type": "stream",
     "text": [
      "  0%|          | 99/60000 [29:48<299:35:44, 18.01s/it, D_loss=0.392, G_C_loss=0.354, G_H_loss=0.345, G_loss=7.27, I_H_loss=0.0773, I_loss=0.208, PC_loss=10.8, cycle_C_loss=0.245, cycle_H_loss=0.0914, iter=100, max_psnr=0, max_ssim=0]"
     ]
    },
    {
     "name": "stdout",
     "output_type": "stream",
     "text": [
      "=> Saving checkpoint\n"
     ]
    },
    {
     "name": "stderr",
     "output_type": "stream",
     "text": [
      "  0%|          | 100/60000 [30:07<296:43:21, 17.83s/it, D_loss=0.469, G_C_loss=0.284, G_H_loss=0.323, G_loss=9.89, I_H_loss=0.35, I_loss=0.156, PC_loss=10, cycle_C_loss=0.145, cycle_H_loss=0.37, iter=101, max_psnr=0, max_ssim=0]      "
     ]
    },
    {
     "name": "stdout",
     "output_type": "stream",
     "text": [
      "=> Saving checkpoint\n"
     ]
    },
    {
     "name": "stderr",
     "output_type": "stream",
     "text": [
      "  0%|          | 101/60000 [30:25<299:24:31, 17.99s/it, D_loss=0.437, G_C_loss=0.359, G_H_loss=0.339, G_loss=15.7, I_H_loss=0.468, I_loss=0.396, PC_loss=9.75, cycle_C_loss=0.435, cycle_H_loss=0.469, iter=102, max_psnr=0, max_ssim=0]"
     ]
    },
    {
     "name": "stdout",
     "output_type": "stream",
     "text": [
      "=> Saving checkpoint\n"
     ]
    },
    {
     "name": "stderr",
     "output_type": "stream",
     "text": [
      "  0%|          | 102/60000 [30:44<298:10:37, 17.92s/it, D_loss=0.409, G_C_loss=0.317, G_H_loss=0.429, G_loss=8.07, I_H_loss=0.211, I_loss=0.118, PC_loss=14.2, cycle_C_loss=0.12, cycle_H_loss=0.23, iter=103, max_psnr=0, max_ssim=0]  "
     ]
    },
    {
     "name": "stdout",
     "output_type": "stream",
     "text": [
      "=> Saving checkpoint\n"
     ]
    },
    {
     "name": "stderr",
     "output_type": "stream",
     "text": [
      "  0%|          | 103/60000 [31:02<303:05:10, 18.22s/it, D_loss=0.412, G_C_loss=0.392, G_H_loss=0.317, G_loss=6.11, I_H_loss=0.086, I_loss=0.136, PC_loss=11.3, cycle_C_loss=0.162, cycle_H_loss=0.0827, iter=104, max_psnr=0, max_ssim=0]"
     ]
    },
    {
     "name": "stdout",
     "output_type": "stream",
     "text": [
      "=> Saving checkpoint\n"
     ]
    },
    {
     "name": "stderr",
     "output_type": "stream",
     "text": [
      "  0%|          | 104/60000 [31:21<306:26:03, 18.42s/it, D_loss=0.416, G_C_loss=0.348, G_H_loss=0.304, G_loss=10.4, I_H_loss=0.357, I_loss=0.167, PC_loss=9.8, cycle_C_loss=0.191, cycle_H_loss=0.358, iter=105, max_psnr=0, max_ssim=0]  "
     ]
    },
    {
     "name": "stdout",
     "output_type": "stream",
     "text": [
      "=> Saving checkpoint\n"
     ]
    },
    {
     "name": "stderr",
     "output_type": "stream",
     "text": [
      "  0%|          | 105/60000 [31:38<305:53:42, 18.39s/it, D_loss=0.445, G_C_loss=0.279, G_H_loss=0.348, G_loss=7.2, I_H_loss=0.181, I_loss=0.142, PC_loss=12, cycle_C_loss=0.141, cycle_H_loss=0.172, iter=106, max_psnr=0, max_ssim=0]  "
     ]
    },
    {
     "name": "stdout",
     "output_type": "stream",
     "text": [
      "=> Saving checkpoint\n"
     ]
    },
    {
     "name": "stderr",
     "output_type": "stream",
     "text": [
      "  0%|          | 106/60000 [31:56<299:27:54, 18.00s/it, D_loss=0.473, G_C_loss=0.248, G_H_loss=0.409, G_loss=8.45, I_H_loss=0.189, I_loss=0.197, PC_loss=8.89, cycle_C_loss=0.201, cycle_H_loss=0.231, iter=107, max_psnr=0, max_ssim=0]"
     ]
    },
    {
     "name": "stdout",
     "output_type": "stream",
     "text": [
      "=> Saving checkpoint\n"
     ]
    },
    {
     "name": "stderr",
     "output_type": "stream",
     "text": [
      "  0%|          | 107/60000 [32:13<298:43:03, 17.96s/it, D_loss=0.508, G_C_loss=0.229, G_H_loss=0.374, G_loss=12.8, I_H_loss=0.307, I_loss=0.316, PC_loss=14.5, cycle_C_loss=0.334, cycle_H_loss=0.37, iter=108, max_psnr=0, max_ssim=0] "
     ]
    },
    {
     "name": "stdout",
     "output_type": "stream",
     "text": [
      "=> Saving checkpoint\n"
     ]
    },
    {
     "name": "stderr",
     "output_type": "stream",
     "text": [
      "  0%|          | 108/60000 [32:32<295:01:24, 17.73s/it, D_loss=0.451, G_C_loss=0.26, G_H_loss=0.378, G_loss=10.5, I_H_loss=0.37, I_loss=0.165, PC_loss=8.8, cycle_C_loss=0.155, cycle_H_loss=0.407, iter=109, max_psnr=0, max_ssim=0]  "
     ]
    },
    {
     "name": "stdout",
     "output_type": "stream",
     "text": [
      "=> Saving checkpoint\n"
     ]
    },
    {
     "name": "stderr",
     "output_type": "stream",
     "text": [
      "  0%|          | 109/60000 [32:51<300:54:53, 18.09s/it, D_loss=0.52, G_C_loss=0.249, G_H_loss=0.33, G_loss=7.53, I_H_loss=0.149, I_loss=0.154, PC_loss=14.6, cycle_C_loss=0.179, cycle_H_loss=0.161, iter=110, max_psnr=0, max_ssim=0]"
     ]
    },
    {
     "name": "stdout",
     "output_type": "stream",
     "text": [
      "=> Saving checkpoint\n"
     ]
    },
    {
     "name": "stderr",
     "output_type": "stream",
     "text": [
      "  0%|          | 110/60000 [33:10<305:13:02, 18.35s/it, D_loss=0.462, G_C_loss=0.351, G_H_loss=0.3, G_loss=12.8, I_H_loss=0.34, I_loss=0.285, PC_loss=12.5, cycle_C_loss=0.361, cycle_H_loss=0.356, iter=111, max_psnr=0, max_ssim=0] "
     ]
    },
    {
     "name": "stdout",
     "output_type": "stream",
     "text": [
      "=> Saving checkpoint\n"
     ]
    },
    {
     "name": "stderr",
     "output_type": "stream",
     "text": [
      "  0%|          | 111/60000 [33:27<311:07:25, 18.70s/it, D_loss=0.415, G_C_loss=0.34, G_H_loss=0.379, G_loss=8.91, I_H_loss=0.317, I_loss=0.0946, PC_loss=8.05, cycle_C_loss=0.11, cycle_H_loss=0.351, iter=112, max_psnr=0, max_ssim=0]"
     ]
    },
    {
     "name": "stdout",
     "output_type": "stream",
     "text": [
      "=> Saving checkpoint\n"
     ]
    },
    {
     "name": "stderr",
     "output_type": "stream",
     "text": [
      "  0%|          | 112/60000 [33:45<303:25:36, 18.24s/it, D_loss=0.405, G_C_loss=0.303, G_H_loss=0.458, G_loss=9.36, I_H_loss=0.204, I_loss=0.215, PC_loss=11.7, cycle_C_loss=0.229, cycle_H_loss=0.228, iter=113, max_psnr=0, max_ssim=0]"
     ]
    },
    {
     "name": "stdout",
     "output_type": "stream",
     "text": [
      "=> Saving checkpoint\n"
     ]
    },
    {
     "name": "stderr",
     "output_type": "stream",
     "text": [
      "  0%|          | 113/60000 [34:02<301:09:59, 18.10s/it, D_loss=0.446, G_C_loss=0.352, G_H_loss=0.356, G_loss=14.6, I_H_loss=0.452, I_loss=0.361, PC_loss=7.7, cycle_C_loss=0.391, cycle_H_loss=0.445, iter=114, max_psnr=0, max_ssim=0] "
     ]
    },
    {
     "name": "stdout",
     "output_type": "stream",
     "text": [
      "=> Saving checkpoint\n"
     ]
    },
    {
     "name": "stderr",
     "output_type": "stream",
     "text": [
      "  0%|          | 114/60000 [34:19<296:04:33, 17.80s/it, D_loss=0.418, G_C_loss=0.316, G_H_loss=0.385, G_loss=8.63, I_H_loss=0.168, I_loss=0.177, PC_loss=16.5, cycle_C_loss=0.171, cycle_H_loss=0.214, iter=115, max_psnr=0, max_ssim=0]"
     ]
    },
    {
     "name": "stdout",
     "output_type": "stream",
     "text": [
      "=> Saving checkpoint\n"
     ]
    },
    {
     "name": "stderr",
     "output_type": "stream",
     "text": [
      "  0%|          | 115/60000 [34:36<291:11:50, 17.51s/it, D_loss=0.487, G_C_loss=0.21, G_H_loss=0.328, G_loss=7.43, I_H_loss=0.0995, I_loss=0.209, PC_loss=15.8, cycle_C_loss=0.202, cycle_H_loss=0.12, iter=116, max_psnr=0, max_ssim=0] "
     ]
    },
    {
     "name": "stdout",
     "output_type": "stream",
     "text": [
      "=> Saving checkpoint\n"
     ]
    },
    {
     "name": "stderr",
     "output_type": "stream",
     "text": [
      "  0%|          | 116/60000 [34:52<288:11:29, 17.32s/it, D_loss=0.526, G_C_loss=0.336, G_H_loss=0.268, G_loss=9.07, I_H_loss=0.347, I_loss=0.109, PC_loss=11.4, cycle_C_loss=0.11, cycle_H_loss=0.334, iter=117, max_psnr=0, max_ssim=0]"
     ]
    },
    {
     "name": "stdout",
     "output_type": "stream",
     "text": [
      "=> Saving checkpoint\n"
     ]
    },
    {
     "name": "stderr",
     "output_type": "stream",
     "text": [
      "  0%|          | 117/60000 [35:09<283:04:26, 17.02s/it, D_loss=0.435, G_C_loss=0.329, G_H_loss=0.304, G_loss=6.59, I_H_loss=0.0795, I_loss=0.174, PC_loss=10.5, cycle_C_loss=0.226, cycle_H_loss=0.0755, iter=118, max_psnr=0, max_ssim=0]"
     ]
    },
    {
     "name": "stdout",
     "output_type": "stream",
     "text": [
      "=> Saving checkpoint\n"
     ]
    },
    {
     "name": "stderr",
     "output_type": "stream",
     "text": [
      "  0%|          | 118/60000 [35:27<284:31:26, 17.11s/it, D_loss=0.489, G_C_loss=0.289, G_H_loss=0.329, G_loss=9.09, I_H_loss=0.16, I_loss=0.304, PC_loss=9.64, cycle_C_loss=0.287, cycle_H_loss=0.171, iter=119, max_psnr=0, max_ssim=0]   "
     ]
    },
    {
     "name": "stdout",
     "output_type": "stream",
     "text": [
      "=> Saving checkpoint\n"
     ]
    },
    {
     "name": "stderr",
     "output_type": "stream",
     "text": [
      "  0%|          | 119/60000 [35:44<287:07:46, 17.26s/it, D_loss=0.438, G_C_loss=0.311, G_H_loss=0.343, G_loss=7.83, I_H_loss=0.198, I_loss=0.192, PC_loss=7.58, cycle_C_loss=0.228, cycle_H_loss=0.154, iter=120, max_psnr=0, max_ssim=0]"
     ]
    },
    {
     "name": "stdout",
     "output_type": "stream",
     "text": [
      "=> Saving checkpoint\n"
     ]
    },
    {
     "name": "stderr",
     "output_type": "stream",
     "text": [
      "  0%|          | 120/60000 [36:02<287:05:04, 17.26s/it, D_loss=0.507, G_C_loss=0.331, G_H_loss=0.52, G_loss=10, I_H_loss=0.181, I_loss=0.315, PC_loss=8.69, cycle_C_loss=0.331, cycle_H_loss=0.168, iter=121, max_psnr=0, max_ssim=0]   "
     ]
    },
    {
     "name": "stdout",
     "output_type": "stream",
     "text": [
      "=> Saving checkpoint\n"
     ]
    },
    {
     "name": "stderr",
     "output_type": "stream",
     "text": [
      "  0%|          | 121/60000 [36:19<287:54:42, 17.31s/it, D_loss=0.486, G_C_loss=0.364, G_H_loss=0.328, G_loss=9.5, I_H_loss=0.171, I_loss=0.279, PC_loss=9.92, cycle_C_loss=0.286, cycle_H_loss=0.202, iter=122, max_psnr=0, max_ssim=0]"
     ]
    },
    {
     "name": "stdout",
     "output_type": "stream",
     "text": [
      "=> Saving checkpoint\n"
     ]
    },
    {
     "name": "stderr",
     "output_type": "stream",
     "text": [
      "  0%|          | 122/60000 [36:37<284:59:14, 17.13s/it, D_loss=0.481, G_C_loss=0.379, G_H_loss=0.325, G_loss=6.66, I_H_loss=0.106, I_loss=0.184, PC_loss=7.93, cycle_C_loss=0.19, cycle_H_loss=0.111, iter=123, max_psnr=0, max_ssim=0]"
     ]
    },
    {
     "name": "stdout",
     "output_type": "stream",
     "text": [
      "=> Saving checkpoint\n"
     ]
    },
    {
     "name": "stderr",
     "output_type": "stream",
     "text": [
      "  0%|          | 123/60000 [36:54<291:59:16, 17.56s/it, D_loss=0.434, G_C_loss=0.311, G_H_loss=0.309, G_loss=6.82, I_H_loss=0.201, I_loss=0.106, PC_loss=9.92, cycle_C_loss=0.104, cycle_H_loss=0.202, iter=124, max_psnr=0, max_ssim=0]"
     ]
    },
    {
     "name": "stdout",
     "output_type": "stream",
     "text": [
      "=> Saving checkpoint\n"
     ]
    },
    {
     "name": "stderr",
     "output_type": "stream",
     "text": [
      "  0%|          | 124/60000 [37:11<287:47:54, 17.30s/it, D_loss=0.532, G_C_loss=0.243, G_H_loss=0.268, G_loss=9.94, I_H_loss=0.434, I_loss=0.136, PC_loss=7.27, cycle_C_loss=0.133, cycle_H_loss=0.401, iter=125, max_psnr=0, max_ssim=0]"
     ]
    },
    {
     "name": "stdout",
     "output_type": "stream",
     "text": [
      "=> Saving checkpoint\n"
     ]
    },
    {
     "name": "stderr",
     "output_type": "stream",
     "text": [
      "  0%|          | 125/60000 [37:30<286:24:24, 17.22s/it, D_loss=0.506, G_C_loss=0.225, G_H_loss=0.453, G_loss=6.15, I_H_loss=0.122, I_loss=0.119, PC_loss=11.3, cycle_C_loss=0.119, cycle_H_loss=0.127, iter=126, max_psnr=0, max_ssim=0]"
     ]
    },
    {
     "name": "stdout",
     "output_type": "stream",
     "text": [
      "=> Saving checkpoint\n"
     ]
    },
    {
     "name": "stderr",
     "output_type": "stream",
     "text": [
      "  0%|          | 126/60000 [37:50<297:28:40, 17.89s/it, D_loss=0.44, G_C_loss=0.314, G_H_loss=0.327, G_loss=7.28, I_H_loss=0.191, I_loss=0.134, PC_loss=9.94, cycle_C_loss=0.118, cycle_H_loss=0.221, iter=127, max_psnr=0, max_ssim=0] "
     ]
    },
    {
     "name": "stdout",
     "output_type": "stream",
     "text": [
      "=> Saving checkpoint\n"
     ]
    },
    {
     "name": "stderr",
     "output_type": "stream",
     "text": [
      "  0%|          | 127/60000 [38:07<305:04:12, 18.34s/it, D_loss=0.414, G_C_loss=0.369, G_H_loss=0.314, G_loss=5.64, I_H_loss=0.0696, I_loss=0.118, PC_loss=9.67, cycle_C_loss=0.155, cycle_H_loss=0.0826, iter=128, max_psnr=0, max_ssim=0]"
     ]
    },
    {
     "name": "stdout",
     "output_type": "stream",
     "text": [
      "=> Saving checkpoint\n"
     ]
    },
    {
     "name": "stderr",
     "output_type": "stream",
     "text": [
      "  0%|          | 128/60000 [38:28<298:51:32, 17.97s/it, D_loss=0.385, G_C_loss=0.396, G_H_loss=0.304, G_loss=10.4, I_H_loss=0.131, I_loss=0.361, PC_loss=14.1, cycle_C_loss=0.343, cycle_H_loss=0.17, iter=129, max_psnr=0, max_ssim=0]   "
     ]
    },
    {
     "name": "stdout",
     "output_type": "stream",
     "text": [
      "=> Saving checkpoint\n"
     ]
    },
    {
     "name": "stderr",
     "output_type": "stream",
     "text": [
      "  0%|          | 129/60000 [38:47<317:27:04, 19.09s/it, D_loss=0.492, G_C_loss=0.293, G_H_loss=0.286, G_loss=8.1, I_H_loss=0.191, I_loss=0.192, PC_loss=15.5, cycle_C_loss=0.164, cycle_H_loss=0.184, iter=130, max_psnr=0, max_ssim=0]"
     ]
    },
    {
     "name": "stdout",
     "output_type": "stream",
     "text": [
      "=> Saving checkpoint\n"
     ]
    },
    {
     "name": "stderr",
     "output_type": "stream",
     "text": [
      "  0%|          | 130/60000 [39:06<313:08:39, 18.83s/it, D_loss=0.456, G_C_loss=0.305, G_H_loss=0.355, G_loss=11.1, I_H_loss=0.38, I_loss=0.192, PC_loss=8.44, cycle_C_loss=0.228, cycle_H_loss=0.378, iter=131, max_psnr=0, max_ssim=0]"
     ]
    },
    {
     "name": "stdout",
     "output_type": "stream",
     "text": [
      "=> Saving checkpoint\n"
     ]
    },
    {
     "name": "stderr",
     "output_type": "stream",
     "text": [
      "  0%|          | 131/60000 [39:24<314:34:09, 18.92s/it, D_loss=0.443, G_C_loss=0.263, G_H_loss=0.41, G_loss=5.4, I_H_loss=0.0906, I_loss=0.0995, PC_loss=10, cycle_C_loss=0.11, cycle_H_loss=0.1, iter=132, max_psnr=0, max_ssim=0]    "
     ]
    },
    {
     "name": "stdout",
     "output_type": "stream",
     "text": [
      "=> Saving checkpoint\n"
     ]
    },
    {
     "name": "stderr",
     "output_type": "stream",
     "text": [
      "  0%|          | 132/60000 [39:43<311:37:36, 18.74s/it, D_loss=0.503, G_C_loss=0.324, G_H_loss=0.331, G_loss=7.92, I_H_loss=0.124, I_loss=0.282, PC_loss=6.2, cycle_C_loss=0.285, cycle_H_loss=0.111, iter=133, max_psnr=0, max_ssim=0]"
     ]
    },
    {
     "name": "stdout",
     "output_type": "stream",
     "text": [
      "=> Saving checkpoint\n"
     ]
    },
    {
     "name": "stderr",
     "output_type": "stream",
     "text": [
      "  0%|          | 133/60000 [40:02<314:04:18, 18.89s/it, D_loss=0.527, G_C_loss=0.343, G_H_loss=0.252, G_loss=12.5, I_H_loss=0.192, I_loss=0.412, PC_loss=16.5, cycle_C_loss=0.429, cycle_H_loss=0.237, iter=134, max_psnr=0, max_ssim=0]"
     ]
    },
    {
     "name": "stdout",
     "output_type": "stream",
     "text": [
      "=> Saving checkpoint\n"
     ]
    },
    {
     "name": "stderr",
     "output_type": "stream",
     "text": [
      "  0%|          | 134/60000 [40:20<314:19:59, 18.90s/it, D_loss=0.391, G_C_loss=0.351, G_H_loss=0.348, G_loss=6.68, I_H_loss=0.123, I_loss=0.141, PC_loss=11, cycle_C_loss=0.136, cycle_H_loss=0.149, iter=135, max_psnr=0, max_ssim=0]  "
     ]
    },
    {
     "name": "stdout",
     "output_type": "stream",
     "text": [
      "=> Saving checkpoint\n"
     ]
    },
    {
     "name": "stderr",
     "output_type": "stream",
     "text": [
      "  0%|          | 135/60000 [40:37<307:29:31, 18.49s/it, D_loss=0.458, G_C_loss=0.301, G_H_loss=0.257, G_loss=6.05, I_H_loss=0.104, I_loss=0.199, PC_loss=8.32, cycle_C_loss=0.161, cycle_H_loss=0.0983, iter=136, max_psnr=0, max_ssim=0]"
     ]
    },
    {
     "name": "stdout",
     "output_type": "stream",
     "text": [
      "=> Saving checkpoint\n"
     ]
    },
    {
     "name": "stderr",
     "output_type": "stream",
     "text": [
      "  0%|          | 136/60000 [40:57<301:27:50, 18.13s/it, D_loss=0.501, G_C_loss=0.318, G_H_loss=0.307, G_loss=11.7, I_H_loss=0.313, I_loss=0.311, PC_loss=7.42, cycle_C_loss=0.34, cycle_H_loss=0.323, iter=137, max_psnr=0, max_ssim=0]  "
     ]
    },
    {
     "name": "stdout",
     "output_type": "stream",
     "text": [
      "=> Saving checkpoint\n"
     ]
    },
    {
     "name": "stderr",
     "output_type": "stream",
     "text": [
      "  0%|          | 137/60000 [41:15<308:15:48, 18.54s/it, D_loss=0.436, G_C_loss=0.388, G_H_loss=0.42, G_loss=14.2, I_H_loss=0.41, I_loss=0.369, PC_loss=7.29, cycle_C_loss=0.382, cycle_H_loss=0.413, iter=138, max_psnr=0, max_ssim=0] "
     ]
    },
    {
     "name": "stdout",
     "output_type": "stream",
     "text": [
      "=> Saving checkpoint\n"
     ]
    },
    {
     "name": "stderr",
     "output_type": "stream",
     "text": [
      "  0%|          | 138/60000 [41:35<307:17:37, 18.48s/it, D_loss=0.459, G_C_loss=0.34, G_H_loss=0.471, G_loss=5.6, I_H_loss=0.085, I_loss=0.0934, PC_loss=10.6, cycle_C_loss=0.106, cycle_H_loss=0.0964, iter=139, max_psnr=0, max_ssim=0]"
     ]
    },
    {
     "name": "stdout",
     "output_type": "stream",
     "text": [
      "=> Saving checkpoint\n"
     ]
    },
    {
     "name": "stderr",
     "output_type": "stream",
     "text": [
      "  0%|          | 139/60000 [41:53<314:32:29, 18.92s/it, D_loss=0.474, G_C_loss=0.295, G_H_loss=0.292, G_loss=9.63, I_H_loss=0.179, I_loss=0.223, PC_loss=19, cycle_C_loss=0.238, cycle_H_loss=0.217, iter=140, max_psnr=0, max_ssim=0]  "
     ]
    },
    {
     "name": "stdout",
     "output_type": "stream",
     "text": [
      "=> Saving checkpoint\n"
     ]
    },
    {
     "name": "stderr",
     "output_type": "stream",
     "text": [
      "  0%|          | 140/60000 [42:11<312:07:36, 18.77s/it, D_loss=0.43, G_C_loss=0.281, G_H_loss=0.358, G_loss=9.5, I_H_loss=0.383, I_loss=0.109, PC_loss=7.58, cycle_C_loss=0.101, cycle_H_loss=0.399, iter=141, max_psnr=0, max_ssim=0]"
     ]
    },
    {
     "name": "stdout",
     "output_type": "stream",
     "text": [
      "=> Saving checkpoint\n"
     ]
    },
    {
     "name": "stderr",
     "output_type": "stream",
     "text": [
      "  0%|          | 141/60000 [42:29<304:52:23, 18.34s/it, D_loss=0.373, G_C_loss=0.42, G_H_loss=0.342, G_loss=10.5, I_H_loss=0.162, I_loss=0.365, PC_loss=7.06, cycle_C_loss=0.411, cycle_H_loss=0.152, iter=142, max_psnr=0, max_ssim=0]"
     ]
    },
    {
     "name": "stdout",
     "output_type": "stream",
     "text": [
      "=> Saving checkpoint\n"
     ]
    },
    {
     "name": "stderr",
     "output_type": "stream",
     "text": [
      "  0%|          | 142/60000 [42:48<304:48:26, 18.33s/it, D_loss=0.431, G_C_loss=0.314, G_H_loss=0.265, G_loss=5.93, I_H_loss=0.122, I_loss=0.112, PC_loss=11.4, cycle_C_loss=0.12, cycle_H_loss=0.128, iter=143, max_psnr=0, max_ssim=0]"
     ]
    },
    {
     "name": "stdout",
     "output_type": "stream",
     "text": [
      "=> Saving checkpoint\n"
     ]
    },
    {
     "name": "stderr",
     "output_type": "stream",
     "text": [
      "  0%|          | 143/60000 [43:05<306:56:05, 18.46s/it, D_loss=0.537, G_C_loss=0.268, G_H_loss=0.264, G_loss=7.27, I_H_loss=0.109, I_loss=0.208, PC_loss=12.6, cycle_C_loss=0.216, cycle_H_loss=0.12, iter=144, max_psnr=0, max_ssim=0]"
     ]
    },
    {
     "name": "stdout",
     "output_type": "stream",
     "text": [
      "=> Saving checkpoint\n"
     ]
    },
    {
     "name": "stderr",
     "output_type": "stream",
     "text": [
      "  0%|          | 144/60000 [43:22<301:11:48, 18.12s/it, D_loss=0.425, G_C_loss=0.345, G_H_loss=0.313, G_loss=6.21, I_H_loss=0.14, I_loss=0.101, PC_loss=9.99, cycle_C_loss=0.121, cycle_H_loss=0.148, iter=145, max_psnr=0, max_ssim=0]"
     ]
    },
    {
     "name": "stdout",
     "output_type": "stream",
     "text": [
      "=> Saving checkpoint\n"
     ]
    },
    {
     "name": "stderr",
     "output_type": "stream",
     "text": [
      "  0%|          | 145/60000 [43:39<294:52:17, 17.74s/it, D_loss=0.441, G_C_loss=0.314, G_H_loss=0.296, G_loss=5.49, I_H_loss=0.0613, I_loss=0.125, PC_loss=9.53, cycle_C_loss=0.166, cycle_H_loss=0.0716, iter=146, max_psnr=0, max_ssim=0]"
     ]
    },
    {
     "name": "stdout",
     "output_type": "stream",
     "text": [
      "=> Saving checkpoint\n"
     ]
    },
    {
     "name": "stderr",
     "output_type": "stream",
     "text": [
      "  0%|          | 146/60000 [43:56<292:14:57, 17.58s/it, D_loss=0.387, G_C_loss=0.402, G_H_loss=0.424, G_loss=16.3, I_H_loss=0.548, I_loss=0.328, PC_loss=8.7, cycle_C_loss=0.386, cycle_H_loss=0.556, iter=147, max_psnr=0, max_ssim=0]   "
     ]
    },
    {
     "name": "stdout",
     "output_type": "stream",
     "text": [
      "=> Saving checkpoint\n"
     ]
    },
    {
     "name": "stderr",
     "output_type": "stream",
     "text": [
      "  0%|          | 147/60000 [44:15<290:39:47, 17.48s/it, D_loss=0.5, G_C_loss=0.309, G_H_loss=0.362, G_loss=7.8, I_H_loss=0.0956, I_loss=0.225, PC_loss=17.5, cycle_C_loss=0.205, cycle_H_loss=0.105, iter=148, max_psnr=0, max_ssim=0] "
     ]
    },
    {
     "name": "stdout",
     "output_type": "stream",
     "text": [
      "=> Saving checkpoint\n"
     ]
    },
    {
     "name": "stderr",
     "output_type": "stream",
     "text": [
      "  0%|          | 148/60000 [44:33<294:53:26, 17.74s/it, D_loss=0.54, G_C_loss=0.255, G_H_loss=0.313, G_loss=8.73, I_H_loss=0.222, I_loss=0.229, PC_loss=9.18, cycle_C_loss=0.196, cycle_H_loss=0.246, iter=149, max_psnr=0, max_ssim=0]"
     ]
    },
    {
     "name": "stdout",
     "output_type": "stream",
     "text": [
      "=> Saving checkpoint\n"
     ]
    },
    {
     "name": "stderr",
     "output_type": "stream",
     "text": [
      "  0%|          | 149/60000 [44:51<297:54:57, 17.92s/it, D_loss=0.444, G_C_loss=0.356, G_H_loss=0.307, G_loss=8.31, I_H_loss=0.17, I_loss=0.199, PC_loss=7.29, cycle_C_loss=0.264, cycle_H_loss=0.177, iter=150, max_psnr=0, max_ssim=0]"
     ]
    },
    {
     "name": "stdout",
     "output_type": "stream",
     "text": [
      "=> Saving checkpoint\n"
     ]
    },
    {
     "name": "stderr",
     "output_type": "stream",
     "text": [
      "  0%|          | 150/60000 [45:10<300:17:33, 18.06s/it, D_loss=0.448, G_C_loss=0.262, G_H_loss=0.27, G_loss=7.94, I_H_loss=0.16, I_loss=0.237, PC_loss=7.86, cycle_C_loss=0.281, cycle_H_loss=0.129, iter=151, max_psnr=0, max_ssim=0] "
     ]
    },
    {
     "name": "stdout",
     "output_type": "stream",
     "text": [
      "=> Saving checkpoint\n"
     ]
    },
    {
     "name": "stderr",
     "output_type": "stream",
     "text": [
      "  0%|          | 151/60000 [45:29<300:38:31, 18.08s/it, D_loss=0.428, G_C_loss=0.284, G_H_loss=0.402, G_loss=7.76, I_H_loss=0.237, I_loss=0.144, PC_loss=7.57, cycle_C_loss=0.16, cycle_H_loss=0.213, iter=152, max_psnr=0, max_ssim=0]"
     ]
    },
    {
     "name": "stdout",
     "output_type": "stream",
     "text": [
      "=> Saving checkpoint\n"
     ]
    },
    {
     "name": "stderr",
     "output_type": "stream",
     "text": [
      "  0%|          | 152/60000 [45:46<305:50:09, 18.40s/it, D_loss=0.393, G_C_loss=0.435, G_H_loss=0.386, G_loss=7.43, I_H_loss=0.119, I_loss=0.24, PC_loss=6, cycle_C_loss=0.244, cycle_H_loss=0.095, iter=153, max_psnr=0, max_ssim=0]   "
     ]
    },
    {
     "name": "stdout",
     "output_type": "stream",
     "text": [
      "=> Saving checkpoint\n"
     ]
    },
    {
     "name": "stderr",
     "output_type": "stream",
     "text": [
      "  0%|          | 153/60000 [46:03<300:22:24, 18.07s/it, D_loss=0.528, G_C_loss=0.37, G_H_loss=0.254, G_loss=15, I_H_loss=0.227, I_loss=0.576, PC_loss=13.1, cycle_C_loss=0.592, cycle_H_loss=0.253, iter=154, max_psnr=0, max_ssim=0]"
     ]
    },
    {
     "name": "stdout",
     "output_type": "stream",
     "text": [
      "=> Saving checkpoint\n"
     ]
    },
    {
     "name": "stderr",
     "output_type": "stream",
     "text": [
      "  0%|          | 154/60000 [46:21<296:10:28, 17.82s/it, D_loss=0.418, G_C_loss=0.336, G_H_loss=0.374, G_loss=8.08, I_H_loss=0.176, I_loss=0.197, PC_loss=8.94, cycle_C_loss=0.192, cycle_H_loss=0.198, iter=155, max_psnr=0, max_ssim=0]"
     ]
    },
    {
     "name": "stdout",
     "output_type": "stream",
     "text": [
      "=> Saving checkpoint\n"
     ]
    },
    {
     "name": "stderr",
     "output_type": "stream",
     "text": [
      "  0%|          | 155/60000 [46:40<294:10:49, 17.70s/it, D_loss=0.455, G_C_loss=0.291, G_H_loss=0.341, G_loss=6.07, I_H_loss=0.0955, I_loss=0.183, PC_loss=9.61, cycle_C_loss=0.146, cycle_H_loss=0.0989, iter=156, max_psnr=0, max_ssim=0]"
     ]
    },
    {
     "name": "stdout",
     "output_type": "stream",
     "text": [
      "=> Saving checkpoint\n"
     ]
    },
    {
     "name": "stderr",
     "output_type": "stream",
     "text": [
      "  0%|          | 156/60000 [46:59<304:51:57, 18.34s/it, D_loss=0.356, G_C_loss=0.419, G_H_loss=0.378, G_loss=6.12, I_H_loss=0.117, I_loss=0.102, PC_loss=9.83, cycle_C_loss=0.127, cycle_H_loss=0.118, iter=157, max_psnr=0, max_ssim=0]  "
     ]
    },
    {
     "name": "stdout",
     "output_type": "stream",
     "text": [
      "=> Saving checkpoint\n"
     ]
    },
    {
     "name": "stderr",
     "output_type": "stream",
     "text": [
      "  0%|          | 157/60000 [47:16<304:38:40, 18.33s/it, D_loss=0.496, G_C_loss=0.39, G_H_loss=0.33, G_loss=8.57, I_H_loss=0.232, I_loss=0.157, PC_loss=8.83, cycle_C_loss=0.204, cycle_H_loss=0.226, iter=158, max_psnr=0, max_ssim=0]  "
     ]
    },
    {
     "name": "stdout",
     "output_type": "stream",
     "text": [
      "=> Saving checkpoint\n"
     ]
    },
    {
     "name": "stderr",
     "output_type": "stream",
     "text": [
      "  0%|          | 158/60000 [47:35<300:20:35, 18.07s/it, D_loss=0.437, G_C_loss=0.322, G_H_loss=0.406, G_loss=6.28, I_H_loss=0.0886, I_loss=0.162, PC_loss=9.39, cycle_C_loss=0.149, cycle_H_loss=0.114, iter=159, max_psnr=0, max_ssim=0]"
     ]
    },
    {
     "name": "stdout",
     "output_type": "stream",
     "text": [
      "=> Saving checkpoint\n"
     ]
    },
    {
     "name": "stderr",
     "output_type": "stream",
     "text": [
      "  0%|          | 159/60000 [47:52<301:32:48, 18.14s/it, D_loss=0.452, G_C_loss=0.279, G_H_loss=0.348, G_loss=5.73, I_H_loss=0.0919, I_loss=0.111, PC_loss=8.58, cycle_C_loss=0.143, cycle_H_loss=0.118, iter=160, max_psnr=0, max_ssim=0]"
     ]
    },
    {
     "name": "stdout",
     "output_type": "stream",
     "text": [
      "=> Saving checkpoint\n"
     ]
    },
    {
     "name": "stderr",
     "output_type": "stream",
     "text": [
      "  0%|          | 160/60000 [48:10<299:07:11, 18.00s/it, D_loss=0.456, G_C_loss=0.224, G_H_loss=0.413, G_loss=10.3, I_H_loss=0.29, I_loss=0.248, PC_loss=9.21, cycle_C_loss=0.222, cycle_H_loss=0.319, iter=161, max_psnr=0, max_ssim=0]  "
     ]
    },
    {
     "name": "stdout",
     "output_type": "stream",
     "text": [
      "=> Saving checkpoint\n"
     ]
    },
    {
     "name": "stderr",
     "output_type": "stream",
     "text": [
      "  0%|          | 161/60000 [48:27<295:31:12, 17.78s/it, D_loss=0.498, G_C_loss=0.291, G_H_loss=0.309, G_loss=8.18, I_H_loss=0.189, I_loss=0.218, PC_loss=8.58, cycle_C_loss=0.228, cycle_H_loss=0.181, iter=162, max_psnr=0, max_ssim=0]"
     ]
    },
    {
     "name": "stdout",
     "output_type": "stream",
     "text": [
      "=> Saving checkpoint\n"
     ]
    },
    {
     "name": "stderr",
     "output_type": "stream",
     "text": [
      "  0%|          | 162/60000 [48:46<295:33:21, 17.78s/it, D_loss=0.5, G_C_loss=0.298, G_H_loss=0.322, G_loss=9.57, I_H_loss=0.182, I_loss=0.275, PC_loss=8.32, cycle_C_loss=0.338, cycle_H_loss=0.183, iter=163, max_psnr=0, max_ssim=0]  "
     ]
    },
    {
     "name": "stdout",
     "output_type": "stream",
     "text": [
      "=> Saving checkpoint\n"
     ]
    },
    {
     "name": "stderr",
     "output_type": "stream",
     "text": [
      "  0%|          | 163/60000 [49:05<301:07:03, 18.12s/it, D_loss=0.422, G_C_loss=0.385, G_H_loss=0.301, G_loss=5.66, I_H_loss=0.0797, I_loss=0.118, PC_loss=9.66, cycle_C_loss=0.14, cycle_H_loss=0.0937, iter=164, max_psnr=0, max_ssim=0]"
     ]
    },
    {
     "name": "stdout",
     "output_type": "stream",
     "text": [
      "=> Saving checkpoint\n"
     ]
    },
    {
     "name": "stderr",
     "output_type": "stream",
     "text": [
      "  0%|          | 164/60000 [49:22<303:29:37, 18.26s/it, D_loss=0.469, G_C_loss=0.321, G_H_loss=0.28, G_loss=6.54, I_H_loss=0.156, I_loss=0.128, PC_loss=9.83, cycle_C_loss=0.136, cycle_H_loss=0.157, iter=165, max_psnr=0, max_ssim=0]  "
     ]
    },
    {
     "name": "stdout",
     "output_type": "stream",
     "text": [
      "=> Saving checkpoint\n"
     ]
    },
    {
     "name": "stderr",
     "output_type": "stream",
     "text": [
      "  0%|          | 165/60000 [49:39<298:54:49, 17.98s/it, D_loss=0.387, G_C_loss=0.342, G_H_loss=0.41, G_loss=6.59, I_H_loss=0.169, I_loss=0.126, PC_loss=6.77, cycle_C_loss=0.113, cycle_H_loss=0.18, iter=166, max_psnr=0, max_ssim=0] "
     ]
    },
    {
     "name": "stdout",
     "output_type": "stream",
     "text": [
      "=> Saving checkpoint\n"
     ]
    },
    {
     "name": "stderr",
     "output_type": "stream",
     "text": [
      "  0%|          | 166/60000 [49:57<293:57:55, 17.69s/it, D_loss=0.433, G_C_loss=0.339, G_H_loss=0.385, G_loss=5.65, I_H_loss=0.113, I_loss=0.107, PC_loss=9.46, cycle_C_loss=0.0994, cycle_H_loss=0.116, iter=167, max_psnr=0, max_ssim=0]"
     ]
    },
    {
     "name": "stdout",
     "output_type": "stream",
     "text": [
      "=> Saving checkpoint\n"
     ]
    },
    {
     "name": "stderr",
     "output_type": "stream",
     "text": [
      "  0%|          | 167/60000 [50:14<292:00:27, 17.57s/it, D_loss=0.363, G_C_loss=0.375, G_H_loss=0.417, G_loss=9.85, I_H_loss=0.25, I_loss=0.224, PC_loss=8.13, cycle_C_loss=0.273, cycle_H_loss=0.236, iter=168, max_psnr=0, max_ssim=0]  "
     ]
    },
    {
     "name": "stdout",
     "output_type": "stream",
     "text": [
      "=> Saving checkpoint\n"
     ]
    },
    {
     "name": "stderr",
     "output_type": "stream",
     "text": [
      "  0%|          | 168/60000 [50:32<294:27:26, 17.72s/it, D_loss=0.403, G_C_loss=0.3, G_H_loss=0.478, G_loss=7.77, I_H_loss=0.242, I_loss=0.105, PC_loss=11.4, cycle_C_loss=0.104, cycle_H_loss=0.23, iter=169, max_psnr=0, max_ssim=0]  "
     ]
    },
    {
     "name": "stdout",
     "output_type": "stream",
     "text": [
      "=> Saving checkpoint\n"
     ]
    },
    {
     "name": "stderr",
     "output_type": "stream",
     "text": [
      "  0%|          | 169/60000 [50:53<295:21:27, 17.77s/it, D_loss=0.381, G_C_loss=0.376, G_H_loss=0.421, G_loss=8.73, I_H_loss=0.303, I_loss=0.108, PC_loss=8.25, cycle_C_loss=0.132, cycle_H_loss=0.293, iter=170, max_psnr=0, max_ssim=0]"
     ]
    },
    {
     "name": "stdout",
     "output_type": "stream",
     "text": [
      "=> Saving checkpoint\n"
     ]
    },
    {
     "name": "stderr",
     "output_type": "stream",
     "text": [
      "  0%|          | 170/60000 [51:10<307:29:00, 18.50s/it, D_loss=0.44, G_C_loss=0.324, G_H_loss=0.405, G_loss=8.26, I_H_loss=0.112, I_loss=0.26, PC_loss=11.7, cycle_C_loss=0.243, cycle_H_loss=0.133, iter=171, max_psnr=0, max_ssim=0]  "
     ]
    },
    {
     "name": "stdout",
     "output_type": "stream",
     "text": [
      "=> Saving checkpoint\n"
     ]
    },
    {
     "name": "stderr",
     "output_type": "stream",
     "text": [
      "  0%|          | 171/60000 [51:27<303:44:57, 18.28s/it, D_loss=0.463, G_C_loss=0.258, G_H_loss=0.287, G_loss=5.11, I_H_loss=0.117, I_loss=0.0949, PC_loss=7.21, cycle_C_loss=0.11, cycle_H_loss=0.114, iter=172, max_psnr=0, max_ssim=0]"
     ]
    },
    {
     "name": "stdout",
     "output_type": "stream",
     "text": [
      "=> Saving checkpoint\n"
     ]
    },
    {
     "name": "stderr",
     "output_type": "stream",
     "text": [
      "  0%|          | 172/60000 [51:44<296:13:56, 17.83s/it, D_loss=0.535, G_C_loss=0.28, G_H_loss=0.181, G_loss=5.5, I_H_loss=0.0737, I_loss=0.179, PC_loss=9.21, cycle_C_loss=0.143, cycle_H_loss=0.0963, iter=173, max_psnr=0, max_ssim=0]"
     ]
    },
    {
     "name": "stdout",
     "output_type": "stream",
     "text": [
      "=> Saving checkpoint\n"
     ]
    },
    {
     "name": "stderr",
     "output_type": "stream",
     "text": [
      "  0%|          | 173/60000 [52:01<291:38:05, 17.55s/it, D_loss=0.497, G_C_loss=0.198, G_H_loss=0.557, G_loss=8.97, I_H_loss=0.257, I_loss=0.15, PC_loss=13.5, cycle_C_loss=0.128, cycle_H_loss=0.28, iter=174, max_psnr=0, max_ssim=0]  "
     ]
    },
    {
     "name": "stdout",
     "output_type": "stream",
     "text": [
      "=> Saving checkpoint\n"
     ]
    },
    {
     "name": "stderr",
     "output_type": "stream",
     "text": [
      "  0%|          | 174/60000 [52:19<287:57:28, 17.33s/it, D_loss=0.553, G_C_loss=0.312, G_H_loss=0.276, G_loss=10.9, I_H_loss=0.343, I_loss=0.22, PC_loss=11.4, cycle_C_loss=0.198, cycle_H_loss=0.377, iter=175, max_psnr=0, max_ssim=0]"
     ]
    },
    {
     "name": "stdout",
     "output_type": "stream",
     "text": [
      "=> Saving checkpoint\n"
     ]
    },
    {
     "name": "stderr",
     "output_type": "stream",
     "text": [
      "  0%|          | 175/60000 [52:37<292:43:15, 17.61s/it, D_loss=0.542, G_C_loss=0.338, G_H_loss=0.287, G_loss=7.19, I_H_loss=0.13, I_loss=0.107, PC_loss=18.8, cycle_C_loss=0.146, cycle_H_loss=0.141, iter=176, max_psnr=0, max_ssim=0]"
     ]
    },
    {
     "name": "stdout",
     "output_type": "stream",
     "text": [
      "=> Saving checkpoint\n"
     ]
    },
    {
     "name": "stderr",
     "output_type": "stream",
     "text": [
      "  0%|          | 176/60000 [52:55<296:33:38, 17.85s/it, D_loss=0.592, G_C_loss=0.332, G_H_loss=0.233, G_loss=5.89, I_H_loss=0.127, I_loss=0.0912, PC_loss=8.82, cycle_C_loss=0.142, cycle_H_loss=0.136, iter=177, max_psnr=0, max_ssim=0]"
     ]
    },
    {
     "name": "stdout",
     "output_type": "stream",
     "text": [
      "=> Saving checkpoint\n"
     ]
    },
    {
     "name": "stderr",
     "output_type": "stream",
     "text": [
      "  0%|          | 177/60000 [53:12<295:31:28, 17.78s/it, D_loss=0.671, G_C_loss=0.175, G_H_loss=0.289, G_loss=6.69, I_H_loss=0.165, I_loss=0.188, PC_loss=6.76, cycle_C_loss=0.173, cycle_H_loss=0.159, iter=178, max_psnr=0, max_ssim=0] "
     ]
    },
    {
     "name": "stdout",
     "output_type": "stream",
     "text": [
      "=> Saving checkpoint\n"
     ]
    },
    {
     "name": "stderr",
     "output_type": "stream",
     "text": [
      "  0%|          | 178/60000 [53:31<292:40:11, 17.61s/it, D_loss=0.514, G_C_loss=0.213, G_H_loss=0.304, G_loss=6.17, I_H_loss=0.0898, I_loss=0.13, PC_loss=17.1, cycle_C_loss=0.127, cycle_H_loss=0.106, iter=179, max_psnr=0, max_ssim=0]"
     ]
    },
    {
     "name": "stdout",
     "output_type": "stream",
     "text": [
      "=> Saving checkpoint\n"
     ]
    },
    {
     "name": "stderr",
     "output_type": "stream",
     "text": [
      "  0%|          | 179/60000 [53:48<295:57:43, 17.81s/it, D_loss=0.495, G_C_loss=0.246, G_H_loss=0.339, G_loss=6.24, I_H_loss=0.173, I_loss=0.116, PC_loss=6.87, cycle_C_loss=0.109, cycle_H_loss=0.185, iter=180, max_psnr=0, max_ssim=0]"
     ]
    },
    {
     "name": "stdout",
     "output_type": "stream",
     "text": [
      "=> Saving checkpoint\n"
     ]
    },
    {
     "name": "stderr",
     "output_type": "stream",
     "text": [
      "  0%|          | 180/60000 [54:05<294:56:42, 17.75s/it, D_loss=0.554, G_C_loss=0.324, G_H_loss=0.307, G_loss=11.2, I_H_loss=0.361, I_loss=0.225, PC_loss=9.46, cycle_C_loss=0.237, cycle_H_loss=0.371, iter=181, max_psnr=0, max_ssim=0]"
     ]
    },
    {
     "name": "stdout",
     "output_type": "stream",
     "text": [
      "=> Saving checkpoint\n"
     ]
    },
    {
     "name": "stderr",
     "output_type": "stream",
     "text": [
      "  0%|          | 181/60000 [54:22<290:23:25, 17.48s/it, D_loss=0.521, G_C_loss=0.345, G_H_loss=0.336, G_loss=8.43, I_H_loss=0.247, I_loss=0.117, PC_loss=10.6, cycle_C_loss=0.161, cycle_H_loss=0.257, iter=182, max_psnr=0, max_ssim=0]"
     ]
    },
    {
     "name": "stdout",
     "output_type": "stream",
     "text": [
      "=> Saving checkpoint\n"
     ]
    },
    {
     "name": "stderr",
     "output_type": "stream",
     "text": [
      "  0%|          | 182/60000 [54:39<286:19:29, 17.23s/it, D_loss=0.508, G_C_loss=0.286, G_H_loss=0.288, G_loss=5.7, I_H_loss=0.0984, I_loss=0.147, PC_loss=6.09, cycle_C_loss=0.161, cycle_H_loss=0.11, iter=183, max_psnr=0, max_ssim=0] "
     ]
    },
    {
     "name": "stdout",
     "output_type": "stream",
     "text": [
      "=> Saving checkpoint\n"
     ]
    },
    {
     "name": "stderr",
     "output_type": "stream",
     "text": [
      "  0%|          | 183/60000 [54:56<283:28:57, 17.06s/it, D_loss=0.439, G_C_loss=0.262, G_H_loss=0.399, G_loss=5.91, I_H_loss=0.107, I_loss=0.106, PC_loss=11.9, cycle_C_loss=0.106, cycle_H_loss=0.127, iter=184, max_psnr=0, max_ssim=0]"
     ]
    },
    {
     "name": "stdout",
     "output_type": "stream",
     "text": [
      "=> Saving checkpoint\n"
     ]
    },
    {
     "name": "stderr",
     "output_type": "stream",
     "text": [
      "  0%|          | 184/60000 [55:12<283:53:56, 17.09s/it, D_loss=0.447, G_C_loss=0.429, G_H_loss=0.25, G_loss=10.3, I_H_loss=0.164, I_loss=0.379, PC_loss=6.46, cycle_C_loss=0.411, cycle_H_loss=0.146, iter=185, max_psnr=0, max_ssim=0] "
     ]
    },
    {
     "name": "stdout",
     "output_type": "stream",
     "text": [
      "=> Saving checkpoint\n"
     ]
    },
    {
     "name": "stderr",
     "output_type": "stream",
     "text": [
      "  0%|          | 185/60000 [55:31<285:29:01, 17.18s/it, D_loss=0.485, G_C_loss=0.348, G_H_loss=0.287, G_loss=8.34, I_H_loss=0.135, I_loss=0.201, PC_loss=17.6, cycle_C_loss=0.226, cycle_H_loss=0.136, iter=186, max_psnr=0, max_ssim=0]"
     ]
    },
    {
     "name": "stdout",
     "output_type": "stream",
     "text": [
      "=> Saving checkpoint\n"
     ]
    },
    {
     "name": "stderr",
     "output_type": "stream",
     "text": [
      "  0%|          | 186/60000 [55:48<289:49:02, 17.44s/it, D_loss=0.396, G_C_loss=0.392, G_H_loss=0.333, G_loss=8.14, I_H_loss=0.111, I_loss=0.23, PC_loss=8.94, cycle_C_loss=0.282, cycle_H_loss=0.127, iter=187, max_psnr=0, max_ssim=0] "
     ]
    },
    {
     "name": "stdout",
     "output_type": "stream",
     "text": [
      "=> Saving checkpoint\n"
     ]
    },
    {
     "name": "stderr",
     "output_type": "stream",
     "text": [
      "  0%|          | 187/60000 [56:05<288:55:09, 17.39s/it, D_loss=0.45, G_C_loss=0.358, G_H_loss=0.294, G_loss=6.4, I_H_loss=0.125, I_loss=0.171, PC_loss=6.24, cycle_C_loss=0.157, cycle_H_loss=0.143, iter=188, max_psnr=0, max_ssim=0] "
     ]
    },
    {
     "name": "stdout",
     "output_type": "stream",
     "text": [
      "=> Saving checkpoint\n"
     ]
    },
    {
     "name": "stderr",
     "output_type": "stream",
     "text": [
      "  0%|          | 188/60000 [56:22<287:55:41, 17.33s/it, D_loss=0.339, G_C_loss=0.413, G_H_loss=0.349, G_loss=6.81, I_H_loss=0.0779, I_loss=0.193, PC_loss=6.82, cycle_C_loss=0.246, cycle_H_loss=0.0784, iter=189, max_psnr=0, max_ssim=0]"
     ]
    },
    {
     "name": "stdout",
     "output_type": "stream",
     "text": [
      "=> Saving checkpoint\n"
     ]
    },
    {
     "name": "stderr",
     "output_type": "stream",
     "text": [
      "  0%|          | 189/60000 [56:39<286:02:47, 17.22s/it, D_loss=0.485, G_C_loss=0.307, G_H_loss=0.269, G_loss=6.69, I_H_loss=0.142, I_loss=0.132, PC_loss=15.2, cycle_C_loss=0.126, cycle_H_loss=0.139, iter=190, max_psnr=0, max_ssim=0]  "
     ]
    },
    {
     "name": "stdout",
     "output_type": "stream",
     "text": [
      "=> Saving checkpoint\n"
     ]
    },
    {
     "name": "stderr",
     "output_type": "stream",
     "text": [
      "  0%|          | 190/60000 [56:56<284:50:12, 17.14s/it, D_loss=0.456, G_C_loss=0.332, G_H_loss=0.35, G_loss=9.85, I_H_loss=0.206, I_loss=0.278, PC_loss=10.6, cycle_C_loss=0.29, cycle_H_loss=0.211, iter=191, max_psnr=0, max_ssim=0]  "
     ]
    },
    {
     "name": "stdout",
     "output_type": "stream",
     "text": [
      "=> Saving checkpoint\n"
     ]
    },
    {
     "name": "stderr",
     "output_type": "stream",
     "text": [
      "  0%|          | 191/60000 [57:12<280:49:40, 16.90s/it, D_loss=0.435, G_C_loss=0.394, G_H_loss=0.267, G_loss=7.99, I_H_loss=0.114, I_loss=0.231, PC_loss=12.4, cycle_C_loss=0.224, cycle_H_loss=0.146, iter=192, max_psnr=0, max_ssim=0]"
     ]
    },
    {
     "name": "stdout",
     "output_type": "stream",
     "text": [
      "=> Saving checkpoint\n"
     ]
    },
    {
     "name": "stderr",
     "output_type": "stream",
     "text": [
      "  0%|          | 192/60000 [57:29<279:27:50, 16.82s/it, D_loss=0.452, G_C_loss=0.326, G_H_loss=0.415, G_loss=9.65, I_H_loss=0.33, I_loss=0.126, PC_loss=7.71, cycle_C_loss=0.189, cycle_H_loss=0.323, iter=193, max_psnr=0, max_ssim=0] "
     ]
    },
    {
     "name": "stdout",
     "output_type": "stream",
     "text": [
      "=> Saving checkpoint\n"
     ]
    },
    {
     "name": "stderr",
     "output_type": "stream",
     "text": [
      "  0%|          | 193/60000 [57:47<279:56:58, 16.85s/it, D_loss=0.429, G_C_loss=0.331, G_H_loss=0.424, G_loss=15.1, I_H_loss=0.503, I_loss=0.227, PC_loss=10.1, cycle_C_loss=0.37, cycle_H_loss=0.521, iter=194, max_psnr=0, max_ssim=0]"
     ]
    },
    {
     "name": "stdout",
     "output_type": "stream",
     "text": [
      "=> Saving checkpoint\n"
     ]
    },
    {
     "name": "stderr",
     "output_type": "stream",
     "text": [
      "  0%|          | 194/60000 [58:04<281:58:02, 16.97s/it, D_loss=0.527, G_C_loss=0.241, G_H_loss=0.411, G_loss=6.66, I_H_loss=0.153, I_loss=0.135, PC_loss=13.4, cycle_C_loss=0.132, cycle_H_loss=0.126, iter=195, max_psnr=0, max_ssim=0]"
     ]
    },
    {
     "name": "stdout",
     "output_type": "stream",
     "text": [
      "=> Saving checkpoint\n"
     ]
    },
    {
     "name": "stderr",
     "output_type": "stream",
     "text": [
      "  0%|          | 195/60000 [58:21<283:15:04, 17.05s/it, D_loss=0.396, G_C_loss=0.358, G_H_loss=0.284, G_loss=6.78, I_H_loss=0.132, I_loss=0.171, PC_loss=7.73, cycle_C_loss=0.214, cycle_H_loss=0.107, iter=196, max_psnr=0, max_ssim=0]"
     ]
    },
    {
     "name": "stdout",
     "output_type": "stream",
     "text": [
      "=> Saving checkpoint\n"
     ]
    },
    {
     "name": "stderr",
     "output_type": "stream",
     "text": [
      "  0%|          | 196/60000 [58:37<283:15:50, 17.05s/it, D_loss=0.519, G_C_loss=0.253, G_H_loss=0.298, G_loss=9.01, I_H_loss=0.222, I_loss=0.273, PC_loss=10.5, cycle_C_loss=0.226, cycle_H_loss=0.213, iter=197, max_psnr=0, max_ssim=0]"
     ]
    },
    {
     "name": "stdout",
     "output_type": "stream",
     "text": [
      "=> Saving checkpoint\n"
     ]
    },
    {
     "name": "stderr",
     "output_type": "stream",
     "text": [
      "  0%|          | 197/60000 [58:55<280:19:57, 16.88s/it, D_loss=0.514, G_C_loss=0.244, G_H_loss=0.333, G_loss=6.5, I_H_loss=0.162, I_loss=0.113, PC_loss=7.39, cycle_C_loss=0.141, cycle_H_loss=0.182, iter=198, max_psnr=0, max_ssim=0] "
     ]
    },
    {
     "name": "stdout",
     "output_type": "stream",
     "text": [
      "=> Saving checkpoint\n"
     ]
    },
    {
     "name": "stderr",
     "output_type": "stream",
     "text": [
      "  0%|          | 198/60000 [59:12<283:56:24, 17.09s/it, D_loss=0.403, G_C_loss=0.317, G_H_loss=0.386, G_loss=7.43, I_H_loss=0.24, I_loss=0.0985, PC_loss=9.68, cycle_C_loss=0.108, cycle_H_loss=0.229, iter=199, max_psnr=0, max_ssim=0]"
     ]
    },
    {
     "name": "stdout",
     "output_type": "stream",
     "text": [
      "=> Saving checkpoint\n"
     ]
    },
    {
     "name": "stderr",
     "output_type": "stream",
     "text": [
      "  0%|          | 199/60000 [59:30<282:49:48, 17.03s/it, D_loss=0.541, G_C_loss=0.287, G_H_loss=0.354, G_loss=6.23, I_H_loss=0.158, I_loss=0.127, PC_loss=9.36, cycle_C_loss=0.104, cycle_H_loss=0.155, iter=200, max_psnr=0, max_ssim=0]"
     ]
    },
    {
     "name": "stdout",
     "output_type": "stream",
     "text": [
      "=> Saving checkpoint\n"
     ]
    },
    {
     "name": "stderr",
     "output_type": "stream",
     "text": [
      "  0%|          | 200/60000 [59:46<286:53:39, 17.27s/it, D_loss=0.421, G_C_loss=0.358, G_H_loss=0.344, G_loss=11.3, I_H_loss=0.305, I_loss=0.262, PC_loss=10.3, cycle_C_loss=0.242, cycle_H_loss=0.358, iter=201, max_psnr=0, max_ssim=0]"
     ]
    },
    {
     "name": "stdout",
     "output_type": "stream",
     "text": [
      "=> Saving checkpoint\n"
     ]
    },
    {
     "name": "stderr",
     "output_type": "stream",
     "text": [
      "  0%|          | 201/60000 [1:00:03<283:02:53, 17.04s/it, D_loss=0.401, G_C_loss=0.284, G_H_loss=0.364, G_loss=9.36, I_H_loss=0.374, I_loss=0.0993, PC_loss=6.89, cycle_C_loss=0.125, cycle_H_loss=0.376, iter=202, max_psnr=0, max_ssim=0]"
     ]
    },
    {
     "name": "stdout",
     "output_type": "stream",
     "text": [
      "=> Saving checkpoint\n"
     ]
    },
    {
     "name": "stderr",
     "output_type": "stream",
     "text": [
      "  0%|          | 202/60000 [1:00:20<281:38:52, 16.96s/it, D_loss=0.479, G_C_loss=0.348, G_H_loss=0.256, G_loss=4.94, I_H_loss=0.106, I_loss=0.0919, PC_loss=8.59, cycle_C_loss=0.0923, cycle_H_loss=0.0957, iter=203, max_psnr=0, max_ssim=0]"
     ]
    },
    {
     "name": "stdout",
     "output_type": "stream",
     "text": [
      "=> Saving checkpoint\n"
     ]
    },
    {
     "name": "stderr",
     "output_type": "stream",
     "text": [
      "  0%|          | 203/60000 [1:00:36<280:38:28, 16.90s/it, D_loss=0.477, G_C_loss=0.268, G_H_loss=0.3, G_loss=6.52, I_H_loss=0.164, I_loss=0.129, PC_loss=9.61, cycle_C_loss=0.151, cycle_H_loss=0.144, iter=204, max_psnr=0, max_ssim=0]     "
     ]
    },
    {
     "name": "stdout",
     "output_type": "stream",
     "text": [
      "=> Saving checkpoint\n"
     ]
    },
    {
     "name": "stderr",
     "output_type": "stream",
     "text": [
      "  0%|          | 204/60000 [1:00:53<279:21:08, 16.82s/it, D_loss=0.425, G_C_loss=0.369, G_H_loss=0.353, G_loss=6.07, I_H_loss=0.0735, I_loss=0.177, PC_loss=6.97, cycle_C_loss=0.197, cycle_H_loss=0.0706, iter=205, max_psnr=0, max_ssim=0]"
     ]
    },
    {
     "name": "stdout",
     "output_type": "stream",
     "text": [
      "=> Saving checkpoint\n"
     ]
    },
    {
     "name": "stderr",
     "output_type": "stream",
     "text": [
      "  0%|          | 205/60000 [1:01:10<280:04:04, 16.86s/it, D_loss=0.326, G_C_loss=0.465, G_H_loss=0.434, G_loss=10.2, I_H_loss=0.223, I_loss=0.299, PC_loss=5.57, cycle_C_loss=0.306, cycle_H_loss=0.213, iter=206, max_psnr=0, max_ssim=0]  "
     ]
    },
    {
     "name": "stdout",
     "output_type": "stream",
     "text": [
      "=> Saving checkpoint\n"
     ]
    },
    {
     "name": "stderr",
     "output_type": "stream",
     "text": [
      "  0%|          | 206/60000 [1:01:27<280:31:21, 16.89s/it, D_loss=0.405, G_C_loss=0.397, G_H_loss=0.487, G_loss=7.21, I_H_loss=0.119, I_loss=0.154, PC_loss=9.04, cycle_C_loss=0.16, cycle_H_loss=0.157, iter=207, max_psnr=0, max_ssim=0] "
     ]
    },
    {
     "name": "stdout",
     "output_type": "stream",
     "text": [
      "=> Saving checkpoint\n"
     ]
    },
    {
     "name": "stderr",
     "output_type": "stream",
     "text": [
      "  0%|          | 207/60000 [1:01:43<279:07:24, 16.81s/it, D_loss=0.425, G_C_loss=0.336, G_H_loss=0.323, G_loss=8.54, I_H_loss=0.117, I_loss=0.239, PC_loss=16.9, cycle_C_loss=0.241, cycle_H_loss=0.133, iter=208, max_psnr=0, max_ssim=0]"
     ]
    },
    {
     "name": "stdout",
     "output_type": "stream",
     "text": [
      "=> Saving checkpoint\n"
     ]
    },
    {
     "name": "stderr",
     "output_type": "stream",
     "text": [
      "  0%|          | 208/60000 [1:02:02<278:15:44, 16.75s/it, D_loss=0.561, G_C_loss=0.302, G_H_loss=0.185, G_loss=6.2, I_H_loss=0.138, I_loss=0.167, PC_loss=7.89, cycle_C_loss=0.163, cycle_H_loss=0.128, iter=209, max_psnr=0, max_ssim=0] "
     ]
    },
    {
     "name": "stdout",
     "output_type": "stream",
     "text": [
      "=> Saving checkpoint\n"
     ]
    },
    {
     "name": "stderr",
     "output_type": "stream",
     "text": [
      "  0%|          | 209/60000 [1:02:20<285:34:38, 17.19s/it, D_loss=0.416, G_C_loss=0.331, G_H_loss=0.346, G_loss=8.4, I_H_loss=0.296, I_loss=0.122, PC_loss=5.98, cycle_C_loss=0.127, cycle_H_loss=0.31, iter=210, max_psnr=0, max_ssim=0] "
     ]
    },
    {
     "name": "stdout",
     "output_type": "stream",
     "text": [
      "=> Saving checkpoint\n"
     ]
    },
    {
     "name": "stderr",
     "output_type": "stream",
     "text": [
      "  0%|          | 210/60000 [1:02:40<290:53:28, 17.51s/it, D_loss=0.503, G_C_loss=0.178, G_H_loss=0.365, G_loss=6.86, I_H_loss=0.166, I_loss=0.121, PC_loss=13, cycle_C_loss=0.12, cycle_H_loss=0.183, iter=211, max_psnr=0, max_ssim=0] "
     ]
    },
    {
     "name": "stdout",
     "output_type": "stream",
     "text": [
      "=> Saving checkpoint\n"
     ]
    },
    {
     "name": "stderr",
     "output_type": "stream",
     "text": [
      "  0%|          | 211/60000 [1:03:00<306:15:18, 18.44s/it, D_loss=0.5, G_C_loss=0.29, G_H_loss=0.262, G_loss=5.67, I_H_loss=0.102, I_loss=0.11, PC_loss=9.97, cycle_C_loss=0.133, cycle_H_loss=0.118, iter=212, max_psnr=0, max_ssim=0] "
     ]
    },
    {
     "name": "stdout",
     "output_type": "stream",
     "text": [
      "=> Saving checkpoint\n"
     ]
    },
    {
     "name": "stderr",
     "output_type": "stream",
     "text": [
      "  0%|          | 212/60000 [1:03:19<311:40:02, 18.77s/it, D_loss=0.525, G_C_loss=0.304, G_H_loss=0.269, G_loss=5.62, I_H_loss=0.103, I_loss=0.134, PC_loss=9.37, cycle_C_loss=0.128, cycle_H_loss=0.107, iter=213, max_psnr=0, max_ssim=0]"
     ]
    },
    {
     "name": "stdout",
     "output_type": "stream",
     "text": [
      "=> Saving checkpoint\n"
     ]
    },
    {
     "name": "stderr",
     "output_type": "stream",
     "text": [
      "  0%|          | 213/60000 [1:03:36<311:44:46, 18.77s/it, D_loss=0.362, G_C_loss=0.373, G_H_loss=0.448, G_loss=8.48, I_H_loss=0.16, I_loss=0.19, PC_loss=8.23, cycle_C_loss=0.246, cycle_H_loss=0.181, iter=214, max_psnr=0, max_ssim=0]  "
     ]
    },
    {
     "name": "stdout",
     "output_type": "stream",
     "text": [
      "=> Saving checkpoint\n"
     ]
    },
    {
     "name": "stderr",
     "output_type": "stream",
     "text": [
      "  0%|          | 214/60000 [1:03:52<301:12:36, 18.14s/it, D_loss=0.454, G_C_loss=0.27, G_H_loss=0.324, G_loss=8.15, I_H_loss=0.196, I_loss=0.194, PC_loss=9.89, cycle_C_loss=0.177, cycle_H_loss=0.225, iter=215, max_psnr=0, max_ssim=0]"
     ]
    },
    {
     "name": "stdout",
     "output_type": "stream",
     "text": [
      "=> Saving checkpoint\n"
     ]
    },
    {
     "name": "stderr",
     "output_type": "stream",
     "text": [
      "  0%|          | 215/60000 [1:04:12<295:44:09, 17.81s/it, D_loss=0.346, G_C_loss=0.374, G_H_loss=0.413, G_loss=6.46, I_H_loss=0.0834, I_loss=0.152, PC_loss=7.93, cycle_C_loss=0.201, cycle_H_loss=0.0915, iter=216, max_psnr=0, max_ssim=0]"
     ]
    },
    {
     "name": "stdout",
     "output_type": "stream",
     "text": [
      "=> Saving checkpoint\n"
     ]
    },
    {
     "name": "stderr",
     "output_type": "stream",
     "text": [
      "  0%|          | 216/60000 [1:04:31<303:49:04, 18.29s/it, D_loss=0.528, G_C_loss=0.315, G_H_loss=0.246, G_loss=7.06, I_H_loss=0.178, I_loss=0.155, PC_loss=9.73, cycle_C_loss=0.154, cycle_H_loss=0.176, iter=217, max_psnr=0, max_ssim=0]  "
     ]
    },
    {
     "name": "stdout",
     "output_type": "stream",
     "text": [
      "=> Saving checkpoint\n"
     ]
    },
    {
     "name": "stderr",
     "output_type": "stream",
     "text": [
      "  0%|          | 217/60000 [1:04:50<308:11:46, 18.56s/it, D_loss=0.397, G_C_loss=0.312, G_H_loss=0.348, G_loss=7.53, I_H_loss=0.161, I_loss=0.168, PC_loss=9.19, cycle_C_loss=0.159, cycle_H_loss=0.206, iter=218, max_psnr=0, max_ssim=0]"
     ]
    },
    {
     "name": "stdout",
     "output_type": "stream",
     "text": [
      "=> Saving checkpoint\n"
     ]
    },
    {
     "name": "stderr",
     "output_type": "stream",
     "text": [
      "  0%|          | 218/60000 [1:05:07<308:20:10, 18.57s/it, D_loss=0.435, G_C_loss=0.379, G_H_loss=0.356, G_loss=7.99, I_H_loss=0.144, I_loss=0.203, PC_loss=6.83, cycle_C_loss=0.254, cycle_H_loss=0.156, iter=219, max_psnr=0, max_ssim=0]"
     ]
    },
    {
     "name": "stdout",
     "output_type": "stream",
     "text": [
      "=> Saving checkpoint\n"
     ]
    },
    {
     "name": "stderr",
     "output_type": "stream",
     "text": [
      "  0%|          | 219/60000 [1:05:27<302:03:33, 18.19s/it, D_loss=0.351, G_C_loss=0.313, G_H_loss=0.406, G_loss=7.54, I_H_loss=0.183, I_loss=0.159, PC_loss=8.68, cycle_C_loss=0.193, cycle_H_loss=0.159, iter=220, max_psnr=0, max_ssim=0]"
     ]
    },
    {
     "name": "stdout",
     "output_type": "stream",
     "text": [
      "=> Saving checkpoint\n"
     ]
    },
    {
     "name": "stderr",
     "output_type": "stream",
     "text": [
      "  0%|          | 220/60000 [1:05:48<310:52:06, 18.72s/it, D_loss=0.48, G_C_loss=0.26, G_H_loss=0.394, G_loss=7.04, I_H_loss=0.178, I_loss=0.132, PC_loss=7.23, cycle_C_loss=0.142, cycle_H_loss=0.204, iter=221, max_psnr=0, max_ssim=0]  "
     ]
    },
    {
     "name": "stdout",
     "output_type": "stream",
     "text": [
      "=> Saving checkpoint\n"
     ]
    },
    {
     "name": "stderr",
     "output_type": "stream",
     "text": [
      "  0%|          | 221/60000 [1:06:07<320:49:07, 19.32s/it, D_loss=0.536, G_C_loss=0.387, G_H_loss=0.264, G_loss=8.58, I_H_loss=0.184, I_loss=0.238, PC_loss=6.96, cycle_C_loss=0.243, cycle_H_loss=0.203, iter=222, max_psnr=0, max_ssim=0]"
     ]
    },
    {
     "name": "stdout",
     "output_type": "stream",
     "text": [
      "=> Saving checkpoint\n"
     ]
    },
    {
     "name": "stderr",
     "output_type": "stream",
     "text": [
      "  0%|          | 222/60000 [1:06:26<320:27:47, 19.30s/it, D_loss=0.371, G_C_loss=0.421, G_H_loss=0.447, G_loss=5.38, I_H_loss=0.12, I_loss=0.0805, PC_loss=6.95, cycle_C_loss=0.0892, cycle_H_loss=0.105, iter=223, max_psnr=0, max_ssim=0]"
     ]
    },
    {
     "name": "stdout",
     "output_type": "stream",
     "text": [
      "=> Saving checkpoint\n"
     ]
    },
    {
     "name": "stderr",
     "output_type": "stream",
     "text": [
      "  0%|          | 223/60000 [1:06:43<320:31:11, 19.30s/it, D_loss=0.36, G_C_loss=0.423, G_H_loss=0.374, G_loss=5.89, I_H_loss=0.0584, I_loss=0.124, PC_loss=9.32, cycle_C_loss=0.159, cycle_H_loss=0.0857, iter=224, max_psnr=0, max_ssim=0]"
     ]
    },
    {
     "name": "stdout",
     "output_type": "stream",
     "text": [
      "=> Saving checkpoint\n"
     ]
    },
    {
     "name": "stderr",
     "output_type": "stream",
     "text": [
      "  0%|          | 224/60000 [1:07:03<309:48:14, 18.66s/it, D_loss=0.452, G_C_loss=0.301, G_H_loss=0.376, G_loss=6.84, I_H_loss=0.187, I_loss=0.135, PC_loss=10.1, cycle_C_loss=0.119, cycle_H_loss=0.168, iter=225, max_psnr=0, max_ssim=0] "
     ]
    },
    {
     "name": "stdout",
     "output_type": "stream",
     "text": [
      "=> Saving checkpoint\n"
     ]
    },
    {
     "name": "stderr",
     "output_type": "stream",
     "text": [
      "  0%|          | 225/60000 [1:07:21<313:00:50, 18.85s/it, D_loss=0.427, G_C_loss=0.322, G_H_loss=0.369, G_loss=6.55, I_H_loss=0.102, I_loss=0.151, PC_loss=13.5, cycle_C_loss=0.119, cycle_H_loss=0.136, iter=226, max_psnr=0, max_ssim=0]"
     ]
    },
    {
     "name": "stdout",
     "output_type": "stream",
     "text": [
      "=> Saving checkpoint\n"
     ]
    },
    {
     "name": "stderr",
     "output_type": "stream",
     "text": [
      "  0%|          | 226/60000 [1:07:43<311:46:16, 18.78s/it, D_loss=0.396, G_C_loss=0.364, G_H_loss=0.401, G_loss=9.57, I_H_loss=0.274, I_loss=0.196, PC_loss=9.07, cycle_C_loss=0.192, cycle_H_loss=0.286, iter=227, max_psnr=0, max_ssim=0]"
     ]
    },
    {
     "name": "stdout",
     "output_type": "stream",
     "text": [
      "=> Saving checkpoint\n"
     ]
    },
    {
     "name": "stderr",
     "output_type": "stream",
     "text": [
      "  0%|          | 227/60000 [1:08:02<324:08:14, 19.52s/it, D_loss=0.492, G_C_loss=0.239, G_H_loss=0.277, G_loss=6.15, I_H_loss=0.125, I_loss=0.136, PC_loss=7.51, cycle_C_loss=0.177, cycle_H_loss=0.13, iter=228, max_psnr=0, max_ssim=0] "
     ]
    },
    {
     "name": "stdout",
     "output_type": "stream",
     "text": [
      "=> Saving checkpoint\n"
     ]
    },
    {
     "name": "stderr",
     "output_type": "stream",
     "text": [
      "  0%|          | 228/60000 [1:08:20<321:41:46, 19.38s/it, D_loss=0.509, G_C_loss=0.287, G_H_loss=0.284, G_loss=7.8, I_H_loss=0.204, I_loss=0.164, PC_loss=8.09, cycle_C_loss=0.206, cycle_H_loss=0.194, iter=229, max_psnr=0, max_ssim=0]"
     ]
    },
    {
     "name": "stdout",
     "output_type": "stream",
     "text": [
      "=> Saving checkpoint\n"
     ]
    },
    {
     "name": "stderr",
     "output_type": "stream",
     "text": [
      "  0%|          | 229/60000 [1:08:39<318:37:42, 19.19s/it, D_loss=0.529, G_C_loss=0.235, G_H_loss=0.441, G_loss=5.06, I_H_loss=0.138, I_loss=0.0734, PC_loss=4.81, cycle_C_loss=0.0804, cycle_H_loss=0.136, iter=230, max_psnr=0, max_ssim=0]"
     ]
    },
    {
     "name": "stdout",
     "output_type": "stream",
     "text": [
      "=> Saving checkpoint\n"
     ]
    },
    {
     "name": "stderr",
     "output_type": "stream",
     "text": [
      "  0%|          | 230/60000 [1:08:57<316:25:19, 19.06s/it, D_loss=0.447, G_C_loss=0.262, G_H_loss=0.444, G_loss=7.21, I_H_loss=0.158, I_loss=0.147, PC_loss=14.3, cycle_C_loss=0.138, cycle_H_loss=0.146, iter=231, max_psnr=0, max_ssim=0]  "
     ]
    },
    {
     "name": "stdout",
     "output_type": "stream",
     "text": [
      "=> Saving checkpoint\n"
     ]
    },
    {
     "name": "stderr",
     "output_type": "stream",
     "text": [
      "  0%|          | 231/60000 [1:09:14<310:08:42, 18.68s/it, D_loss=0.464, G_C_loss=0.328, G_H_loss=0.309, G_loss=4.69, I_H_loss=0.0907, I_loss=0.0963, PC_loss=5.75, cycle_C_loss=0.0951, cycle_H_loss=0.095, iter=232, max_psnr=0, max_ssim=0]"
     ]
    },
    {
     "name": "stdout",
     "output_type": "stream",
     "text": [
      "=> Saving checkpoint\n"
     ]
    },
    {
     "name": "stderr",
     "output_type": "stream",
     "text": [
      "  0%|          | 232/60000 [1:09:31<301:15:08, 18.15s/it, D_loss=0.534, G_C_loss=0.337, G_H_loss=0.289, G_loss=5.34, I_H_loss=0.139, I_loss=0.105, PC_loss=6.85, cycle_C_loss=0.0877, cycle_H_loss=0.131, iter=233, max_psnr=0, max_ssim=0]  "
     ]
    },
    {
     "name": "stdout",
     "output_type": "stream",
     "text": [
      "=> Saving checkpoint\n"
     ]
    },
    {
     "name": "stderr",
     "output_type": "stream",
     "text": [
      "  0%|          | 233/60000 [1:09:48<295:26:09, 17.80s/it, D_loss=0.542, G_C_loss=0.263, G_H_loss=0.41, G_loss=4.3, I_H_loss=0.065, I_loss=0.0747, PC_loss=6.23, cycle_C_loss=0.0935, cycle_H_loss=0.0696, iter=234, max_psnr=0, max_ssim=0]"
     ]
    },
    {
     "name": "stdout",
     "output_type": "stream",
     "text": [
      "=> Saving checkpoint\n"
     ]
    },
    {
     "name": "stderr",
     "output_type": "stream",
     "text": [
      "  0%|          | 234/60000 [1:10:04<291:18:49, 17.55s/it, D_loss=0.418, G_C_loss=0.329, G_H_loss=0.345, G_loss=6.5, I_H_loss=0.122, I_loss=0.119, PC_loss=9.52, cycle_C_loss=0.162, cycle_H_loss=0.138, iter=235, max_psnr=0, max_ssim=0]  "
     ]
    },
    {
     "name": "stdout",
     "output_type": "stream",
     "text": [
      "=> Saving checkpoint\n"
     ]
    },
    {
     "name": "stderr",
     "output_type": "stream",
     "text": [
      "  0%|          | 235/60000 [1:10:22<285:01:22, 17.17s/it, D_loss=0.609, G_C_loss=0.244, G_H_loss=0.281, G_loss=5.35, I_H_loss=0.0535, I_loss=0.179, PC_loss=6.74, cycle_C_loss=0.17, cycle_H_loss=0.0762, iter=236, max_psnr=0, max_ssim=0]"
     ]
    },
    {
     "name": "stdout",
     "output_type": "stream",
     "text": [
      "=> Saving checkpoint\n"
     ]
    },
    {
     "name": "stderr",
     "output_type": "stream",
     "text": [
      "  0%|          | 236/60000 [1:10:41<286:45:13, 17.27s/it, D_loss=0.418, G_C_loss=0.377, G_H_loss=0.312, G_loss=7.21, I_H_loss=0.108, I_loss=0.18, PC_loss=13.5, cycle_C_loss=0.163, cycle_H_loss=0.141, iter=237, max_psnr=0, max_ssim=0]  "
     ]
    },
    {
     "name": "stdout",
     "output_type": "stream",
     "text": [
      "=> Saving checkpoint\n"
     ]
    },
    {
     "name": "stderr",
     "output_type": "stream",
     "text": [
      "  0%|          | 237/60000 [1:10:59<298:59:01, 18.01s/it, D_loss=0.34, G_C_loss=0.422, G_H_loss=0.406, G_loss=13.7, I_H_loss=0.422, I_loss=0.237, PC_loss=8.35, cycle_C_loss=0.353, cycle_H_loss=0.441, iter=238, max_psnr=0, max_ssim=0]"
     ]
    },
    {
     "name": "stdout",
     "output_type": "stream",
     "text": [
      "=> Saving checkpoint\n"
     ]
    },
    {
     "name": "stderr",
     "output_type": "stream",
     "text": [
      "  0%|          | 238/60000 [1:11:17<298:24:44, 17.98s/it, D_loss=0.598, G_C_loss=0.178, G_H_loss=0.432, G_loss=5.65, I_H_loss=0.12, I_loss=0.108, PC_loss=12.5, cycle_C_loss=0.105, cycle_H_loss=0.0989, iter=239, max_psnr=0, max_ssim=0]"
     ]
    },
    {
     "name": "stdout",
     "output_type": "stream",
     "text": [
      "=> Saving checkpoint\n"
     ]
    },
    {
     "name": "stderr",
     "output_type": "stream",
     "text": [
      "  0%|          | 239/60000 [1:11:36<298:26:22, 17.98s/it, D_loss=0.399, G_C_loss=0.336, G_H_loss=0.447, G_loss=7.53, I_H_loss=0.231, I_loss=0.106, PC_loss=7.58, cycle_C_loss=0.122, cycle_H_loss=0.231, iter=240, max_psnr=0, max_ssim=0]"
     ]
    },
    {
     "name": "stdout",
     "output_type": "stream",
     "text": [
      "=> Saving checkpoint\n"
     ]
    },
    {
     "name": "stderr",
     "output_type": "stream",
     "text": [
      "  0%|          | 240/60000 [1:11:54<302:15:07, 18.21s/it, D_loss=0.454, G_C_loss=0.26, G_H_loss=0.29, G_loss=6.7, I_H_loss=0.189, I_loss=0.13, PC_loss=6.14, cycle_C_loss=0.131, cycle_H_loss=0.208, iter=241, max_psnr=0, max_ssim=0]    "
     ]
    },
    {
     "name": "stdout",
     "output_type": "stream",
     "text": [
      "=> Saving checkpoint\n"
     ]
    },
    {
     "name": "stderr",
     "output_type": "stream",
     "text": [
      "  0%|          | 241/60000 [1:12:12<301:58:11, 18.19s/it, D_loss=0.477, G_C_loss=0.258, G_H_loss=0.228, G_loss=6.27, I_H_loss=0.0823, I_loss=0.147, PC_loss=16.6, cycle_C_loss=0.125, cycle_H_loss=0.124, iter=242, max_psnr=0, max_ssim=0]"
     ]
    },
    {
     "name": "stdout",
     "output_type": "stream",
     "text": [
      "=> Saving checkpoint\n"
     ]
    },
    {
     "name": "stderr",
     "output_type": "stream",
     "text": [
      "  0%|          | 242/60000 [1:12:31<300:50:57, 18.12s/it, D_loss=0.585, G_C_loss=0.301, G_H_loss=0.237, G_loss=5.28, I_H_loss=0.0741, I_loss=0.147, PC_loss=6.27, cycle_C_loss=0.153, cycle_H_loss=0.0941, iter=243, max_psnr=0, max_ssim=0]"
     ]
    },
    {
     "name": "stdout",
     "output_type": "stream",
     "text": [
      "=> Saving checkpoint\n"
     ]
    },
    {
     "name": "stderr",
     "output_type": "stream",
     "text": [
      "  0%|          | 243/60000 [1:12:48<303:37:32, 18.29s/it, D_loss=0.427, G_C_loss=0.285, G_H_loss=0.437, G_loss=10.5, I_H_loss=0.235, I_loss=0.286, PC_loss=9.49, cycle_C_loss=0.295, cycle_H_loss=0.255, iter=244, max_psnr=0, max_ssim=0]  "
     ]
    },
    {
     "name": "stdout",
     "output_type": "stream",
     "text": [
      "=> Saving checkpoint\n"
     ]
    },
    {
     "name": "stderr",
     "output_type": "stream",
     "text": [
      "  0%|          | 244/60000 [1:13:05<300:50:57, 18.12s/it, D_loss=0.265, G_C_loss=0.491, G_H_loss=0.428, G_loss=8.57, I_H_loss=0.218, I_loss=0.105, PC_loss=8.42, cycle_C_loss=0.19, cycle_H_loss=0.237, iter=245, max_psnr=0, max_ssim=0] "
     ]
    },
    {
     "name": "stdout",
     "output_type": "stream",
     "text": [
      "=> Saving checkpoint\n"
     ]
    },
    {
     "name": "stderr",
     "output_type": "stream",
     "text": [
      "  0%|          | 245/60000 [1:13:22<294:58:53, 17.77s/it, D_loss=0.478, G_C_loss=0.389, G_H_loss=0.313, G_loss=9.68, I_H_loss=0.321, I_loss=0.128, PC_loss=11.4, cycle_C_loss=0.134, cycle_H_loss=0.355, iter=246, max_psnr=0, max_ssim=0]"
     ]
    },
    {
     "name": "stdout",
     "output_type": "stream",
     "text": [
      "=> Saving checkpoint\n"
     ]
    },
    {
     "name": "stderr",
     "output_type": "stream",
     "text": [
      "  0%|          | 246/60000 [1:13:40<290:05:32, 17.48s/it, D_loss=0.31, G_C_loss=0.415, G_H_loss=0.436, G_loss=6.64, I_H_loss=0.0773, I_loss=0.156, PC_loss=8.64, cycle_C_loss=0.219, cycle_H_loss=0.0723, iter=247, max_psnr=0, max_ssim=0]"
     ]
    },
    {
     "name": "stdout",
     "output_type": "stream",
     "text": [
      "=> Saving checkpoint\n"
     ]
    },
    {
     "name": "stderr",
     "output_type": "stream",
     "text": [
      "  0%|          | 247/60000 [1:13:57<289:04:49, 17.42s/it, D_loss=0.324, G_C_loss=0.305, G_H_loss=0.533, G_loss=10.6, I_H_loss=0.21, I_loss=0.282, PC_loss=8.74, cycle_C_loss=0.317, cycle_H_loss=0.238, iter=248, max_psnr=0, max_ssim=0]  "
     ]
    },
    {
     "name": "stdout",
     "output_type": "stream",
     "text": [
      "=> Saving checkpoint\n"
     ]
    },
    {
     "name": "stderr",
     "output_type": "stream",
     "text": [
      "  0%|          | 248/60000 [1:14:15<291:08:00, 17.54s/it, D_loss=0.527, G_C_loss=0.221, G_H_loss=0.337, G_loss=7.44, I_H_loss=0.0909, I_loss=0.272, PC_loss=8.79, cycle_C_loss=0.268, cycle_H_loss=0.0948, iter=249, max_psnr=0, max_ssim=0]"
     ]
    },
    {
     "name": "stdout",
     "output_type": "stream",
     "text": [
      "=> Saving checkpoint\n"
     ]
    },
    {
     "name": "stderr",
     "output_type": "stream",
     "text": [
      "  0%|          | 249/60000 [1:14:33<293:44:49, 17.70s/it, D_loss=0.553, G_C_loss=0.319, G_H_loss=0.357, G_loss=8.2, I_H_loss=0.248, I_loss=0.177, PC_loss=5.86, cycle_C_loss=0.17, cycle_H_loss=0.244, iter=250, max_psnr=0, max_ssim=0]    "
     ]
    },
    {
     "name": "stdout",
     "output_type": "stream",
     "text": [
      "=> Saving checkpoint\n"
     ]
    },
    {
     "name": "stderr",
     "output_type": "stream",
     "text": [
      "  0%|          | 250/60000 [1:14:50<293:31:47, 17.69s/it, D_loss=0.347, G_C_loss=0.36, G_H_loss=0.418, G_loss=6.18, I_H_loss=0.172, I_loss=0.0891, PC_loss=7.45, cycle_C_loss=0.0927, cycle_H_loss=0.165, iter=251, max_psnr=0, max_ssim=0]"
     ]
    },
    {
     "name": "stdout",
     "output_type": "stream",
     "text": [
      "=> Saving checkpoint\n"
     ]
    },
    {
     "name": "stderr",
     "output_type": "stream",
     "text": [
      "  0%|          | 251/60000 [1:15:08<290:56:29, 17.53s/it, D_loss=0.344, G_C_loss=0.314, G_H_loss=0.451, G_loss=8.67, I_H_loss=0.285, I_loss=0.122, PC_loss=7.21, cycle_C_loss=0.153, cycle_H_loss=0.286, iter=252, max_psnr=0, max_ssim=0] "
     ]
    },
    {
     "name": "stdout",
     "output_type": "stream",
     "text": [
      "=> Saving checkpoint\n"
     ]
    },
    {
     "name": "stderr",
     "output_type": "stream",
     "text": [
      "  0%|          | 252/60000 [1:15:25<290:19:55, 17.49s/it, D_loss=0.47, G_C_loss=0.38, G_H_loss=0.298, G_loss=6.96, I_H_loss=0.142, I_loss=0.156, PC_loss=7.34, cycle_C_loss=0.173, cycle_H_loss=0.166, iter=253, max_psnr=0, max_ssim=0]  "
     ]
    },
    {
     "name": "stdout",
     "output_type": "stream",
     "text": [
      "=> Saving checkpoint\n"
     ]
    },
    {
     "name": "stderr",
     "output_type": "stream",
     "text": [
      "  0%|          | 253/60000 [1:15:42<289:28:05, 17.44s/it, D_loss=0.358, G_C_loss=0.397, G_H_loss=0.35, G_loss=4.8, I_H_loss=0.0897, I_loss=0.0833, PC_loss=6.62, cycle_C_loss=0.0739, cycle_H_loss=0.104, iter=254, max_psnr=0, max_ssim=0]"
     ]
    },
    {
     "name": "stdout",
     "output_type": "stream",
     "text": [
      "=> Saving checkpoint\n"
     ]
    },
    {
     "name": "stderr",
     "output_type": "stream",
     "text": [
      "  0%|          | 254/60000 [1:15:59<286:49:41, 17.28s/it, D_loss=0.5, G_C_loss=0.299, G_H_loss=0.277, G_loss=5.77, I_H_loss=0.0838, I_loss=0.136, PC_loss=11.2, cycle_C_loss=0.137, cycle_H_loss=0.103, iter=255, max_psnr=0, max_ssim=0]  "
     ]
    },
    {
     "name": "stdout",
     "output_type": "stream",
     "text": [
      "=> Saving checkpoint\n"
     ]
    },
    {
     "name": "stderr",
     "output_type": "stream",
     "text": [
      "  0%|          | 255/60000 [1:16:15<283:53:52, 17.11s/it, D_loss=0.414, G_C_loss=0.391, G_H_loss=0.345, G_loss=10, I_H_loss=0.248, I_loss=0.249, PC_loss=7.96, cycle_C_loss=0.273, cycle_H_loss=0.253, iter=256, max_psnr=0, max_ssim=0] "
     ]
    },
    {
     "name": "stdout",
     "output_type": "stream",
     "text": [
      "=> Saving checkpoint\n"
     ]
    },
    {
     "name": "stderr",
     "output_type": "stream",
     "text": [
      "  0%|          | 256/60000 [1:16:32<282:47:29, 17.04s/it, D_loss=0.431, G_C_loss=0.349, G_H_loss=0.348, G_loss=5.82, I_H_loss=0.0785, I_loss=0.102, PC_loss=13, cycle_C_loss=0.144, cycle_H_loss=0.0784, iter=257, max_psnr=0, max_ssim=0]"
     ]
    },
    {
     "name": "stdout",
     "output_type": "stream",
     "text": [
      "=> Saving checkpoint\n"
     ]
    },
    {
     "name": "stderr",
     "output_type": "stream",
     "text": [
      "  0%|          | 257/60000 [1:16:49<279:15:59, 16.83s/it, D_loss=0.437, G_C_loss=0.384, G_H_loss=0.351, G_loss=7.69, I_H_loss=0.145, I_loss=0.209, PC_loss=7.3, cycle_C_loss=0.226, cycle_H_loss=0.146, iter=258, max_psnr=0, max_ssim=0] "
     ]
    },
    {
     "name": "stdout",
     "output_type": "stream",
     "text": [
      "=> Saving checkpoint\n"
     ]
    },
    {
     "name": "stderr",
     "output_type": "stream",
     "text": [
      "  0%|          | 258/60000 [1:17:05<279:14:21, 16.83s/it, D_loss=0.313, G_C_loss=0.394, G_H_loss=0.511, G_loss=9.87, I_H_loss=0.227, I_loss=0.228, PC_loss=8.75, cycle_C_loss=0.24, cycle_H_loss=0.252, iter=259, max_psnr=0, max_ssim=0]"
     ]
    },
    {
     "name": "stdout",
     "output_type": "stream",
     "text": [
      "=> Saving checkpoint\n"
     ]
    },
    {
     "name": "stderr",
     "output_type": "stream",
     "text": [
      "  0%|          | 259/60000 [1:17:22<277:04:55, 16.70s/it, D_loss=0.498, G_C_loss=0.343, G_H_loss=0.266, G_loss=8.01, I_H_loss=0.275, I_loss=0.112, PC_loss=9.27, cycle_C_loss=0.129, cycle_H_loss=0.264, iter=260, max_psnr=0, max_ssim=0]"
     ]
    },
    {
     "name": "stdout",
     "output_type": "stream",
     "text": [
      "=> Saving checkpoint\n"
     ]
    },
    {
     "name": "stderr",
     "output_type": "stream",
     "text": [
      "  0%|          | 260/60000 [1:17:40<280:11:06, 16.88s/it, D_loss=0.597, G_C_loss=0.259, G_H_loss=0.297, G_loss=9.11, I_H_loss=0.112, I_loss=0.363, PC_loss=6.52, cycle_C_loss=0.372, cycle_H_loss=0.125, iter=261, max_psnr=0, max_ssim=0]"
     ]
    },
    {
     "name": "stdout",
     "output_type": "stream",
     "text": [
      "=> Saving checkpoint\n"
     ]
    },
    {
     "name": "stderr",
     "output_type": "stream",
     "text": [
      "  0%|          | 261/60000 [1:17:57<282:45:51, 17.04s/it, D_loss=0.348, G_C_loss=0.314, G_H_loss=0.527, G_loss=8.29, I_H_loss=0.164, I_loss=0.211, PC_loss=8.21, cycle_C_loss=0.216, cycle_H_loss=0.176, iter=262, max_psnr=0, max_ssim=0]"
     ]
    },
    {
     "name": "stdout",
     "output_type": "stream",
     "text": [
      "=> Saving checkpoint\n"
     ]
    },
    {
     "name": "stderr",
     "output_type": "stream",
     "text": [
      "  0%|          | 262/60000 [1:18:15<284:37:16, 17.15s/it, D_loss=0.363, G_C_loss=0.459, G_H_loss=0.313, G_loss=7.58, I_H_loss=0.125, I_loss=0.222, PC_loss=5.95, cycle_C_loss=0.261, cycle_H_loss=0.109, iter=263, max_psnr=0, max_ssim=0]"
     ]
    },
    {
     "name": "stdout",
     "output_type": "stream",
     "text": [
      "=> Saving checkpoint\n"
     ]
    },
    {
     "name": "stderr",
     "output_type": "stream",
     "text": [
      "  0%|          | 263/60000 [1:18:31<285:46:21, 17.22s/it, D_loss=0.378, G_C_loss=0.371, G_H_loss=0.387, G_loss=5.9, I_H_loss=0.0913, I_loss=0.112, PC_loss=8.29, cycle_C_loss=0.144, cycle_H_loss=0.11, iter=264, max_psnr=0, max_ssim=0] "
     ]
    },
    {
     "name": "stdout",
     "output_type": "stream",
     "text": [
      "=> Saving checkpoint\n"
     ]
    },
    {
     "name": "stderr",
     "output_type": "stream",
     "text": [
      "  0%|          | 264/60000 [1:18:50<284:11:00, 17.13s/it, D_loss=0.518, G_C_loss=0.35, G_H_loss=0.268, G_loss=8.73, I_H_loss=0.117, I_loss=0.298, PC_loss=12.2, cycle_C_loss=0.296, cycle_H_loss=0.124, iter=265, max_psnr=0, max_ssim=0]"
     ]
    },
    {
     "name": "stdout",
     "output_type": "stream",
     "text": [
      "=> Saving checkpoint\n"
     ]
    },
    {
     "name": "stderr",
     "output_type": "stream",
     "text": [
      "  0%|          | 265/60000 [1:19:08<293:23:01, 17.68s/it, D_loss=0.466, G_C_loss=0.307, G_H_loss=0.33, G_loss=5.07, I_H_loss=0.0819, I_loss=0.111, PC_loss=8.23, cycle_C_loss=0.13, cycle_H_loss=0.0705, iter=266, max_psnr=0, max_ssim=0]"
     ]
    },
    {
     "name": "stdout",
     "output_type": "stream",
     "text": [
      "=> Saving checkpoint\n"
     ]
    },
    {
     "name": "stderr",
     "output_type": "stream",
     "text": [
      "  0%|          | 266/60000 [1:19:28<294:40:35, 17.76s/it, D_loss=0.498, G_C_loss=0.205, G_H_loss=0.308, G_loss=5.69, I_H_loss=0.0807, I_loss=0.157, PC_loss=10.6, cycle_C_loss=0.146, cycle_H_loss=0.0958, iter=267, max_psnr=0, max_ssim=0]"
     ]
    },
    {
     "name": "stdout",
     "output_type": "stream",
     "text": [
      "=> Saving checkpoint\n"
     ]
    },
    {
     "name": "stderr",
     "output_type": "stream",
     "text": [
      "  0%|          | 267/60000 [1:19:46<302:38:32, 18.24s/it, D_loss=0.314, G_C_loss=0.539, G_H_loss=0.32, G_loss=8.15, I_H_loss=0.136, I_loss=0.272, PC_loss=5.45, cycle_C_loss=0.282, cycle_H_loss=0.102, iter=268, max_psnr=0, max_ssim=0]   "
     ]
    },
    {
     "name": "stdout",
     "output_type": "stream",
     "text": [
      "=> Saving checkpoint\n"
     ]
    },
    {
     "name": "stderr",
     "output_type": "stream",
     "text": [
      "  0%|          | 268/60000 [1:20:05<304:04:05, 18.33s/it, D_loss=0.421, G_C_loss=0.389, G_H_loss=0.348, G_loss=5.57, I_H_loss=0.0673, I_loss=0.132, PC_loss=8.34, cycle_C_loss=0.13, cycle_H_loss=0.0966, iter=269, max_psnr=0, max_ssim=0]"
     ]
    },
    {
     "name": "stdout",
     "output_type": "stream",
     "text": [
      "=> Saving checkpoint\n"
     ]
    },
    {
     "name": "stderr",
     "output_type": "stream",
     "text": [
      "  0%|          | 269/60000 [1:20:23<306:16:23, 18.46s/it, D_loss=0.446, G_C_loss=0.286, G_H_loss=0.349, G_loss=4.34, I_H_loss=0.0597, I_loss=0.0981, PC_loss=6.96, cycle_C_loss=0.0861, cycle_H_loss=0.0728, iter=270, max_psnr=0, max_ssim=0]"
     ]
    },
    {
     "name": "stdout",
     "output_type": "stream",
     "text": [
      "=> Saving checkpoint\n"
     ]
    },
    {
     "name": "stderr",
     "output_type": "stream",
     "text": [
      "  0%|          | 270/60000 [1:20:41<306:10:21, 18.45s/it, D_loss=0.561, G_C_loss=0.387, G_H_loss=0.24, G_loss=7.71, I_H_loss=0.16, I_loss=0.23, PC_loss=7.01, cycle_C_loss=0.221, cycle_H_loss=0.159, iter=271, max_psnr=0, max_ssim=0]       "
     ]
    },
    {
     "name": "stdout",
     "output_type": "stream",
     "text": [
      "=> Saving checkpoint\n"
     ]
    },
    {
     "name": "stderr",
     "output_type": "stream",
     "text": [
      "  0%|          | 271/60000 [1:20:58<302:27:06, 18.23s/it, D_loss=0.263, G_C_loss=0.477, G_H_loss=0.527, G_loss=13.7, I_H_loss=0.442, I_loss=0.226, PC_loss=7.13, cycle_C_loss=0.324, cycle_H_loss=0.444, iter=272, max_psnr=0, max_ssim=0]"
     ]
    },
    {
     "name": "stdout",
     "output_type": "stream",
     "text": [
      "=> Saving checkpoint\n"
     ]
    },
    {
     "name": "stderr",
     "output_type": "stream",
     "text": [
      "  0%|          | 272/60000 [1:21:15<297:57:02, 17.96s/it, D_loss=0.41, G_C_loss=0.355, G_H_loss=0.416, G_loss=7.05, I_H_loss=0.164, I_loss=0.153, PC_loss=7.19, cycle_C_loss=0.163, cycle_H_loss=0.157, iter=273, max_psnr=0, max_ssim=0] "
     ]
    },
    {
     "name": "stdout",
     "output_type": "stream",
     "text": [
      "=> Saving checkpoint\n"
     ]
    },
    {
     "name": "stderr",
     "output_type": "stream",
     "text": [
      "  0%|          | 273/60000 [1:21:34<292:41:31, 17.64s/it, D_loss=0.389, G_C_loss=0.345, G_H_loss=0.362, G_loss=5.6, I_H_loss=0.138, I_loss=0.123, PC_loss=7.67, cycle_C_loss=0.0843, cycle_H_loss=0.127, iter=274, max_psnr=0, max_ssim=0]"
     ]
    },
    {
     "name": "stdout",
     "output_type": "stream",
     "text": [
      "=> Saving checkpoint\n"
     ]
    },
    {
     "name": "stderr",
     "output_type": "stream",
     "text": [
      "  0%|          | 274/60000 [1:21:53<295:53:48, 17.84s/it, D_loss=0.58, G_C_loss=0.306, G_H_loss=0.194, G_loss=7.77, I_H_loss=0.228, I_loss=0.174, PC_loss=5.82, cycle_C_loss=0.157, cycle_H_loss=0.261, iter=275, max_psnr=0, max_ssim=0] "
     ]
    },
    {
     "name": "stdout",
     "output_type": "stream",
     "text": [
      "=> Saving checkpoint\n"
     ]
    },
    {
     "name": "stderr",
     "output_type": "stream",
     "text": [
      "  0%|          | 275/60000 [1:22:12<306:09:36, 18.45s/it, D_loss=0.469, G_C_loss=0.296, G_H_loss=0.335, G_loss=5.57, I_H_loss=0.138, I_loss=0.103, PC_loss=7.94, cycle_C_loss=0.0948, cycle_H_loss=0.136, iter=276, max_psnr=0, max_ssim=0]"
     ]
    },
    {
     "name": "stdout",
     "output_type": "stream",
     "text": [
      "=> Saving checkpoint\n"
     ]
    },
    {
     "name": "stderr",
     "output_type": "stream",
     "text": [
      "  0%|          | 276/60000 [1:22:30<304:10:47, 18.34s/it, D_loss=0.505, G_C_loss=0.159, G_H_loss=0.339, G_loss=6.47, I_H_loss=0.138, I_loss=0.148, PC_loss=11.3, cycle_C_loss=0.146, cycle_H_loss=0.146, iter=277, max_psnr=0, max_ssim=0] "
     ]
    },
    {
     "name": "stdout",
     "output_type": "stream",
     "text": [
      "=> Saving checkpoint\n"
     ]
    },
    {
     "name": "stderr",
     "output_type": "stream",
     "text": [
      "  0%|          | 277/60000 [1:22:50<305:15:27, 18.40s/it, D_loss=0.562, G_C_loss=0.379, G_H_loss=0.234, G_loss=5.89, I_H_loss=0.185, I_loss=0.097, PC_loss=6.58, cycle_C_loss=0.0908, cycle_H_loss=0.169, iter=278, max_psnr=0, max_ssim=0]"
     ]
    },
    {
     "name": "stdout",
     "output_type": "stream",
     "text": [
      "=> Saving checkpoint\n"
     ]
    },
    {
     "name": "stderr",
     "output_type": "stream",
     "text": [
      "  0%|          | 278/60000 [1:23:09<310:34:53, 18.72s/it, D_loss=0.47, G_C_loss=0.254, G_H_loss=0.433, G_loss=5.4, I_H_loss=0.118, I_loss=0.0713, PC_loss=6.36, cycle_C_loss=0.106, cycle_H_loss=0.138, iter=279, max_psnr=0, max_ssim=0]  "
     ]
    },
    {
     "name": "stdout",
     "output_type": "stream",
     "text": [
      "=> Saving checkpoint\n"
     ]
    },
    {
     "name": "stderr",
     "output_type": "stream",
     "text": [
      "  0%|          | 279/60000 [1:23:29<316:01:21, 19.05s/it, D_loss=0.392, G_C_loss=0.349, G_H_loss=0.36, G_loss=6.38, I_H_loss=0.145, I_loss=0.124, PC_loss=8.05, cycle_C_loss=0.161, cycle_H_loss=0.12, iter=280, max_psnr=0, max_ssim=0] "
     ]
    },
    {
     "name": "stdout",
     "output_type": "stream",
     "text": [
      "=> Saving checkpoint\n"
     ]
    },
    {
     "name": "stderr",
     "output_type": "stream",
     "text": [
      "  0%|          | 280/60000 [1:23:48<318:24:31, 19.19s/it, D_loss=0.291, G_C_loss=0.472, G_H_loss=0.408, G_loss=9.16, I_H_loss=0.211, I_loss=0.279, PC_loss=6.24, cycle_C_loss=0.277, cycle_H_loss=0.155, iter=281, max_psnr=0, max_ssim=0]"
     ]
    },
    {
     "name": "stdout",
     "output_type": "stream",
     "text": [
      "=> Saving checkpoint\n"
     ]
    },
    {
     "name": "stderr",
     "output_type": "stream",
     "text": [
      "  0%|          | 281/60000 [1:24:06<319:21:52, 19.25s/it, D_loss=0.39, G_C_loss=0.368, G_H_loss=0.479, G_loss=14, I_H_loss=0.449, I_loss=0.258, PC_loss=9.13, cycle_C_loss=0.287, cycle_H_loss=0.501, iter=282, max_psnr=0, max_ssim=0]   "
     ]
    },
    {
     "name": "stdout",
     "output_type": "stream",
     "text": [
      "=> Saving checkpoint\n"
     ]
    },
    {
     "name": "stderr",
     "output_type": "stream",
     "text": [
      "  0%|          | 282/60000 [1:24:23<311:44:32, 18.79s/it, D_loss=0.284, G_C_loss=0.448, G_H_loss=0.546, G_loss=10.9, I_H_loss=0.408, I_loss=0.103, PC_loss=5.52, cycle_C_loss=0.122, cycle_H_loss=0.461, iter=283, max_psnr=0, max_ssim=0]"
     ]
    },
    {
     "name": "stdout",
     "output_type": "stream",
     "text": [
      "=> Saving checkpoint\n"
     ]
    },
    {
     "name": "stderr",
     "output_type": "stream",
     "text": [
      "  0%|          | 283/60000 [1:24:40<302:27:03, 18.23s/it, D_loss=0.429, G_C_loss=0.365, G_H_loss=0.579, G_loss=6.88, I_H_loss=0.12, I_loss=0.163, PC_loss=7.01, cycle_C_loss=0.158, cycle_H_loss=0.129, iter=284, max_psnr=0, max_ssim=0] "
     ]
    },
    {
     "name": "stdout",
     "output_type": "stream",
     "text": [
      "=> Saving checkpoint\n"
     ]
    },
    {
     "name": "stderr",
     "output_type": "stream",
     "text": [
      "  0%|          | 284/60000 [1:24:57<295:45:33, 17.83s/it, D_loss=0.499, G_C_loss=0.302, G_H_loss=0.318, G_loss=8.68, I_H_loss=0.134, I_loss=0.263, PC_loss=10.9, cycle_C_loss=0.262, cycle_H_loss=0.174, iter=285, max_psnr=0, max_ssim=0]"
     ]
    },
    {
     "name": "stdout",
     "output_type": "stream",
     "text": [
      "=> Saving checkpoint\n"
     ]
    },
    {
     "name": "stderr",
     "output_type": "stream",
     "text": [
      "  0%|          | 285/60000 [1:25:14<292:09:57, 17.61s/it, D_loss=0.342, G_C_loss=0.332, G_H_loss=0.378, G_loss=6.24, I_H_loss=0.137, I_loss=0.112, PC_loss=6.74, cycle_C_loss=0.106, cycle_H_loss=0.184, iter=286, max_psnr=0, max_ssim=0]"
     ]
    },
    {
     "name": "stdout",
     "output_type": "stream",
     "text": [
      "=> Saving checkpoint\n"
     ]
    },
    {
     "name": "stderr",
     "output_type": "stream",
     "text": [
      "  0%|          | 286/60000 [1:25:31<288:11:34, 17.37s/it, D_loss=0.328, G_C_loss=0.521, G_H_loss=0.394, G_loss=11, I_H_loss=0.341, I_loss=0.21, PC_loss=6.93, cycle_C_loss=0.247, cycle_H_loss=0.323, iter=287, max_psnr=0, max_ssim=0]   "
     ]
    },
    {
     "name": "stdout",
     "output_type": "stream",
     "text": [
      "=> Saving checkpoint\n"
     ]
    },
    {
     "name": "stderr",
     "output_type": "stream",
     "text": [
      "  0%|          | 287/60000 [1:25:48<287:07:21, 17.31s/it, D_loss=0.454, G_C_loss=0.356, G_H_loss=0.448, G_loss=8.22, I_H_loss=0.182, I_loss=0.186, PC_loss=8.35, cycle_C_loss=0.171, cycle_H_loss=0.222, iter=288, max_psnr=0, max_ssim=0]"
     ]
    },
    {
     "name": "stdout",
     "output_type": "stream",
     "text": [
      "=> Saving checkpoint\n"
     ]
    },
    {
     "name": "stderr",
     "output_type": "stream",
     "text": [
      "  0%|          | 288/60000 [1:26:04<284:42:13, 17.16s/it, D_loss=0.442, G_C_loss=0.366, G_H_loss=0.425, G_loss=6.73, I_H_loss=0.164, I_loss=0.0883, PC_loss=6.92, cycle_C_loss=0.168, cycle_H_loss=0.152, iter=289, max_psnr=0, max_ssim=0]"
     ]
    },
    {
     "name": "stdout",
     "output_type": "stream",
     "text": [
      "=> Saving checkpoint\n"
     ]
    },
    {
     "name": "stderr",
     "output_type": "stream",
     "text": [
      "  0%|          | 289/60000 [1:26:21<281:36:43, 16.98s/it, D_loss=0.461, G_C_loss=0.254, G_H_loss=0.333, G_loss=5.08, I_H_loss=0.0993, I_loss=0.151, PC_loss=5.68, cycle_C_loss=0.124, cycle_H_loss=0.085, iter=290, max_psnr=0, max_ssim=0]"
     ]
    },
    {
     "name": "stdout",
     "output_type": "stream",
     "text": [
      "=> Saving checkpoint\n"
     ]
    },
    {
     "name": "stderr",
     "output_type": "stream",
     "text": [
      "  0%|          | 290/60000 [1:26:38<281:43:18, 16.99s/it, D_loss=0.391, G_C_loss=0.278, G_H_loss=0.415, G_loss=5.99, I_H_loss=0.152, I_loss=0.119, PC_loss=7.88, cycle_C_loss=0.107, cycle_H_loss=0.14, iter=291, max_psnr=0, max_ssim=0]  "
     ]
    },
    {
     "name": "stdout",
     "output_type": "stream",
     "text": [
      "=> Saving checkpoint\n"
     ]
    },
    {
     "name": "stderr",
     "output_type": "stream",
     "text": [
      "  0%|          | 291/60000 [1:26:55<280:26:18, 16.91s/it, D_loss=0.538, G_C_loss=0.292, G_H_loss=0.218, G_loss=4.31, I_H_loss=0.0905, I_loss=0.095, PC_loss=5.88, cycle_C_loss=0.0965, cycle_H_loss=0.0804, iter=292, max_psnr=0, max_ssim=0]"
     ]
    },
    {
     "name": "stdout",
     "output_type": "stream",
     "text": [
      "=> Saving checkpoint\n"
     ]
    },
    {
     "name": "stderr",
     "output_type": "stream",
     "text": [
      "  0%|          | 292/60000 [1:27:12<281:16:50, 16.96s/it, D_loss=0.287, G_C_loss=0.371, G_H_loss=0.525, G_loss=10.3, I_H_loss=0.256, I_loss=0.22, PC_loss=8.04, cycle_C_loss=0.238, cycle_H_loss=0.295, iter=293, max_psnr=0, max_ssim=0]    "
     ]
    },
    {
     "name": "stdout",
     "output_type": "stream",
     "text": [
      "=> Saving checkpoint\n"
     ]
    },
    {
     "name": "stderr",
     "output_type": "stream",
     "text": [
      "  0%|          | 293/60000 [1:27:29<281:10:17, 16.95s/it, D_loss=0.422, G_C_loss=0.489, G_H_loss=0.361, G_loss=6.92, I_H_loss=0.149, I_loss=0.124, PC_loss=9.61, cycle_C_loss=0.135, cycle_H_loss=0.155, iter=294, max_psnr=0, max_ssim=0]"
     ]
    },
    {
     "name": "stdout",
     "output_type": "stream",
     "text": [
      "=> Saving checkpoint\n"
     ]
    },
    {
     "name": "stderr",
     "output_type": "stream",
     "text": [
      "  0%|          | 294/60000 [1:27:46<280:41:30, 16.92s/it, D_loss=0.267, G_C_loss=0.426, G_H_loss=0.522, G_loss=9.2, I_H_loss=0.246, I_loss=0.149, PC_loss=10.1, cycle_C_loss=0.185, cycle_H_loss=0.247, iter=295, max_psnr=0, max_ssim=0] "
     ]
    },
    {
     "name": "stdout",
     "output_type": "stream",
     "text": [
      "=> Saving checkpoint\n"
     ]
    },
    {
     "name": "stderr",
     "output_type": "stream",
     "text": [
      "  0%|          | 295/60000 [1:28:03<280:41:57, 16.93s/it, D_loss=0.496, G_C_loss=0.294, G_H_loss=0.296, G_loss=4.34, I_H_loss=0.0633, I_loss=0.0794, PC_loss=6.59, cycle_C_loss=0.095, cycle_H_loss=0.0832, iter=296, max_psnr=0, max_ssim=0]"
     ]
    },
    {
     "name": "stdout",
     "output_type": "stream",
     "text": [
      "=> Saving checkpoint\n"
     ]
    },
    {
     "name": "stderr",
     "output_type": "stream",
     "text": [
      "  0%|          | 296/60000 [1:28:20<279:30:00, 16.85s/it, D_loss=0.239, G_C_loss=0.511, G_H_loss=0.498, G_loss=8.65, I_H_loss=0.23, I_loss=0.153, PC_loss=8.29, cycle_C_loss=0.178, cycle_H_loss=0.211, iter=297, max_psnr=0, max_ssim=0]    "
     ]
    },
    {
     "name": "stdout",
     "output_type": "stream",
     "text": [
      "=> Saving checkpoint\n"
     ]
    },
    {
     "name": "stderr",
     "output_type": "stream",
     "text": [
      "  0%|          | 297/60000 [1:28:36<280:03:46, 16.89s/it, D_loss=0.51, G_C_loss=0.401, G_H_loss=0.388, G_loss=5.98, I_H_loss=0.0649, I_loss=0.211, PC_loss=5.36, cycle_C_loss=0.161, cycle_H_loss=0.0875, iter=298, max_psnr=0, max_ssim=0]"
     ]
    },
    {
     "name": "stdout",
     "output_type": "stream",
     "text": [
      "=> Saving checkpoint\n"
     ]
    },
    {
     "name": "stderr",
     "output_type": "stream",
     "text": [
      "  0%|          | 298/60000 [1:28:53<279:04:06, 16.83s/it, D_loss=0.401, G_C_loss=0.336, G_H_loss=0.402, G_loss=4.91, I_H_loss=0.114, I_loss=0.0899, PC_loss=7.77, cycle_C_loss=0.0838, cycle_H_loss=0.0804, iter=299, max_psnr=0, max_ssim=0]"
     ]
    },
    {
     "name": "stdout",
     "output_type": "stream",
     "text": [
      "=> Saving checkpoint\n"
     ]
    },
    {
     "name": "stderr",
     "output_type": "stream",
     "text": [
      "  0%|          | 299/60000 [1:29:10<278:22:47, 16.79s/it, D_loss=0.448, G_C_loss=0.326, G_H_loss=0.29, G_loss=5.61, I_H_loss=0.109, I_loss=0.173, PC_loss=7.68, cycle_C_loss=0.119, cycle_H_loss=0.0999, iter=300, max_psnr=0, max_ssim=0]   "
     ]
    },
    {
     "name": "stdout",
     "output_type": "stream",
     "text": [
      "=> Saving checkpoint\n"
     ]
    },
    {
     "name": "stderr",
     "output_type": "stream",
     "text": [
      "  0%|          | 300/60000 [1:29:29<281:39:15, 16.98s/it, D_loss=0.284, G_C_loss=0.503, G_H_loss=0.553, G_loss=11.2, I_H_loss=0.291, I_loss=0.276, PC_loss=5.22, cycle_C_loss=0.294, cycle_H_loss=0.28, iter=301, max_psnr=0, max_ssim=0] "
     ]
    },
    {
     "name": "stdout",
     "output_type": "stream",
     "text": [
      "=> Saving checkpoint\n"
     ]
    },
    {
     "name": "stderr",
     "output_type": "stream",
     "text": [
      "  1%|          | 301/60000 [1:29:47<288:19:13, 17.39s/it, D_loss=0.551, G_C_loss=0.392, G_H_loss=0.481, G_loss=7.2, I_H_loss=0.173, I_loss=0.146, PC_loss=7.5, cycle_C_loss=0.115, cycle_H_loss=0.197, iter=302, max_psnr=0, max_ssim=0] "
     ]
    },
    {
     "name": "stdout",
     "output_type": "stream",
     "text": [
      "=> Saving checkpoint\n"
     ]
    },
    {
     "name": "stderr",
     "output_type": "stream",
     "text": [
      "  1%|          | 302/60000 [1:30:05<292:34:05, 17.64s/it, D_loss=0.566, G_C_loss=0.235, G_H_loss=0.356, G_loss=6.79, I_H_loss=0.1, I_loss=0.22, PC_loss=11.4, cycle_C_loss=0.193, cycle_H_loss=0.0938, iter=303, max_psnr=0, max_ssim=0]"
     ]
    },
    {
     "name": "stdout",
     "output_type": "stream",
     "text": [
      "=> Saving checkpoint\n"
     ]
    },
    {
     "name": "stderr",
     "output_type": "stream",
     "text": [
      "  1%|          | 303/60000 [1:30:23<293:28:35, 17.70s/it, D_loss=0.272, G_C_loss=0.509, G_H_loss=0.451, G_loss=15.6, I_H_loss=0.497, I_loss=0.29, PC_loss=5.95, cycle_C_loss=0.415, cycle_H_loss=0.503, iter=304, max_psnr=0, max_ssim=0]"
     ]
    },
    {
     "name": "stdout",
     "output_type": "stream",
     "text": [
      "=> Saving checkpoint\n"
     ]
    },
    {
     "name": "stderr",
     "output_type": "stream",
     "text": [
      "  1%|          | 304/60000 [1:30:39<293:35:53, 17.71s/it, D_loss=0.544, G_C_loss=0.245, G_H_loss=0.453, G_loss=5.77, I_H_loss=0.147, I_loss=0.125, PC_loss=6.07, cycle_C_loss=0.077, cycle_H_loss=0.163, iter=305, max_psnr=0, max_ssim=0]"
     ]
    },
    {
     "name": "stdout",
     "output_type": "stream",
     "text": [
      "=> Saving checkpoint\n"
     ]
    },
    {
     "name": "stderr",
     "output_type": "stream",
     "text": [
      "  1%|          | 305/60000 [1:30:56<288:09:44, 17.38s/it, D_loss=0.429, G_C_loss=0.345, G_H_loss=0.386, G_loss=6.83, I_H_loss=0.213, I_loss=0.117, PC_loss=5.73, cycle_C_loss=0.079, cycle_H_loss=0.236, iter=306, max_psnr=0, max_ssim=0]"
     ]
    },
    {
     "name": "stdout",
     "output_type": "stream",
     "text": [
      "=> Saving checkpoint\n"
     ]
    },
    {
     "name": "stderr",
     "output_type": "stream",
     "text": [
      "  1%|          | 306/60000 [1:31:14<286:58:52, 17.31s/it, D_loss=0.389, G_C_loss=0.369, G_H_loss=0.33, G_loss=5.77, I_H_loss=0.116, I_loss=0.0899, PC_loss=7.54, cycle_C_loss=0.107, cycle_H_loss=0.152, iter=307, max_psnr=0, max_ssim=0]"
     ]
    },
    {
     "name": "stdout",
     "output_type": "stream",
     "text": [
      "=> Saving checkpoint\n"
     ]
    },
    {
     "name": "stderr",
     "output_type": "stream",
     "text": [
      "  1%|          | 307/60000 [1:31:33<288:30:29, 17.40s/it, D_loss=0.558, G_C_loss=0.336, G_H_loss=0.188, G_loss=6.44, I_H_loss=0.1, I_loss=0.205, PC_loss=12.6, cycle_C_loss=0.16, cycle_H_loss=0.101, iter=308, max_psnr=0, max_ssim=0]   "
     ]
    },
    {
     "name": "stdout",
     "output_type": "stream",
     "text": [
      "=> Saving checkpoint\n"
     ]
    },
    {
     "name": "stderr",
     "output_type": "stream",
     "text": [
      "  1%|          | 308/60000 [1:31:50<296:00:07, 17.85s/it, D_loss=0.345, G_C_loss=0.421, G_H_loss=0.403, G_loss=6.01, I_H_loss=0.0881, I_loss=0.104, PC_loss=5.06, cycle_C_loss=0.18, cycle_H_loss=0.11, iter=309, max_psnr=0, max_ssim=0]"
     ]
    },
    {
     "name": "stdout",
     "output_type": "stream",
     "text": [
      "=> Saving checkpoint\n"
     ]
    },
    {
     "name": "stderr",
     "output_type": "stream",
     "text": [
      "  1%|          | 309/60000 [1:32:08<295:20:09, 17.81s/it, D_loss=0.438, G_C_loss=0.309, G_H_loss=0.371, G_loss=5.19, I_H_loss=0.136, I_loss=0.0874, PC_loss=7.65, cycle_C_loss=0.0872, cycle_H_loss=0.108, iter=310, max_psnr=0, max_ssim=0]"
     ]
    },
    {
     "name": "stdout",
     "output_type": "stream",
     "text": [
      "=> Saving checkpoint\n"
     ]
    },
    {
     "name": "stderr",
     "output_type": "stream",
     "text": [
      "  1%|          | 310/60000 [1:32:24<292:51:01, 17.66s/it, D_loss=0.491, G_C_loss=0.387, G_H_loss=0.338, G_loss=6.93, I_H_loss=0.175, I_loss=0.174, PC_loss=7.97, cycle_C_loss=0.124, cycle_H_loss=0.17, iter=311, max_psnr=0, max_ssim=0]   "
     ]
    },
    {
     "name": "stdout",
     "output_type": "stream",
     "text": [
      "=> Saving checkpoint\n"
     ]
    },
    {
     "name": "stderr",
     "output_type": "stream",
     "text": [
      "  1%|          | 311/60000 [1:32:42<286:49:05, 17.30s/it, D_loss=0.468, G_C_loss=0.446, G_H_loss=0.331, G_loss=9.25, I_H_loss=0.204, I_loss=0.26, PC_loss=7.75, cycle_C_loss=0.239, cycle_H_loss=0.221, iter=312, max_psnr=0, max_ssim=0]"
     ]
    },
    {
     "name": "stdout",
     "output_type": "stream",
     "text": [
      "=> Saving checkpoint\n"
     ]
    },
    {
     "name": "stderr",
     "output_type": "stream",
     "text": [
      "  1%|          | 312/60000 [1:33:00<290:20:35, 17.51s/it, D_loss=0.492, G_C_loss=0.3, G_H_loss=0.454, G_loss=9.11, I_H_loss=0.277, I_loss=0.104, PC_loss=9.55, cycle_C_loss=0.206, cycle_H_loss=0.268, iter=313, max_psnr=0, max_ssim=0] "
     ]
    },
    {
     "name": "stdout",
     "output_type": "stream",
     "text": [
      "=> Saving checkpoint\n"
     ]
    },
    {
     "name": "stderr",
     "output_type": "stream",
     "text": [
      "  1%|          | 313/60000 [1:33:19<293:37:44, 17.71s/it, D_loss=0.489, G_C_loss=0.256, G_H_loss=0.287, G_loss=5.25, I_H_loss=0.113, I_loss=0.12, PC_loss=10.2, cycle_C_loss=0.113, cycle_H_loss=0.0844, iter=314, max_psnr=0, max_ssim=0]"
     ]
    },
    {
     "name": "stdout",
     "output_type": "stream",
     "text": [
      "=> Saving checkpoint\n"
     ]
    },
    {
     "name": "stderr",
     "output_type": "stream",
     "text": [
      "  1%|          | 314/60000 [1:33:36<296:10:43, 17.86s/it, D_loss=0.441, G_C_loss=0.369, G_H_loss=0.304, G_loss=7.93, I_H_loss=0.169, I_loss=0.192, PC_loss=7.8, cycle_C_loss=0.19, cycle_H_loss=0.209, iter=315, max_psnr=0, max_ssim=0]  "
     ]
    },
    {
     "name": "stdout",
     "output_type": "stream",
     "text": [
      "=> Saving checkpoint\n"
     ]
    },
    {
     "name": "stderr",
     "output_type": "stream",
     "text": [
      "  1%|          | 315/60000 [1:33:55<296:08:32, 17.86s/it, D_loss=0.419, G_C_loss=0.359, G_H_loss=0.405, G_loss=6.26, I_H_loss=0.115, I_loss=0.149, PC_loss=7.69, cycle_C_loss=0.147, cycle_H_loss=0.117, iter=316, max_psnr=0, max_ssim=0]"
     ]
    },
    {
     "name": "stdout",
     "output_type": "stream",
     "text": [
      "=> Saving checkpoint\n"
     ]
    },
    {
     "name": "stderr",
     "output_type": "stream",
     "text": [
      "  1%|          | 316/60000 [1:34:14<298:38:34, 18.01s/it, D_loss=0.411, G_C_loss=0.397, G_H_loss=0.394, G_loss=8.11, I_H_loss=0.175, I_loss=0.202, PC_loss=6.73, cycle_C_loss=0.23, cycle_H_loss=0.167, iter=317, max_psnr=0, max_ssim=0] "
     ]
    },
    {
     "name": "stdout",
     "output_type": "stream",
     "text": [
      "=> Saving checkpoint\n"
     ]
    },
    {
     "name": "stderr",
     "output_type": "stream",
     "text": [
      "  1%|          | 317/60000 [1:34:31<302:51:58, 18.27s/it, D_loss=0.563, G_C_loss=0.28, G_H_loss=0.326, G_loss=6.43, I_H_loss=0.0921, I_loss=0.182, PC_loss=8.02, cycle_C_loss=0.202, cycle_H_loss=0.102, iter=318, max_psnr=0, max_ssim=0]"
     ]
    },
    {
     "name": "stdout",
     "output_type": "stream",
     "text": [
      "=> Saving checkpoint\n"
     ]
    },
    {
     "name": "stderr",
     "output_type": "stream",
     "text": [
      "  1%|          | 318/60000 [1:34:48<295:39:10, 17.83s/it, D_loss=0.414, G_C_loss=0.33, G_H_loss=0.404, G_loss=7.63, I_H_loss=0.186, I_loss=0.138, PC_loss=7.92, cycle_C_loss=0.19, cycle_H_loss=0.185, iter=319, max_psnr=0, max_ssim=0]  "
     ]
    },
    {
     "name": "stdout",
     "output_type": "stream",
     "text": [
      "=> Saving checkpoint\n"
     ]
    },
    {
     "name": "stderr",
     "output_type": "stream",
     "text": [
      "  1%|          | 319/60000 [1:35:04<291:21:10, 17.57s/it, D_loss=0.609, G_C_loss=0.142, G_H_loss=0.413, G_loss=12.1, I_H_loss=0.374, I_loss=0.262, PC_loss=8.2, cycle_C_loss=0.316, cycle_H_loss=0.382, iter=320, max_psnr=0, max_ssim=0]"
     ]
    },
    {
     "name": "stdout",
     "output_type": "stream",
     "text": [
      "=> Saving checkpoint\n"
     ]
    },
    {
     "name": "stderr",
     "output_type": "stream",
     "text": [
      "  1%|          | 320/60000 [1:35:21<284:32:08, 17.16s/it, D_loss=0.514, G_C_loss=0.276, G_H_loss=0.264, G_loss=4.77, I_H_loss=0.0709, I_loss=0.141, PC_loss=6.19, cycle_C_loss=0.138, cycle_H_loss=0.0627, iter=321, max_psnr=0, max_ssim=0]"
     ]
    },
    {
     "name": "stdout",
     "output_type": "stream",
     "text": [
      "=> Saving checkpoint\n"
     ]
    },
    {
     "name": "stderr",
     "output_type": "stream",
     "text": [
      "  1%|          | 321/60000 [1:35:37<281:54:53, 17.01s/it, D_loss=0.257, G_C_loss=0.464, G_H_loss=0.487, G_loss=11, I_H_loss=0.348, I_loss=0.248, PC_loss=5.97, cycle_C_loss=0.204, cycle_H_loss=0.349, iter=322, max_psnr=0, max_ssim=0]    "
     ]
    },
    {
     "name": "stdout",
     "output_type": "stream",
     "text": [
      "=> Saving checkpoint\n"
     ]
    },
    {
     "name": "stderr",
     "output_type": "stream",
     "text": [
      "  1%|          | 322/60000 [1:35:53<276:25:03, 16.67s/it, D_loss=0.412, G_C_loss=0.343, G_H_loss=0.449, G_loss=6.02, I_H_loss=0.0647, I_loss=0.213, PC_loss=5.39, cycle_C_loss=0.186, cycle_H_loss=0.0651, iter=323, max_psnr=0, max_ssim=0]"
     ]
    },
    {
     "name": "stdout",
     "output_type": "stream",
     "text": [
      "=> Saving checkpoint\n"
     ]
    },
    {
     "name": "stderr",
     "output_type": "stream",
     "text": [
      "  1%|          | 323/60000 [1:36:10<275:46:09, 16.64s/it, D_loss=0.493, G_C_loss=0.227, G_H_loss=0.364, G_loss=5.06, I_H_loss=0.104, I_loss=0.108, PC_loss=5.3, cycle_C_loss=0.0945, cycle_H_loss=0.134, iter=324, max_psnr=0, max_ssim=0]  "
     ]
    },
    {
     "name": "stdout",
     "output_type": "stream",
     "text": [
      "=> Saving checkpoint\n"
     ]
    },
    {
     "name": "stderr",
     "output_type": "stream",
     "text": [
      "  1%|          | 324/60000 [1:36:27<277:05:17, 16.72s/it, D_loss=0.457, G_C_loss=0.217, G_H_loss=0.443, G_loss=7.89, I_H_loss=0.154, I_loss=0.218, PC_loss=9.97, cycle_C_loss=0.2, cycle_H_loss=0.172, iter=325, max_psnr=0, max_ssim=0]  "
     ]
    },
    {
     "name": "stdout",
     "output_type": "stream",
     "text": [
      "=> Saving checkpoint\n"
     ]
    },
    {
     "name": "stderr",
     "output_type": "stream",
     "text": [
      "  1%|          | 325/60000 [1:36:44<277:02:39, 16.71s/it, D_loss=0.449, G_C_loss=0.319, G_H_loss=0.309, G_loss=5.94, I_H_loss=0.136, I_loss=0.1, PC_loss=8.63, cycle_C_loss=0.148, cycle_H_loss=0.116, iter=326, max_psnr=0, max_ssim=0]"
     ]
    },
    {
     "name": "stdout",
     "output_type": "stream",
     "text": [
      "=> Saving checkpoint\n"
     ]
    },
    {
     "name": "stderr",
     "output_type": "stream",
     "text": [
      "  1%|          | 326/60000 [1:37:02<283:23:17, 17.10s/it, D_loss=0.465, G_C_loss=0.41, G_H_loss=0.322, G_loss=8.27, I_H_loss=0.185, I_loss=0.232, PC_loss=6.97, cycle_C_loss=0.243, cycle_H_loss=0.159, iter=327, max_psnr=0, max_ssim=0]"
     ]
    },
    {
     "name": "stdout",
     "output_type": "stream",
     "text": [
      "=> Saving checkpoint\n"
     ]
    },
    {
     "name": "stderr",
     "output_type": "stream",
     "text": [
      "  1%|          | 327/60000 [1:37:18<282:44:41, 17.06s/it, D_loss=0.415, G_C_loss=0.361, G_H_loss=0.423, G_loss=5.45, I_H_loss=0.103, I_loss=0.0975, PC_loss=8.65, cycle_C_loss=0.126, cycle_H_loss=0.0754, iter=328, max_psnr=0, max_ssim=0]"
     ]
    },
    {
     "name": "stdout",
     "output_type": "stream",
     "text": [
      "=> Saving checkpoint\n"
     ]
    },
    {
     "name": "stderr",
     "output_type": "stream",
     "text": [
      "  1%|          | 328/60000 [1:37:35<281:45:43, 17.00s/it, D_loss=0.439, G_C_loss=0.374, G_H_loss=0.29, G_loss=8.36, I_H_loss=0.135, I_loss=0.267, PC_loss=13.1, cycle_C_loss=0.248, cycle_H_loss=0.122, iter=329, max_psnr=0, max_ssim=0]   "
     ]
    },
    {
     "name": "stdout",
     "output_type": "stream",
     "text": [
      "=> Saving checkpoint\n"
     ]
    },
    {
     "name": "stderr",
     "output_type": "stream",
     "text": [
      "  1%|          | 329/60000 [1:37:52<277:11:24, 16.72s/it, D_loss=0.412, G_C_loss=0.327, G_H_loss=0.409, G_loss=5.94, I_H_loss=0.16, I_loss=0.0944, PC_loss=8.81, cycle_C_loss=0.101, cycle_H_loss=0.13, iter=330, max_psnr=0, max_ssim=0]"
     ]
    },
    {
     "name": "stdout",
     "output_type": "stream",
     "text": [
      "=> Saving checkpoint\n"
     ]
    },
    {
     "name": "stderr",
     "output_type": "stream",
     "text": [
      "  1%|          | 330/60000 [1:38:09<280:56:51, 16.95s/it, D_loss=0.432, G_C_loss=0.429, G_H_loss=0.322, G_loss=11.1, I_H_loss=0.28, I_loss=0.271, PC_loss=8.06, cycle_C_loss=0.26, cycle_H_loss=0.345, iter=331, max_psnr=0, max_ssim=0] "
     ]
    },
    {
     "name": "stdout",
     "output_type": "stream",
     "text": [
      "=> Saving checkpoint\n"
     ]
    },
    {
     "name": "stderr",
     "output_type": "stream",
     "text": [
      "  1%|          | 331/60000 [1:38:26<279:44:22, 16.88s/it, D_loss=0.378, G_C_loss=0.336, G_H_loss=0.348, G_loss=5.22, I_H_loss=0.102, I_loss=0.0892, PC_loss=7.38, cycle_C_loss=0.133, cycle_H_loss=0.0833, iter=332, max_psnr=0, max_ssim=0]"
     ]
    },
    {
     "name": "stdout",
     "output_type": "stream",
     "text": [
      "=> Saving checkpoint\n"
     ]
    },
    {
     "name": "stderr",
     "output_type": "stream",
     "text": [
      "  1%|          | 332/60000 [1:38:42<280:10:51, 16.90s/it, D_loss=0.289, G_C_loss=0.439, G_H_loss=0.41, G_loss=7.39, I_H_loss=0.174, I_loss=0.156, PC_loss=6.2, cycle_C_loss=0.19, cycle_H_loss=0.152, iter=333, max_psnr=0, max_ssim=0]     "
     ]
    },
    {
     "name": "stdout",
     "output_type": "stream",
     "text": [
      "=> Saving checkpoint\n"
     ]
    },
    {
     "name": "stderr",
     "output_type": "stream",
     "text": [
      "  1%|          | 333/60000 [1:38:58<276:52:41, 16.71s/it, D_loss=0.416, G_C_loss=0.37, G_H_loss=0.416, G_loss=7.46, I_H_loss=0.185, I_loss=0.151, PC_loss=6.97, cycle_C_loss=0.12, cycle_H_loss=0.23, iter=334, max_psnr=0, max_ssim=0]"
     ]
    },
    {
     "name": "stdout",
     "output_type": "stream",
     "text": [
      "=> Saving checkpoint\n"
     ]
    },
    {
     "name": "stderr",
     "output_type": "stream",
     "text": [
      "  1%|          | 334/60000 [1:39:17<276:05:16, 16.66s/it, D_loss=0.53, G_C_loss=0.271, G_H_loss=0.4, G_loss=6.11, I_H_loss=0.0728, I_loss=0.173, PC_loss=11.3, cycle_C_loss=0.153, cycle_H_loss=0.0891, iter=335, max_psnr=0, max_ssim=0]"
     ]
    },
    {
     "name": "stdout",
     "output_type": "stream",
     "text": [
      "=> Saving checkpoint\n"
     ]
    },
    {
     "name": "stderr",
     "output_type": "stream",
     "text": [
      "  1%|          | 335/60000 [1:39:34<285:26:20, 17.22s/it, D_loss=0.784, G_C_loss=0.328, G_H_loss=0.157, G_loss=7.28, I_H_loss=0.0866, I_loss=0.29, PC_loss=6.9, cycle_C_loss=0.28, cycle_H_loss=0.0929, iter=336, max_psnr=0, max_ssim=0]"
     ]
    },
    {
     "name": "stdout",
     "output_type": "stream",
     "text": [
      "=> Saving checkpoint\n"
     ]
    },
    {
     "name": "stderr",
     "output_type": "stream",
     "text": [
      "  1%|          | 336/60000 [1:39:50<284:11:13, 17.15s/it, D_loss=0.476, G_C_loss=0.298, G_H_loss=0.232, G_loss=5.82, I_H_loss=0.146, I_loss=0.0889, PC_loss=8.01, cycle_C_loss=0.136, cycle_H_loss=0.143, iter=337, max_psnr=0, max_ssim=0]"
     ]
    },
    {
     "name": "stdout",
     "output_type": "stream",
     "text": [
      "=> Saving checkpoint\n"
     ]
    },
    {
     "name": "stderr",
     "output_type": "stream",
     "text": [
      "  1%|          | 337/60000 [1:40:07<280:45:02, 16.94s/it, D_loss=0.398, G_C_loss=0.353, G_H_loss=0.321, G_loss=5.88, I_H_loss=0.164, I_loss=0.0882, PC_loss=5.9, cycle_C_loss=0.0755, cycle_H_loss=0.193, iter=338, max_psnr=0, max_ssim=0]"
     ]
    },
    {
     "name": "stdout",
     "output_type": "stream",
     "text": [
      "=> Saving checkpoint\n"
     ]
    },
    {
     "name": "stderr",
     "output_type": "stream",
     "text": [
      "  1%|          | 338/60000 [1:40:23<278:02:51, 16.78s/it, D_loss=0.396, G_C_loss=0.409, G_H_loss=0.328, G_loss=5.11, I_H_loss=0.0609, I_loss=0.0993, PC_loss=6.72, cycle_C_loss=0.152, cycle_H_loss=0.0648, iter=339, max_psnr=0, max_ssim=0]"
     ]
    },
    {
     "name": "stdout",
     "output_type": "stream",
     "text": [
      "=> Saving checkpoint\n"
     ]
    },
    {
     "name": "stderr",
     "output_type": "stream",
     "text": [
      "  1%|          | 339/60000 [1:40:40<276:33:46, 16.69s/it, D_loss=0.554, G_C_loss=0.15, G_H_loss=0.42, G_loss=7.31, I_H_loss=0.149, I_loss=0.175, PC_loss=7.79, cycle_C_loss=0.177, cycle_H_loss=0.201, iter=340, max_psnr=0, max_ssim=0]     "
     ]
    },
    {
     "name": "stdout",
     "output_type": "stream",
     "text": [
      "=> Saving checkpoint\n"
     ]
    },
    {
     "name": "stderr",
     "output_type": "stream",
     "text": [
      "  1%|          | 340/60000 [1:40:57<277:11:49, 16.73s/it, D_loss=0.339, G_C_loss=0.473, G_H_loss=0.353, G_loss=5.58, I_H_loss=0.0815, I_loss=0.102, PC_loss=7.89, cycle_C_loss=0.131, cycle_H_loss=0.0915, iter=341, max_psnr=0, max_ssim=0]"
     ]
    },
    {
     "name": "stdout",
     "output_type": "stream",
     "text": [
      "=> Saving checkpoint\n"
     ]
    },
    {
     "name": "stderr",
     "output_type": "stream",
     "text": [
      "  1%|          | 341/60000 [1:41:13<276:03:06, 16.66s/it, D_loss=0.483, G_C_loss=0.382, G_H_loss=0.29, G_loss=5.74, I_H_loss=0.112, I_loss=0.126, PC_loss=11.9, cycle_C_loss=0.11, cycle_H_loss=0.0914, iter=342, max_psnr=0, max_ssim=0]   "
     ]
    },
    {
     "name": "stdout",
     "output_type": "stream",
     "text": [
      "=> Saving checkpoint\n"
     ]
    },
    {
     "name": "stderr",
     "output_type": "stream",
     "text": [
      "  1%|          | 342/60000 [1:41:30<276:42:36, 16.70s/it, D_loss=0.538, G_C_loss=0.308, G_H_loss=0.322, G_loss=7.68, I_H_loss=0.256, I_loss=0.122, PC_loss=6.97, cycle_C_loss=0.135, cycle_H_loss=0.248, iter=343, max_psnr=0, max_ssim=0]"
     ]
    },
    {
     "name": "stdout",
     "output_type": "stream",
     "text": [
      "=> Saving checkpoint\n"
     ]
    },
    {
     "name": "stderr",
     "output_type": "stream",
     "text": [
      "  1%|          | 343/60000 [1:41:47<274:22:17, 16.56s/it, D_loss=0.399, G_C_loss=0.361, G_H_loss=0.425, G_loss=10, I_H_loss=0.389, I_loss=0.0862, PC_loss=6.22, cycle_C_loss=0.116, cycle_H_loss=0.426, iter=344, max_psnr=0, max_ssim=0] "
     ]
    },
    {
     "name": "stdout",
     "output_type": "stream",
     "text": [
      "=> Saving checkpoint\n"
     ]
    },
    {
     "name": "stderr",
     "output_type": "stream",
     "text": [
      "  1%|          | 344/60000 [1:42:03<276:03:36, 16.66s/it, D_loss=0.406, G_C_loss=0.34, G_H_loss=0.459, G_loss=4.93, I_H_loss=0.073, I_loss=0.102, PC_loss=7.23, cycle_C_loss=0.104, cycle_H_loss=0.0693, iter=345, max_psnr=0, max_ssim=0]"
     ]
    },
    {
     "name": "stdout",
     "output_type": "stream",
     "text": [
      "=> Saving checkpoint\n"
     ]
    },
    {
     "name": "stderr",
     "output_type": "stream",
     "text": [
      "  1%|          | 345/60000 [1:42:20<275:47:39, 16.64s/it, D_loss=0.394, G_C_loss=0.339, G_H_loss=0.391, G_loss=7.61, I_H_loss=0.225, I_loss=0.171, PC_loss=4.65, cycle_C_loss=0.135, cycle_H_loss=0.237, iter=346, max_psnr=0, max_ssim=0]"
     ]
    },
    {
     "name": "stdout",
     "output_type": "stream",
     "text": [
      "=> Saving checkpoint\n"
     ]
    },
    {
     "name": "stderr",
     "output_type": "stream",
     "text": [
      "  1%|          | 346/60000 [1:42:37<276:33:12, 16.69s/it, D_loss=0.419, G_C_loss=0.342, G_H_loss=0.393, G_loss=5, I_H_loss=0.0632, I_loss=0.0929, PC_loss=5.81, cycle_C_loss=0.132, cycle_H_loss=0.0851, iter=347, max_psnr=0, max_ssim=0]"
     ]
    },
    {
     "name": "stdout",
     "output_type": "stream",
     "text": [
      "=> Saving checkpoint\n"
     ]
    },
    {
     "name": "stderr",
     "output_type": "stream",
     "text": [
      "  1%|          | 347/60000 [1:42:53<276:25:39, 16.68s/it, D_loss=0.268, G_C_loss=0.31, G_H_loss=0.558, G_loss=8.65, I_H_loss=0.261, I_loss=0.094, PC_loss=8.27, cycle_C_loss=0.156, cycle_H_loss=0.274, iter=348, max_psnr=0, max_ssim=0] "
     ]
    },
    {
     "name": "stdout",
     "output_type": "stream",
     "text": [
      "=> Saving checkpoint\n"
     ]
    },
    {
     "name": "stderr",
     "output_type": "stream",
     "text": [
      "  1%|          | 348/60000 [1:43:09<274:37:44, 16.57s/it, D_loss=0.278, G_C_loss=0.528, G_H_loss=0.405, G_loss=9.51, I_H_loss=0.27, I_loss=0.221, PC_loss=6.31, cycle_C_loss=0.238, cycle_H_loss=0.219, iter=349, max_psnr=0, max_ssim=0]"
     ]
    },
    {
     "name": "stdout",
     "output_type": "stream",
     "text": [
      "=> Saving checkpoint\n"
     ]
    },
    {
     "name": "stderr",
     "output_type": "stream",
     "text": [
      "  1%|          | 349/60000 [1:43:26<274:48:00, 16.58s/it, D_loss=0.431, G_C_loss=0.314, G_H_loss=0.547, G_loss=13.1, I_H_loss=0.44, I_loss=0.288, PC_loss=7.5, cycle_C_loss=0.281, cycle_H_loss=0.42, iter=350, max_psnr=0, max_ssim=0]  "
     ]
    },
    {
     "name": "stdout",
     "output_type": "stream",
     "text": [
      "=> Saving checkpoint\n"
     ]
    },
    {
     "name": "stderr",
     "output_type": "stream",
     "text": [
      "  1%|          | 350/60000 [1:43:43<274:46:42, 16.58s/it, D_loss=0.296, G_C_loss=0.597, G_H_loss=0.375, G_loss=7.39, I_H_loss=0.145, I_loss=0.207, PC_loss=5.66, cycle_C_loss=0.203, cycle_H_loss=0.109, iter=351, max_psnr=0, max_ssim=0]"
     ]
    },
    {
     "name": "stdout",
     "output_type": "stream",
     "text": [
      "=> Saving checkpoint\n"
     ]
    },
    {
     "name": "stderr",
     "output_type": "stream",
     "text": [
      "  1%|          | 351/60000 [1:43:59<276:02:51, 16.66s/it, D_loss=0.604, G_C_loss=0.517, G_H_loss=0.252, G_loss=10.6, I_H_loss=0.139, I_loss=0.387, PC_loss=7.47, cycle_C_loss=0.395, cycle_H_loss=0.174, iter=352, max_psnr=0, max_ssim=0]"
     ]
    },
    {
     "name": "stdout",
     "output_type": "stream",
     "text": [
      "=> Saving checkpoint\n"
     ]
    },
    {
     "name": "stderr",
     "output_type": "stream",
     "text": [
      "  1%|          | 352/60000 [1:44:16<274:31:07, 16.57s/it, D_loss=0.362, G_C_loss=0.504, G_H_loss=0.348, G_loss=6.86, I_H_loss=0.136, I_loss=0.109, PC_loss=8.13, cycle_C_loss=0.116, cycle_H_loss=0.196, iter=353, max_psnr=0, max_ssim=0]"
     ]
    },
    {
     "name": "stdout",
     "output_type": "stream",
     "text": [
      "=> Saving checkpoint\n"
     ]
    },
    {
     "name": "stderr",
     "output_type": "stream",
     "text": [
      "  1%|          | 353/60000 [1:44:32<272:58:00, 16.47s/it, D_loss=0.485, G_C_loss=0.281, G_H_loss=0.393, G_loss=8.44, I_H_loss=0.251, I_loss=0.195, PC_loss=10.6, cycle_C_loss=0.143, cycle_H_loss=0.238, iter=354, max_psnr=0, max_ssim=0]"
     ]
    },
    {
     "name": "stdout",
     "output_type": "stream",
     "text": [
      "=> Saving checkpoint\n"
     ]
    },
    {
     "name": "stderr",
     "output_type": "stream",
     "text": [
      "  1%|          | 354/60000 [1:44:48<273:25:50, 16.50s/it, D_loss=0.443, G_C_loss=0.311, G_H_loss=0.43, G_loss=5.34, I_H_loss=0.0849, I_loss=0.107, PC_loss=9.89, cycle_C_loss=0.0933, cycle_H_loss=0.0982, iter=355, max_psnr=0, max_ssim=0]"
     ]
    },
    {
     "name": "stdout",
     "output_type": "stream",
     "text": [
      "=> Saving checkpoint\n"
     ]
    },
    {
     "name": "stderr",
     "output_type": "stream",
     "text": [
      "  1%|          | 355/60000 [1:45:05<272:16:10, 16.43s/it, D_loss=0.429, G_C_loss=0.293, G_H_loss=0.35, G_loss=7.08, I_H_loss=0.191, I_loss=0.0966, PC_loss=7.4, cycle_C_loss=0.165, cycle_H_loss=0.197, iter=356, max_psnr=0, max_ssim=0]   "
     ]
    },
    {
     "name": "stdout",
     "output_type": "stream",
     "text": [
      "=> Saving checkpoint\n"
     ]
    },
    {
     "name": "stderr",
     "output_type": "stream",
     "text": [
      "  1%|          | 356/60000 [1:45:22<274:47:11, 16.59s/it, D_loss=0.518, G_C_loss=0.19, G_H_loss=0.348, G_loss=6.7, I_H_loss=0.139, I_loss=0.153, PC_loss=9.69, cycle_C_loss=0.138, cycle_H_loss=0.182, iter=357, max_psnr=0, max_ssim=0] "
     ]
    },
    {
     "name": "stdout",
     "output_type": "stream",
     "text": [
      "=> Saving checkpoint\n"
     ]
    },
    {
     "name": "stderr",
     "output_type": "stream",
     "text": [
      "  1%|          | 357/60000 [1:45:39<275:11:28, 16.61s/it, D_loss=0.427, G_C_loss=0.356, G_H_loss=0.312, G_loss=6.34, I_H_loss=0.163, I_loss=0.127, PC_loss=10.4, cycle_C_loss=0.111, cycle_H_loss=0.14, iter=358, max_psnr=0, max_ssim=0]"
     ]
    },
    {
     "name": "stdout",
     "output_type": "stream",
     "text": [
      "=> Saving checkpoint\n"
     ]
    },
    {
     "name": "stderr",
     "output_type": "stream",
     "text": [
      "  1%|          | 358/60000 [1:45:55<274:48:31, 16.59s/it, D_loss=0.348, G_C_loss=0.493, G_H_loss=0.374, G_loss=5.9, I_H_loss=0.0837, I_loss=0.103, PC_loss=6.92, cycle_C_loss=0.182, cycle_H_loss=0.0721, iter=359, max_psnr=0, max_ssim=0]"
     ]
    },
    {
     "name": "stdout",
     "output_type": "stream",
     "text": [
      "=> Saving checkpoint\n"
     ]
    },
    {
     "name": "stderr",
     "output_type": "stream",
     "text": [
      "  1%|          | 359/60000 [1:46:11<272:16:08, 16.43s/it, D_loss=0.235, G_C_loss=0.459, G_H_loss=0.563, G_loss=7.42, I_H_loss=0.178, I_loss=0.1, PC_loss=6.7, cycle_C_loss=0.132, cycle_H_loss=0.199, iter=360, max_psnr=0, max_ssim=0]    "
     ]
    },
    {
     "name": "stdout",
     "output_type": "stream",
     "text": [
      "=> Saving checkpoint\n"
     ]
    },
    {
     "name": "stderr",
     "output_type": "stream",
     "text": [
      "  1%|          | 360/60000 [1:46:27<269:45:26, 16.28s/it, D_loss=0.276, G_C_loss=0.497, G_H_loss=0.39, G_loss=5.32, I_H_loss=0.0752, I_loss=0.0919, PC_loss=7.92, cycle_C_loss=0.116, cycle_H_loss=0.0762, iter=361, max_psnr=0, max_ssim=0]"
     ]
    },
    {
     "name": "stdout",
     "output_type": "stream",
     "text": [
      "=> Saving checkpoint\n"
     ]
    },
    {
     "name": "stderr",
     "output_type": "stream",
     "text": [
      "  1%|          | 361/60000 [1:46:45<271:46:48, 16.41s/it, D_loss=0.414, G_C_loss=0.387, G_H_loss=0.33, G_loss=5.75, I_H_loss=0.0657, I_loss=0.146, PC_loss=10.4, cycle_C_loss=0.139, cycle_H_loss=0.0832, iter=362, max_psnr=0, max_ssim=0] "
     ]
    },
    {
     "name": "stdout",
     "output_type": "stream",
     "text": [
      "=> Saving checkpoint\n"
     ]
    },
    {
     "name": "stderr",
     "output_type": "stream",
     "text": [
      "  1%|          | 362/60000 [1:47:02<280:04:28, 16.91s/it, D_loss=0.482, G_C_loss=0.437, G_H_loss=0.335, G_loss=10.3, I_H_loss=0.205, I_loss=0.277, PC_loss=7.74, cycle_C_loss=0.275, cycle_H_loss=0.279, iter=363, max_psnr=0, max_ssim=0] "
     ]
    },
    {
     "name": "stdout",
     "output_type": "stream",
     "text": [
      "=> Saving checkpoint\n"
     ]
    },
    {
     "name": "stderr",
     "output_type": "stream",
     "text": [
      "  1%|          | 363/60000 [1:47:18<276:36:33, 16.70s/it, D_loss=0.269, G_C_loss=0.575, G_H_loss=0.422, G_loss=12.1, I_H_loss=0.378, I_loss=0.271, PC_loss=6.73, cycle_C_loss=0.275, cycle_H_loss=0.34, iter=364, max_psnr=0, max_ssim=0] "
     ]
    },
    {
     "name": "stdout",
     "output_type": "stream",
     "text": [
      "=> Saving checkpoint\n"
     ]
    },
    {
     "name": "stderr",
     "output_type": "stream",
     "text": [
      "  1%|          | 364/60000 [1:47:34<273:15:16, 16.50s/it, D_loss=0.408, G_C_loss=0.488, G_H_loss=0.601, G_loss=8.99, I_H_loss=0.0961, I_loss=0.267, PC_loss=10.5, cycle_C_loss=0.255, cycle_H_loss=0.14, iter=365, max_psnr=0, max_ssim=0]"
     ]
    },
    {
     "name": "stdout",
     "output_type": "stream",
     "text": [
      "=> Saving checkpoint\n"
     ]
    },
    {
     "name": "stderr",
     "output_type": "stream",
     "text": [
      "  1%|          | 365/60000 [1:47:51<271:46:21, 16.41s/it, D_loss=0.599, G_C_loss=0.445, G_H_loss=0.429, G_loss=9.89, I_H_loss=0.306, I_loss=0.205, PC_loss=6.24, cycle_C_loss=0.187, cycle_H_loss=0.309, iter=366, max_psnr=0, max_ssim=0]"
     ]
    },
    {
     "name": "stdout",
     "output_type": "stream",
     "text": [
      "=> Saving checkpoint\n"
     ]
    },
    {
     "name": "stderr",
     "output_type": "stream",
     "text": [
      "  1%|          | 366/60000 [1:48:07<274:11:59, 16.55s/it, D_loss=0.44, G_C_loss=0.381, G_H_loss=0.303, G_loss=5.66, I_H_loss=0.12, I_loss=0.0871, PC_loss=7.57, cycle_C_loss=0.157, cycle_H_loss=0.0928, iter=367, max_psnr=0, max_ssim=0]"
     ]
    },
    {
     "name": "stdout",
     "output_type": "stream",
     "text": [
      "=> Saving checkpoint\n"
     ]
    },
    {
     "name": "stderr",
     "output_type": "stream",
     "text": [
      "  1%|          | 367/60000 [1:48:24<274:40:34, 16.58s/it, D_loss=0.512, G_C_loss=0.319, G_H_loss=0.221, G_loss=9.39, I_H_loss=0.352, I_loss=0.201, PC_loss=6.2, cycle_C_loss=0.23, cycle_H_loss=0.263, iter=368, max_psnr=0, max_ssim=0]  "
     ]
    },
    {
     "name": "stdout",
     "output_type": "stream",
     "text": [
      "=> Saving checkpoint\n"
     ]
    },
    {
     "name": "stderr",
     "output_type": "stream",
     "text": [
      "  1%|          | 368/60000 [1:48:40<274:15:05, 16.56s/it, D_loss=0.632, G_C_loss=0.137, G_H_loss=0.422, G_loss=5.53, I_H_loss=0.0764, I_loss=0.18, PC_loss=7.65, cycle_C_loss=0.16, cycle_H_loss=0.0768, iter=369, max_psnr=0, max_ssim=0]"
     ]
    },
    {
     "name": "stdout",
     "output_type": "stream",
     "text": [
      "=> Saving checkpoint\n"
     ]
    },
    {
     "name": "stderr",
     "output_type": "stream",
     "text": [
      "  1%|          | 369/60000 [1:48:56<271:44:15, 16.41s/it, D_loss=0.518, G_C_loss=0.333, G_H_loss=0.361, G_loss=6.7, I_H_loss=0.145, I_loss=0.163, PC_loss=7.87, cycle_C_loss=0.124, cycle_H_loss=0.174, iter=370, max_psnr=0, max_ssim=0] "
     ]
    },
    {
     "name": "stdout",
     "output_type": "stream",
     "text": [
      "=> Saving checkpoint\n"
     ]
    },
    {
     "name": "stderr",
     "output_type": "stream",
     "text": [
      "  1%|          | 370/60000 [1:49:13<269:46:50, 16.29s/it, D_loss=0.537, G_C_loss=0.366, G_H_loss=0.254, G_loss=5.7, I_H_loss=0.0776, I_loss=0.221, PC_loss=5.78, cycle_C_loss=0.175, cycle_H_loss=0.0636, iter=371, max_psnr=0, max_ssim=0]"
     ]
    },
    {
     "name": "stdout",
     "output_type": "stream",
     "text": [
      "=> Saving checkpoint\n"
     ]
    },
    {
     "name": "stderr",
     "output_type": "stream",
     "text": [
      "  1%|          | 371/60000 [1:49:30<271:57:23, 16.42s/it, D_loss=0.448, G_C_loss=0.383, G_H_loss=0.308, G_loss=6.35, I_H_loss=0.111, I_loss=0.148, PC_loss=11.9, cycle_C_loss=0.113, cycle_H_loss=0.135, iter=372, max_psnr=0, max_ssim=0] "
     ]
    },
    {
     "name": "stdout",
     "output_type": "stream",
     "text": [
      "=> Saving checkpoint\n"
     ]
    },
    {
     "name": "stderr",
     "output_type": "stream",
     "text": [
      "  1%|          | 372/60000 [1:49:47<277:50:11, 16.77s/it, D_loss=0.418, G_C_loss=0.332, G_H_loss=0.392, G_loss=6.91, I_H_loss=0.207, I_loss=0.0841, PC_loss=6.03, cycle_C_loss=0.105, cycle_H_loss=0.235, iter=373, max_psnr=0, max_ssim=0]"
     ]
    },
    {
     "name": "stdout",
     "output_type": "stream",
     "text": [
      "=> Saving checkpoint\n"
     ]
    },
    {
     "name": "stderr",
     "output_type": "stream",
     "text": [
      "  1%|          | 373/60000 [1:50:03<276:06:47, 16.67s/it, D_loss=0.379, G_C_loss=0.492, G_H_loss=0.32, G_loss=6.39, I_H_loss=0.146, I_loss=0.104, PC_loss=6.32, cycle_C_loss=0.124, cycle_H_loss=0.165, iter=374, max_psnr=0, max_ssim=0]  "
     ]
    },
    {
     "name": "stdout",
     "output_type": "stream",
     "text": [
      "=> Saving checkpoint\n"
     ]
    },
    {
     "name": "stderr",
     "output_type": "stream",
     "text": [
      "  1%|          | 374/60000 [1:50:20<274:14:28, 16.56s/it, D_loss=0.483, G_C_loss=0.282, G_H_loss=0.515, G_loss=9.45, I_H_loss=0.196, I_loss=0.263, PC_loss=8.81, cycle_C_loss=0.273, cycle_H_loss=0.195, iter=375, max_psnr=0, max_ssim=0]"
     ]
    },
    {
     "name": "stdout",
     "output_type": "stream",
     "text": [
      "=> Saving checkpoint\n"
     ]
    },
    {
     "name": "stderr",
     "output_type": "stream",
     "text": [
      "  1%|          | 375/60000 [1:50:36<275:19:20, 16.62s/it, D_loss=0.602, G_C_loss=0.527, G_H_loss=0.163, G_loss=8.51, I_H_loss=0.339, I_loss=0.0989, PC_loss=6.34, cycle_C_loss=0.0903, cycle_H_loss=0.34, iter=376, max_psnr=0, max_ssim=0]"
     ]
    },
    {
     "name": "stdout",
     "output_type": "stream",
     "text": [
      "=> Saving checkpoint\n"
     ]
    },
    {
     "name": "stderr",
     "output_type": "stream",
     "text": [
      "  1%|          | 376/60000 [1:50:53<273:12:13, 16.50s/it, D_loss=0.382, G_C_loss=0.452, G_H_loss=0.409, G_loss=10.9, I_H_loss=0.376, I_loss=0.126, PC_loss=7.58, cycle_C_loss=0.202, cycle_H_loss=0.384, iter=377, max_psnr=0, max_ssim=0] "
     ]
    },
    {
     "name": "stdout",
     "output_type": "stream",
     "text": [
      "=> Saving checkpoint\n"
     ]
    },
    {
     "name": "stderr",
     "output_type": "stream",
     "text": [
      "  1%|          | 377/60000 [1:51:09<275:56:01, 16.66s/it, D_loss=0.372, G_C_loss=0.223, G_H_loss=0.537, G_loss=9.69, I_H_loss=0.36, I_loss=0.141, PC_loss=6.42, cycle_C_loss=0.116, cycle_H_loss=0.386, iter=378, max_psnr=0, max_ssim=0] "
     ]
    },
    {
     "name": "stdout",
     "output_type": "stream",
     "text": [
      "=> Saving checkpoint\n"
     ]
    },
    {
     "name": "stderr",
     "output_type": "stream",
     "text": [
      "  1%|          | 378/60000 [1:51:26<274:37:29, 16.58s/it, D_loss=0.459, G_C_loss=0.353, G_H_loss=0.35, G_loss=8.8, I_H_loss=0.188, I_loss=0.251, PC_loss=7.28, cycle_C_loss=0.231, cycle_H_loss=0.216, iter=379, max_psnr=0, max_ssim=0] "
     ]
    },
    {
     "name": "stdout",
     "output_type": "stream",
     "text": [
      "=> Saving checkpoint\n"
     ]
    },
    {
     "name": "stderr",
     "output_type": "stream",
     "text": [
      "  1%|          | 379/60000 [1:51:42<274:37:24, 16.58s/it, D_loss=0.37, G_C_loss=0.273, G_H_loss=0.536, G_loss=6.62, I_H_loss=0.134, I_loss=0.0965, PC_loss=9.69, cycle_C_loss=0.129, cycle_H_loss=0.159, iter=380, max_psnr=0, max_ssim=0]"
     ]
    },
    {
     "name": "stdout",
     "output_type": "stream",
     "text": [
      "=> Saving checkpoint\n"
     ]
    },
    {
     "name": "stderr",
     "output_type": "stream",
     "text": [
      "  1%|          | 380/60000 [1:51:59<274:22:17, 16.57s/it, D_loss=0.414, G_C_loss=0.369, G_H_loss=0.273, G_loss=5.03, I_H_loss=0.103, I_loss=0.0862, PC_loss=5.42, cycle_C_loss=0.119, cycle_H_loss=0.107, iter=381, max_psnr=0, max_ssim=0]"
     ]
    },
    {
     "name": "stdout",
     "output_type": "stream",
     "text": [
      "=> Saving checkpoint\n"
     ]
    },
    {
     "name": "stderr",
     "output_type": "stream",
     "text": [
      "  1%|          | 381/60000 [1:52:16<276:50:39, 16.72s/it, D_loss=0.322, G_C_loss=0.485, G_H_loss=0.405, G_loss=13.1, I_H_loss=0.428, I_loss=0.287, PC_loss=6.09, cycle_C_loss=0.31, cycle_H_loss=0.409, iter=382, max_psnr=0, max_ssim=0]  "
     ]
    },
    {
     "name": "stdout",
     "output_type": "stream",
     "text": [
      "=> Saving checkpoint\n"
     ]
    },
    {
     "name": "stderr",
     "output_type": "stream",
     "text": [
      "  1%|          | 382/60000 [1:52:33<278:37:43, 16.82s/it, D_loss=0.343, G_C_loss=0.448, G_H_loss=0.464, G_loss=6.46, I_H_loss=0.124, I_loss=0.143, PC_loss=5.86, cycle_C_loss=0.171, cycle_H_loss=0.101, iter=383, max_psnr=0, max_ssim=0]"
     ]
    },
    {
     "name": "stdout",
     "output_type": "stream",
     "text": [
      "=> Saving checkpoint\n"
     ]
    },
    {
     "name": "stderr",
     "output_type": "stream",
     "text": [
      "  1%|          | 383/60000 [1:52:50<275:22:03, 16.63s/it, D_loss=0.354, G_C_loss=0.274, G_H_loss=0.556, G_loss=9.76, I_H_loss=0.423, I_loss=0.0815, PC_loss=6.61, cycle_C_loss=0.087, cycle_H_loss=0.405, iter=384, max_psnr=0, max_ssim=0]"
     ]
    },
    {
     "name": "stdout",
     "output_type": "stream",
     "text": [
      "=> Saving checkpoint\n"
     ]
    },
    {
     "name": "stderr",
     "output_type": "stream",
     "text": [
      "  1%|          | 384/60000 [1:53:06<277:12:16, 16.74s/it, D_loss=0.342, G_C_loss=0.305, G_H_loss=0.499, G_loss=7.69, I_H_loss=0.218, I_loss=0.124, PC_loss=6.05, cycle_C_loss=0.115, cycle_H_loss=0.263, iter=385, max_psnr=0, max_ssim=0] "
     ]
    },
    {
     "name": "stdout",
     "output_type": "stream",
     "text": [
      "=> Saving checkpoint\n"
     ]
    },
    {
     "name": "stderr",
     "output_type": "stream",
     "text": [
      "  1%|          | 385/60000 [1:53:23<277:05:04, 16.73s/it, D_loss=0.477, G_C_loss=0.256, G_H_loss=0.403, G_loss=9.17, I_H_loss=0.247, I_loss=0.253, PC_loss=4.82, cycle_C_loss=0.192, cycle_H_loss=0.295, iter=386, max_psnr=0, max_ssim=0]"
     ]
    },
    {
     "name": "stdout",
     "output_type": "stream",
     "text": [
      "=> Saving checkpoint\n"
     ]
    },
    {
     "name": "stderr",
     "output_type": "stream",
     "text": [
      "  1%|          | 386/60000 [1:53:40<276:13:06, 16.68s/it, D_loss=0.235, G_C_loss=0.498, G_H_loss=0.631, G_loss=14.1, I_H_loss=0.442, I_loss=0.283, PC_loss=6.89, cycle_C_loss=0.326, cycle_H_loss=0.425, iter=387, max_psnr=0, max_ssim=0]"
     ]
    },
    {
     "name": "stdout",
     "output_type": "stream",
     "text": [
      "=> Saving checkpoint\n"
     ]
    },
    {
     "name": "stderr",
     "output_type": "stream",
     "text": [
      "  1%|          | 387/60000 [1:53:56<275:50:19, 16.66s/it, D_loss=0.356, G_C_loss=0.526, G_H_loss=0.558, G_loss=6.26, I_H_loss=0.136, I_loss=0.0781, PC_loss=6.43, cycle_C_loss=0.124, cycle_H_loss=0.114, iter=388, max_psnr=0, max_ssim=0]"
     ]
    },
    {
     "name": "stdout",
     "output_type": "stream",
     "text": [
      "=> Saving checkpoint\n"
     ]
    },
    {
     "name": "stderr",
     "output_type": "stream",
     "text": [
      "  1%|          | 388/60000 [1:54:13<275:10:48, 16.62s/it, D_loss=0.339, G_C_loss=0.428, G_H_loss=0.363, G_loss=7.68, I_H_loss=0.22, I_loss=0.123, PC_loss=7.24, cycle_C_loss=0.163, cycle_H_loss=0.203, iter=389, max_psnr=0, max_ssim=0]  "
     ]
    },
    {
     "name": "stdout",
     "output_type": "stream",
     "text": [
      "=> Saving checkpoint\n"
     ]
    },
    {
     "name": "stderr",
     "output_type": "stream",
     "text": [
      "  1%|          | 389/60000 [1:54:29<275:44:21, 16.65s/it, D_loss=0.662, G_C_loss=0.381, G_H_loss=0.183, G_loss=7.52, I_H_loss=0.109, I_loss=0.243, PC_loss=6.89, cycle_C_loss=0.208, cycle_H_loss=0.186, iter=390, max_psnr=0, max_ssim=0]"
     ]
    },
    {
     "name": "stdout",
     "output_type": "stream",
     "text": [
      "=> Saving checkpoint\n"
     ]
    },
    {
     "name": "stderr",
     "output_type": "stream",
     "text": [
      "  1%|          | 390/60000 [1:54:46<273:45:02, 16.53s/it, D_loss=0.609, G_C_loss=0.521, G_H_loss=0.147, G_loss=11.1, I_H_loss=0.134, I_loss=0.423, PC_loss=12.9, cycle_C_loss=0.38, cycle_H_loss=0.184, iter=391, max_psnr=0, max_ssim=0] "
     ]
    },
    {
     "name": "stdout",
     "output_type": "stream",
     "text": [
      "=> Saving checkpoint\n"
     ]
    },
    {
     "name": "stderr",
     "output_type": "stream",
     "text": [
      "  1%|          | 391/60000 [1:55:02<273:57:54, 16.55s/it, D_loss=0.409, G_C_loss=0.358, G_H_loss=0.369, G_loss=4.93, I_H_loss=0.116, I_loss=0.0881, PC_loss=5, cycle_C_loss=0.114, cycle_H_loss=0.0816, iter=392, max_psnr=0, max_ssim=0]"
     ]
    },
    {
     "name": "stdout",
     "output_type": "stream",
     "text": [
      "=> Saving checkpoint\n"
     ]
    },
    {
     "name": "stderr",
     "output_type": "stream",
     "text": [
      "  1%|          | 392/60000 [1:55:20<272:13:16, 16.44s/it, D_loss=0.361, G_C_loss=0.296, G_H_loss=0.375, G_loss=7.2, I_H_loss=0.204, I_loss=0.103, PC_loss=7, cycle_C_loss=0.18, cycle_H_loss=0.182, iter=393, max_psnr=0, max_ssim=0]    "
     ]
    },
    {
     "name": "stdout",
     "output_type": "stream",
     "text": [
      "=> Saving checkpoint\n"
     ]
    },
    {
     "name": "stderr",
     "output_type": "stream",
     "text": [
      "  1%|          | 393/60000 [1:55:36<278:03:14, 16.79s/it, D_loss=0.331, G_C_loss=0.346, G_H_loss=0.487, G_loss=7.46, I_H_loss=0.161, I_loss=0.173, PC_loss=7.43, cycle_C_loss=0.126, cycle_H_loss=0.212, iter=394, max_psnr=0, max_ssim=0]"
     ]
    },
    {
     "name": "stdout",
     "output_type": "stream",
     "text": [
      "=> Saving checkpoint\n"
     ]
    },
    {
     "name": "stderr",
     "output_type": "stream",
     "text": [
      "  1%|          | 394/60000 [1:55:52<275:12:04, 16.62s/it, D_loss=0.422, G_C_loss=0.233, G_H_loss=0.462, G_loss=5.92, I_H_loss=0.201, I_loss=0.0749, PC_loss=4.1, cycle_C_loss=0.0766, cycle_H_loss=0.198, iter=395, max_psnr=0, max_ssim=0]"
     ]
    },
    {
     "name": "stdout",
     "output_type": "stream",
     "text": [
      "=> Saving checkpoint\n"
     ]
    },
    {
     "name": "stderr",
     "output_type": "stream",
     "text": [
      "  1%|          | 395/60000 [1:56:08<273:48:46, 16.54s/it, D_loss=0.329, G_C_loss=0.329, G_H_loss=0.53, G_loss=7.16, I_H_loss=0.18, I_loss=0.148, PC_loss=7.99, cycle_C_loss=0.084, cycle_H_loss=0.217, iter=396, max_psnr=0, max_ssim=0]   "
     ]
    },
    {
     "name": "stdout",
     "output_type": "stream",
     "text": [
      "=> Saving checkpoint\n"
     ]
    },
    {
     "name": "stderr",
     "output_type": "stream",
     "text": [
      "  1%|          | 396/60000 [1:56:25<272:38:44, 16.47s/it, D_loss=0.372, G_C_loss=0.468, G_H_loss=0.275, G_loss=7.54, I_H_loss=0.184, I_loss=0.149, PC_loss=9.27, cycle_C_loss=0.128, cycle_H_loss=0.218, iter=397, max_psnr=0, max_ssim=0]"
     ]
    },
    {
     "name": "stdout",
     "output_type": "stream",
     "text": [
      "=> Saving checkpoint\n"
     ]
    },
    {
     "name": "stderr",
     "output_type": "stream",
     "text": [
      "  1%|          | 397/60000 [1:56:42<274:23:12, 16.57s/it, D_loss=0.353, G_C_loss=0.316, G_H_loss=0.477, G_loss=8.36, I_H_loss=0.305, I_loss=0.0735, PC_loss=5.77, cycle_C_loss=0.123, cycle_H_loss=0.307, iter=398, max_psnr=0, max_ssim=0]"
     ]
    },
    {
     "name": "stdout",
     "output_type": "stream",
     "text": [
      "=> Saving checkpoint\n"
     ]
    },
    {
     "name": "stderr",
     "output_type": "stream",
     "text": [
      "  1%|          | 398/60000 [1:56:58<274:52:48, 16.60s/it, D_loss=0.277, G_C_loss=0.507, G_H_loss=0.381, G_loss=12.6, I_H_loss=0.352, I_loss=0.332, PC_loss=6.31, cycle_C_loss=0.387, cycle_H_loss=0.292, iter=399, max_psnr=0, max_ssim=0] "
     ]
    },
    {
     "name": "stdout",
     "output_type": "stream",
     "text": [
      "=> Saving checkpoint\n"
     ]
    },
    {
     "name": "stderr",
     "output_type": "stream",
     "text": [
      "  1%|          | 399/60000 [1:57:14<273:10:48, 16.50s/it, D_loss=0.521, G_C_loss=0.414, G_H_loss=0.424, G_loss=7, I_H_loss=0.121, I_loss=0.204, PC_loss=6.71, cycle_C_loss=0.18, cycle_H_loss=0.122, iter=400, max_psnr=0, max_ssim=0]    "
     ]
    },
    {
     "name": "stdout",
     "output_type": "stream",
     "text": [
      "=> Saving checkpoint\n"
     ]
    },
    {
     "name": "stderr",
     "output_type": "stream",
     "text": [
      "  1%|          | 400/60000 [1:57:31<272:11:40, 16.44s/it, D_loss=0.62, G_C_loss=0.361, G_H_loss=0.376, G_loss=11.1, I_H_loss=0.21, I_loss=0.388, PC_loss=7.66, cycle_C_loss=0.364, cycle_H_loss=0.226, iter=401, max_psnr=0, max_ssim=0]"
     ]
    },
    {
     "name": "stdout",
     "output_type": "stream",
     "text": [
      "=> Saving checkpoint\n"
     ]
    },
    {
     "name": "stderr",
     "output_type": "stream",
     "text": [
      "  1%|          | 401/60000 [1:57:48<271:56:06, 16.43s/it, D_loss=0.46, G_C_loss=0.361, G_H_loss=0.491, G_loss=9.4, I_H_loss=0.229, I_loss=0.218, PC_loss=6.61, cycle_C_loss=0.243, cycle_H_loss=0.237, iter=402, max_psnr=0, max_ssim=0]"
     ]
    },
    {
     "name": "stdout",
     "output_type": "stream",
     "text": [
      "=> Saving checkpoint\n"
     ]
    },
    {
     "name": "stderr",
     "output_type": "stream",
     "text": [
      "  1%|          | 402/60000 [1:58:04<275:37:58, 16.65s/it, D_loss=0.369, G_C_loss=0.383, G_H_loss=0.51, G_loss=8.13, I_H_loss=0.232, I_loss=0.145, PC_loss=8.45, cycle_C_loss=0.0983, cycle_H_loss=0.262, iter=403, max_psnr=0, max_ssim=0]"
     ]
    },
    {
     "name": "stdout",
     "output_type": "stream",
     "text": [
      "=> Saving checkpoint\n"
     ]
    },
    {
     "name": "stderr",
     "output_type": "stream",
     "text": [
      "  1%|          | 403/60000 [1:58:21<274:01:46, 16.55s/it, D_loss=0.432, G_C_loss=0.535, G_H_loss=0.369, G_loss=9.25, I_H_loss=0.321, I_loss=0.0886, PC_loss=4.87, cycle_C_loss=0.124, cycle_H_loss=0.366, iter=404, max_psnr=0, max_ssim=0]"
     ]
    },
    {
     "name": "stdout",
     "output_type": "stream",
     "text": [
      "=> Saving checkpoint\n"
     ]
    },
    {
     "name": "stderr",
     "output_type": "stream",
     "text": [
      "  1%|          | 404/60000 [1:58:38<274:34:55, 16.59s/it, D_loss=0.41, G_C_loss=0.378, G_H_loss=0.366, G_loss=7.78, I_H_loss=0.262, I_loss=0.13, PC_loss=6.05, cycle_C_loss=0.141, cycle_H_loss=0.232, iter=405, max_psnr=0, max_ssim=0]   "
     ]
    },
    {
     "name": "stdout",
     "output_type": "stream",
     "text": [
      "=> Saving checkpoint\n"
     ]
    },
    {
     "name": "stderr",
     "output_type": "stream",
     "text": [
      "  1%|          | 405/60000 [1:58:54<274:41:44, 16.59s/it, D_loss=0.554, G_C_loss=0.185, G_H_loss=0.341, G_loss=9.87, I_H_loss=0.125, I_loss=0.35, PC_loss=9.32, cycle_C_loss=0.398, cycle_H_loss=0.153, iter=406, max_psnr=0, max_ssim=0]"
     ]
    },
    {
     "name": "stdout",
     "output_type": "stream",
     "text": [
      "=> Saving checkpoint\n"
     ]
    },
    {
     "name": "stderr",
     "output_type": "stream",
     "text": [
      "  1%|          | 406/60000 [1:59:10<273:26:39, 16.52s/it, D_loss=0.52, G_C_loss=0.251, G_H_loss=0.314, G_loss=6.2, I_H_loss=0.0924, I_loss=0.196, PC_loss=7.18, cycle_C_loss=0.174, cycle_H_loss=0.116, iter=407, max_psnr=0, max_ssim=0]"
     ]
    },
    {
     "name": "stdout",
     "output_type": "stream",
     "text": [
      "=> Saving checkpoint\n"
     ]
    },
    {
     "name": "stderr",
     "output_type": "stream",
     "text": [
      "  1%|          | 407/60000 [1:59:27<273:32:39, 16.52s/it, D_loss=0.567, G_C_loss=0.42, G_H_loss=0.343, G_loss=8.69, I_H_loss=0.338, I_loss=0.0895, PC_loss=5.8, cycle_C_loss=0.101, cycle_H_loss=0.344, iter=408, max_psnr=0, max_ssim=0]"
     ]
    },
    {
     "name": "stdout",
     "output_type": "stream",
     "text": [
      "=> Saving checkpoint\n"
     ]
    },
    {
     "name": "stderr",
     "output_type": "stream",
     "text": [
      "  1%|          | 408/60000 [1:59:43<273:12:07, 16.50s/it, D_loss=0.573, G_C_loss=0.345, G_H_loss=0.299, G_loss=5.26, I_H_loss=0.105, I_loss=0.115, PC_loss=7.15, cycle_C_loss=0.128, cycle_H_loss=0.0875, iter=409, max_psnr=0, max_ssim=0]"
     ]
    },
    {
     "name": "stdout",
     "output_type": "stream",
     "text": [
      "=> Saving checkpoint\n"
     ]
    },
    {
     "name": "stderr",
     "output_type": "stream",
     "text": [
      "  1%|          | 409/60000 [2:00:00<272:47:01, 16.48s/it, D_loss=0.436, G_C_loss=0.292, G_H_loss=0.432, G_loss=6.54, I_H_loss=0.14, I_loss=0.141, PC_loss=7.6, cycle_C_loss=0.137, cycle_H_loss=0.156, iter=410, max_psnr=0, max_ssim=0]   "
     ]
    },
    {
     "name": "stdout",
     "output_type": "stream",
     "text": [
      "=> Saving checkpoint\n"
     ]
    },
    {
     "name": "stderr",
     "output_type": "stream",
     "text": [
      "  1%|          | 410/60000 [2:00:17<274:30:00, 16.58s/it, D_loss=0.502, G_C_loss=0.305, G_H_loss=0.333, G_loss=5.08, I_H_loss=0.098, I_loss=0.102, PC_loss=4.97, cycle_C_loss=0.126, cycle_H_loss=0.104, iter=411, max_psnr=0, max_ssim=0]"
     ]
    },
    {
     "name": "stdout",
     "output_type": "stream",
     "text": [
      "=> Saving checkpoint\n"
     ]
    },
    {
     "name": "stderr",
     "output_type": "stream",
     "text": [
      "  1%|          | 411/60000 [2:00:33<273:58:28, 16.55s/it, D_loss=0.462, G_C_loss=0.287, G_H_loss=0.388, G_loss=6.63, I_H_loss=0.151, I_loss=0.113, PC_loss=6.35, cycle_C_loss=0.173, cycle_H_loss=0.159, iter=412, max_psnr=0, max_ssim=0]"
     ]
    },
    {
     "name": "stdout",
     "output_type": "stream",
     "text": [
      "=> Saving checkpoint\n"
     ]
    },
    {
     "name": "stderr",
     "output_type": "stream",
     "text": [
      "  1%|          | 412/60000 [2:00:50<273:45:29, 16.54s/it, D_loss=0.373, G_C_loss=0.362, G_H_loss=0.381, G_loss=7.23, I_H_loss=0.262, I_loss=0.0854, PC_loss=6.5, cycle_C_loss=0.0812, cycle_H_loss=0.254, iter=413, max_psnr=0, max_ssim=0]"
     ]
    },
    {
     "name": "stdout",
     "output_type": "stream",
     "text": [
      "=> Saving checkpoint\n"
     ]
    },
    {
     "name": "stderr",
     "output_type": "stream",
     "text": [
      "  1%|          | 413/60000 [2:01:06<275:13:34, 16.63s/it, D_loss=0.379, G_C_loss=0.393, G_H_loss=0.363, G_loss=6.45, I_H_loss=0.122, I_loss=0.113, PC_loss=13.4, cycle_C_loss=0.125, cycle_H_loss=0.118, iter=414, max_psnr=0, max_ssim=0] "
     ]
    },
    {
     "name": "stdout",
     "output_type": "stream",
     "text": [
      "=> Saving checkpoint\n"
     ]
    },
    {
     "name": "stderr",
     "output_type": "stream",
     "text": [
      "  1%|          | 414/60000 [2:01:23<274:01:24, 16.56s/it, D_loss=0.325, G_C_loss=0.449, G_H_loss=0.593, G_loss=7.69, I_H_loss=0.263, I_loss=0.0847, PC_loss=4.69, cycle_C_loss=0.0775, cycle_H_loss=0.262, iter=415, max_psnr=0, max_ssim=0]"
     ]
    },
    {
     "name": "stdout",
     "output_type": "stream",
     "text": [
      "=> Saving checkpoint\n"
     ]
    },
    {
     "name": "stderr",
     "output_type": "stream",
     "text": [
      "  1%|          | 415/60000 [2:01:39<274:10:39, 16.57s/it, D_loss=0.17, G_C_loss=0.564, G_H_loss=0.593, G_loss=10.4, I_H_loss=0.285, I_loss=0.258, PC_loss=4.65, cycle_C_loss=0.256, cycle_H_loss=0.238, iter=416, max_psnr=0, max_ssim=0]   "
     ]
    },
    {
     "name": "stdout",
     "output_type": "stream",
     "text": [
      "=> Saving checkpoint\n"
     ]
    },
    {
     "name": "stderr",
     "output_type": "stream",
     "text": [
      "  1%|          | 416/60000 [2:01:56<271:40:19, 16.41s/it, D_loss=0.221, G_C_loss=0.584, G_H_loss=0.559, G_loss=6.34, I_H_loss=0.0751, I_loss=0.112, PC_loss=8.05, cycle_C_loss=0.134, cycle_H_loss=0.0972, iter=417, max_psnr=0, max_ssim=0]"
     ]
    },
    {
     "name": "stdout",
     "output_type": "stream",
     "text": [
      "=> Saving checkpoint\n"
     ]
    },
    {
     "name": "stderr",
     "output_type": "stream",
     "text": [
      "  1%|          | 417/60000 [2:02:15<273:06:45, 16.50s/it, D_loss=0.339, G_C_loss=0.28, G_H_loss=0.438, G_loss=5.41, I_H_loss=0.0755, I_loss=0.129, PC_loss=8.02, cycle_C_loss=0.127, cycle_H_loss=0.0888, iter=418, max_psnr=0, max_ssim=0] "
     ]
    },
    {
     "name": "stdout",
     "output_type": "stream",
     "text": [
      "=> Saving checkpoint\n"
     ]
    },
    {
     "name": "stderr",
     "output_type": "stream",
     "text": [
      "  1%|          | 418/60000 [2:02:33<286:19:08, 17.30s/it, D_loss=0.599, G_C_loss=0.247, G_H_loss=0.216, G_loss=5.44, I_H_loss=0.0749, I_loss=0.203, PC_loss=8.03, cycle_C_loss=0.144, cycle_H_loss=0.0881, iter=419, max_psnr=0, max_ssim=0]"
     ]
    },
    {
     "name": "stdout",
     "output_type": "stream",
     "text": [
      "=> Saving checkpoint\n"
     ]
    },
    {
     "name": "stderr",
     "output_type": "stream",
     "text": [
      "  1%|          | 419/60000 [2:02:51<291:59:17, 17.64s/it, D_loss=0.474, G_C_loss=0.456, G_H_loss=0.504, G_loss=9.86, I_H_loss=0.288, I_loss=0.187, PC_loss=6.51, cycle_C_loss=0.184, cycle_H_loss=0.308, iter=420, max_psnr=0, max_ssim=0]  "
     ]
    },
    {
     "name": "stdout",
     "output_type": "stream",
     "text": [
      "=> Saving checkpoint\n"
     ]
    },
    {
     "name": "stderr",
     "output_type": "stream",
     "text": [
      "  1%|          | 420/60000 [2:03:10<293:53:21, 17.76s/it, D_loss=0.352, G_C_loss=0.47, G_H_loss=0.441, G_loss=7.49, I_H_loss=0.213, I_loss=0.0893, PC_loss=6.05, cycle_C_loss=0.122, cycle_H_loss=0.233, iter=421, max_psnr=0, max_ssim=0]"
     ]
    },
    {
     "name": "stdout",
     "output_type": "stream",
     "text": [
      "=> Saving checkpoint\n"
     ]
    },
    {
     "name": "stderr",
     "output_type": "stream",
     "text": [
      "  1%|          | 421/60000 [2:03:28<296:14:24, 17.90s/it, D_loss=0.311, G_C_loss=0.55, G_H_loss=0.327, G_loss=10.9, I_H_loss=0.25, I_loss=0.276, PC_loss=5.3, cycle_C_loss=0.402, cycle_H_loss=0.2, iter=422, max_psnr=0, max_ssim=0]     "
     ]
    },
    {
     "name": "stdout",
     "output_type": "stream",
     "text": [
      "=> Saving checkpoint\n"
     ]
    },
    {
     "name": "stderr",
     "output_type": "stream",
     "text": [
      "  1%|          | 422/60000 [2:03:46<300:54:05, 18.18s/it, D_loss=0.388, G_C_loss=0.318, G_H_loss=0.478, G_loss=8.43, I_H_loss=0.178, I_loss=0.186, PC_loss=7.45, cycle_C_loss=0.177, cycle_H_loss=0.251, iter=423, max_psnr=0, max_ssim=0]"
     ]
    },
    {
     "name": "stdout",
     "output_type": "stream",
     "text": [
      "=> Saving checkpoint\n"
     ]
    },
    {
     "name": "stderr",
     "output_type": "stream",
     "text": [
      "  1%|          | 423/60000 [2:04:03<299:40:58, 18.11s/it, D_loss=0.586, G_C_loss=0.392, G_H_loss=0.3, G_loss=8.42, I_H_loss=0.185, I_loss=0.27, PC_loss=12.3, cycle_C_loss=0.198, cycle_H_loss=0.155, iter=424, max_psnr=0, max_ssim=0]   "
     ]
    },
    {
     "name": "stdout",
     "output_type": "stream",
     "text": [
      "=> Saving checkpoint\n"
     ]
    },
    {
     "name": "stderr",
     "output_type": "stream",
     "text": [
      "  1%|          | 424/60000 [2:04:21<290:13:52, 17.54s/it, D_loss=0.565, G_C_loss=0.337, G_H_loss=0.246, G_loss=9.37, I_H_loss=0.181, I_loss=0.323, PC_loss=7.8, cycle_C_loss=0.299, cycle_H_loss=0.191, iter=425, max_psnr=0, max_ssim=0]"
     ]
    },
    {
     "name": "stdout",
     "output_type": "stream",
     "text": [
      "=> Saving checkpoint\n"
     ]
    },
    {
     "name": "stderr",
     "output_type": "stream",
     "text": [
      "  1%|          | 425/60000 [2:04:38<292:29:14, 17.67s/it, D_loss=0.438, G_C_loss=0.419, G_H_loss=0.314, G_loss=8.86, I_H_loss=0.2, I_loss=0.191, PC_loss=6.1, cycle_C_loss=0.289, cycle_H_loss=0.193, iter=426, max_psnr=0, max_ssim=0]  "
     ]
    },
    {
     "name": "stdout",
     "output_type": "stream",
     "text": [
      "=> Saving checkpoint\n"
     ]
    },
    {
     "name": "stderr",
     "output_type": "stream",
     "text": [
      "  1%|          | 426/60000 [2:04:57<292:08:12, 17.65s/it, D_loss=0.448, G_C_loss=0.379, G_H_loss=0.306, G_loss=5.34, I_H_loss=0.103, I_loss=0.144, PC_loss=6.87, cycle_C_loss=0.121, cycle_H_loss=0.0843, iter=427, max_psnr=0, max_ssim=0]"
     ]
    },
    {
     "name": "stdout",
     "output_type": "stream",
     "text": [
      "=> Saving checkpoint\n"
     ]
    },
    {
     "name": "stderr",
     "output_type": "stream",
     "text": [
      "  1%|          | 427/60000 [2:05:14<297:28:55, 17.98s/it, D_loss=0.329, G_C_loss=0.372, G_H_loss=0.448, G_loss=5.98, I_H_loss=0.133, I_loss=0.113, PC_loss=6.29, cycle_C_loss=0.116, cycle_H_loss=0.132, iter=428, max_psnr=0, max_ssim=0] "
     ]
    },
    {
     "name": "stdout",
     "output_type": "stream",
     "text": [
      "=> Saving checkpoint\n"
     ]
    },
    {
     "name": "stderr",
     "output_type": "stream",
     "text": [
      "  1%|          | 428/60000 [2:05:31<293:56:35, 17.76s/it, D_loss=0.297, G_C_loss=0.41, G_H_loss=0.422, G_loss=5.26, I_H_loss=0.0983, I_loss=0.0841, PC_loss=8.5, cycle_C_loss=0.102, cycle_H_loss=0.0811, iter=429, max_psnr=0, max_ssim=0]"
     ]
    },
    {
     "name": "stdout",
     "output_type": "stream",
     "text": [
      "=> Saving checkpoint\n"
     ]
    },
    {
     "name": "stderr",
     "output_type": "stream",
     "text": [
      "  1%|          | 429/60000 [2:05:48<290:09:04, 17.53s/it, D_loss=0.318, G_C_loss=0.516, G_H_loss=0.382, G_loss=8.83, I_H_loss=0.273, I_loss=0.154, PC_loss=7.22, cycle_C_loss=0.185, cycle_H_loss=0.233, iter=430, max_psnr=0, max_ssim=0] "
     ]
    },
    {
     "name": "stdout",
     "output_type": "stream",
     "text": [
      "=> Saving checkpoint\n"
     ]
    },
    {
     "name": "stderr",
     "output_type": "stream",
     "text": [
      "  1%|          | 430/60000 [2:06:07<287:38:08, 17.38s/it, D_loss=0.446, G_C_loss=0.4, G_H_loss=0.303, G_loss=10.1, I_H_loss=0.37, I_loss=0.202, PC_loss=5.81, cycle_C_loss=0.182, cycle_H_loss=0.339, iter=431, max_psnr=0, max_ssim=0]   "
     ]
    },
    {
     "name": "stdout",
     "output_type": "stream",
     "text": [
      "=> Saving checkpoint\n"
     ]
    },
    {
     "name": "stderr",
     "output_type": "stream",
     "text": [
      "  1%|          | 431/60000 [2:06:25<295:02:13, 17.83s/it, D_loss=0.291, G_C_loss=0.588, G_H_loss=0.485, G_loss=12, I_H_loss=0.469, I_loss=0.16, PC_loss=6.17, cycle_C_loss=0.162, cycle_H_loss=0.449, iter=432, max_psnr=0, max_ssim=0]"
     ]
    },
    {
     "name": "stdout",
     "output_type": "stream",
     "text": [
      "=> Saving checkpoint\n"
     ]
    },
    {
     "name": "stderr",
     "output_type": "stream",
     "text": [
      "  1%|          | 432/60000 [2:06:43<292:52:46, 17.70s/it, D_loss=0.491, G_C_loss=0.414, G_H_loss=0.563, G_loss=7.88, I_H_loss=0.214, I_loss=0.0872, PC_loss=7.02, cycle_C_loss=0.0934, cycle_H_loss=0.278, iter=433, max_psnr=0, max_ssim=0]"
     ]
    },
    {
     "name": "stdout",
     "output_type": "stream",
     "text": [
      "=> Saving checkpoint\n"
     ]
    },
    {
     "name": "stderr",
     "output_type": "stream",
     "text": [
      "  1%|          | 433/60000 [2:07:00<294:42:54, 17.81s/it, D_loss=0.651, G_C_loss=0.116, G_H_loss=0.529, G_loss=9.35, I_H_loss=0.199, I_loss=0.247, PC_loss=10.2, cycle_C_loss=0.245, cycle_H_loss=0.236, iter=434, max_psnr=0, max_ssim=0]  "
     ]
    },
    {
     "name": "stdout",
     "output_type": "stream",
     "text": [
      "=> Saving checkpoint\n"
     ]
    },
    {
     "name": "stderr",
     "output_type": "stream",
     "text": [
      "  1%|          | 434/60000 [2:07:17<291:36:12, 17.62s/it, D_loss=0.453, G_C_loss=0.306, G_H_loss=0.598, G_loss=7.44, I_H_loss=0.122, I_loss=0.184, PC_loss=9.81, cycle_C_loss=0.181, cycle_H_loss=0.131, iter=435, max_psnr=0, max_ssim=0]"
     ]
    },
    {
     "name": "stdout",
     "output_type": "stream",
     "text": [
      "=> Saving checkpoint\n"
     ]
    },
    {
     "name": "stderr",
     "output_type": "stream",
     "text": [
      "  1%|          | 435/60000 [2:07:34<289:44:29, 17.51s/it, D_loss=0.399, G_C_loss=0.359, G_H_loss=0.274, G_loss=7.89, I_H_loss=0.319, I_loss=0.109, PC_loss=6.46, cycle_C_loss=0.112, cycle_H_loss=0.272, iter=436, max_psnr=0, max_ssim=0]"
     ]
    },
    {
     "name": "stdout",
     "output_type": "stream",
     "text": [
      "=> Saving checkpoint\n"
     ]
    },
    {
     "name": "stderr",
     "output_type": "stream",
     "text": [
      "  1%|          | 436/60000 [2:07:52<288:53:22, 17.46s/it, D_loss=0.492, G_C_loss=0.312, G_H_loss=0.442, G_loss=12.3, I_H_loss=0.479, I_loss=0.209, PC_loss=5.96, cycle_C_loss=0.18, cycle_H_loss=0.492, iter=437, max_psnr=0, max_ssim=0] "
     ]
    },
    {
     "name": "stdout",
     "output_type": "stream",
     "text": [
      "=> Saving checkpoint\n"
     ]
    },
    {
     "name": "stderr",
     "output_type": "stream",
     "text": [
      "  1%|          | 437/60000 [2:08:09<288:05:12, 17.41s/it, D_loss=0.582, G_C_loss=0.336, G_H_loss=0.44, G_loss=8.95, I_H_loss=0.169, I_loss=0.289, PC_loss=6.54, cycle_C_loss=0.261, cycle_H_loss=0.183, iter=438, max_psnr=0, max_ssim=0]"
     ]
    },
    {
     "name": "stdout",
     "output_type": "stream",
     "text": [
      "=> Saving checkpoint\n"
     ]
    },
    {
     "name": "stderr",
     "output_type": "stream",
     "text": [
      "  1%|          | 438/60000 [2:08:26<289:24:51, 17.49s/it, D_loss=0.463, G_C_loss=0.368, G_H_loss=0.362, G_loss=6.43, I_H_loss=0.125, I_loss=0.146, PC_loss=8.45, cycle_C_loss=0.179, cycle_H_loss=0.0984, iter=439, max_psnr=0, max_ssim=0]"
     ]
    },
    {
     "name": "stdout",
     "output_type": "stream",
     "text": [
      "=> Saving checkpoint\n"
     ]
    },
    {
     "name": "stderr",
     "output_type": "stream",
     "text": [
      "  1%|          | 439/60000 [2:08:42<283:23:45, 17.13s/it, D_loss=0.194, G_C_loss=0.49, G_H_loss=0.483, G_loss=8.08, I_H_loss=0.172, I_loss=0.176, PC_loss=4.6, cycle_C_loss=0.175, cycle_H_loss=0.218, iter=440, max_psnr=0, max_ssim=0]   "
     ]
    },
    {
     "name": "stdout",
     "output_type": "stream",
     "text": [
      "=> Saving checkpoint\n"
     ]
    },
    {
     "name": "stderr",
     "output_type": "stream",
     "text": [
      "  1%|          | 440/60000 [2:08:58<279:59:47, 16.92s/it, D_loss=0.544, G_C_loss=0.358, G_H_loss=0.27, G_loss=7.87, I_H_loss=0.183, I_loss=0.218, PC_loss=6.32, cycle_C_loss=0.202, cycle_H_loss=0.196, iter=441, max_psnr=0, max_ssim=0]"
     ]
    },
    {
     "name": "stdout",
     "output_type": "stream",
     "text": [
      "=> Saving checkpoint\n"
     ]
    },
    {
     "name": "stderr",
     "output_type": "stream",
     "text": [
      "  1%|          | 441/60000 [2:09:16<277:52:32, 16.80s/it, D_loss=0.396, G_C_loss=0.345, G_H_loss=0.385, G_loss=12.2, I_H_loss=0.355, I_loss=0.289, PC_loss=8.28, cycle_C_loss=0.255, cycle_H_loss=0.41, iter=442, max_psnr=0, max_ssim=0]"
     ]
    },
    {
     "name": "stdout",
     "output_type": "stream",
     "text": [
      "=> Saving checkpoint\n"
     ]
    },
    {
     "name": "stderr",
     "output_type": "stream",
     "text": [
      "  1%|          | 442/60000 [2:09:33<281:52:52, 17.04s/it, D_loss=0.326, G_C_loss=0.374, G_H_loss=0.474, G_loss=6.58, I_H_loss=0.128, I_loss=0.122, PC_loss=6.65, cycle_C_loss=0.15, cycle_H_loss=0.146, iter=443, max_psnr=0, max_ssim=0]"
     ]
    },
    {
     "name": "stdout",
     "output_type": "stream",
     "text": [
      "=> Saving checkpoint\n"
     ]
    },
    {
     "name": "stderr",
     "output_type": "stream",
     "text": [
      "  1%|          | 443/60000 [2:09:50<281:54:23, 17.04s/it, D_loss=0.452, G_C_loss=0.285, G_H_loss=0.317, G_loss=5.59, I_H_loss=0.0982, I_loss=0.0995, PC_loss=10.9, cycle_C_loss=0.124, cycle_H_loss=0.107, iter=444, max_psnr=0, max_ssim=0]"
     ]
    },
    {
     "name": "stdout",
     "output_type": "stream",
     "text": [
      "=> Saving checkpoint\n"
     ]
    },
    {
     "name": "stderr",
     "output_type": "stream",
     "text": [
      "  1%|          | 444/60000 [2:10:07<281:05:24, 16.99s/it, D_loss=0.335, G_C_loss=0.437, G_H_loss=0.547, G_loss=12.2, I_H_loss=0.409, I_loss=0.257, PC_loss=5.09, cycle_C_loss=0.261, cycle_H_loss=0.376, iter=445, max_psnr=0, max_ssim=0]  "
     ]
    },
    {
     "name": "stdout",
     "output_type": "stream",
     "text": [
      "=> Saving checkpoint\n"
     ]
    },
    {
     "name": "stderr",
     "output_type": "stream",
     "text": [
      "  1%|          | 445/60000 [2:10:24<280:56:27, 16.98s/it, D_loss=0.293, G_C_loss=0.523, G_H_loss=0.413, G_loss=8.61, I_H_loss=0.28, I_loss=0.178, PC_loss=5.56, cycle_C_loss=0.167, cycle_H_loss=0.222, iter=446, max_psnr=0, max_ssim=0] "
     ]
    },
    {
     "name": "stdout",
     "output_type": "stream",
     "text": [
      "=> Saving checkpoint\n"
     ]
    },
    {
     "name": "stderr",
     "output_type": "stream",
     "text": [
      "  1%|          | 446/60000 [2:10:42<282:47:49, 17.09s/it, D_loss=0.597, G_C_loss=0.161, G_H_loss=0.366, G_loss=7.88, I_H_loss=0.18, I_loss=0.23, PC_loss=5.25, cycle_C_loss=0.24, cycle_H_loss=0.185, iter=447, max_psnr=0, max_ssim=0]  "
     ]
    },
    {
     "name": "stdout",
     "output_type": "stream",
     "text": [
      "=> Saving checkpoint\n"
     ]
    },
    {
     "name": "stderr",
     "output_type": "stream",
     "text": [
      "  1%|          | 447/60000 [2:10:59<284:32:44, 17.20s/it, D_loss=0.327, G_C_loss=0.365, G_H_loss=0.39, G_loss=8.66, I_H_loss=0.336, I_loss=0.0709, PC_loss=4.9, cycle_C_loss=0.0762, cycle_H_loss=0.386, iter=448, max_psnr=0, max_ssim=0]"
     ]
    },
    {
     "name": "stdout",
     "output_type": "stream",
     "text": [
      "=> Saving checkpoint\n"
     ]
    },
    {
     "name": "stderr",
     "output_type": "stream",
     "text": [
      "  1%|          | 448/60000 [2:11:16<282:33:30, 17.08s/it, D_loss=0.389, G_C_loss=0.322, G_H_loss=0.519, G_loss=11.7, I_H_loss=0.346, I_loss=0.27, PC_loss=6.29, cycle_C_loss=0.253, cycle_H_loss=0.378, iter=449, max_psnr=0, max_ssim=0] "
     ]
    },
    {
     "name": "stdout",
     "output_type": "stream",
     "text": [
      "=> Saving checkpoint\n"
     ]
    },
    {
     "name": "stderr",
     "output_type": "stream",
     "text": [
      "  1%|          | 449/60000 [2:11:33<285:39:15, 17.27s/it, D_loss=0.569, G_C_loss=0.288, G_H_loss=0.453, G_loss=6.87, I_H_loss=0.0831, I_loss=0.225, PC_loss=8.23, cycle_C_loss=0.208, cycle_H_loss=0.0943, iter=450, max_psnr=0, max_ssim=0]"
     ]
    },
    {
     "name": "stdout",
     "output_type": "stream",
     "text": [
      "=> Saving checkpoint\n"
     ]
    },
    {
     "name": "stderr",
     "output_type": "stream",
     "text": [
      "  1%|          | 450/60000 [2:11:50<283:39:07, 17.15s/it, D_loss=0.555, G_C_loss=0.349, G_H_loss=0.256, G_loss=10.7, I_H_loss=0.166, I_loss=0.359, PC_loss=11.7, cycle_C_loss=0.364, cycle_H_loss=0.204, iter=451, max_psnr=0, max_ssim=0]  "
     ]
    },
    {
     "name": "stdout",
     "output_type": "stream",
     "text": [
      "=> Saving checkpoint\n"
     ]
    },
    {
     "name": "stderr",
     "output_type": "stream",
     "text": [
      "  1%|          | 451/60000 [2:12:07<280:29:56, 16.96s/it, D_loss=0.441, G_C_loss=0.354, G_H_loss=0.303, G_loss=5.69, I_H_loss=0.11, I_loss=0.114, PC_loss=6.08, cycle_C_loss=0.155, cycle_H_loss=0.11, iter=452, max_psnr=0, max_ssim=0]  "
     ]
    },
    {
     "name": "stdout",
     "output_type": "stream",
     "text": [
      "=> Saving checkpoint\n"
     ]
    },
    {
     "name": "stderr",
     "output_type": "stream",
     "text": [
      "  1%|          | 452/60000 [2:12:24<280:22:02, 16.95s/it, D_loss=0.384, G_C_loss=0.379, G_H_loss=0.512, G_loss=14.4, I_H_loss=0.443, I_loss=0.333, PC_loss=7.81, cycle_C_loss=0.361, cycle_H_loss=0.432, iter=453, max_psnr=0, max_ssim=0]"
     ]
    },
    {
     "name": "stdout",
     "output_type": "stream",
     "text": [
      "=> Saving checkpoint\n"
     ]
    },
    {
     "name": "stderr",
     "output_type": "stream",
     "text": [
      "  1%|          | 453/60000 [2:12:40<281:01:40, 16.99s/it, D_loss=0.332, G_C_loss=0.517, G_H_loss=0.392, G_loss=9.8, I_H_loss=0.202, I_loss=0.281, PC_loss=7.4, cycle_C_loss=0.309, cycle_H_loss=0.174, iter=454, max_psnr=0, max_ssim=0]  "
     ]
    },
    {
     "name": "stdout",
     "output_type": "stream",
     "text": [
      "=> Saving checkpoint\n"
     ]
    },
    {
     "name": "stderr",
     "output_type": "stream",
     "text": [
      "  1%|          | 454/60000 [2:12:57<279:41:44, 16.91s/it, D_loss=0.469, G_C_loss=0.421, G_H_loss=0.237, G_loss=6.72, I_H_loss=0.0954, I_loss=0.226, PC_loss=5.83, cycle_C_loss=0.196, cycle_H_loss=0.126, iter=455, max_psnr=0, max_ssim=0]"
     ]
    },
    {
     "name": "stdout",
     "output_type": "stream",
     "text": [
      "=> Saving checkpoint\n"
     ]
    },
    {
     "name": "stderr",
     "output_type": "stream",
     "text": [
      "  1%|          | 455/60000 [2:13:15<278:02:26, 16.81s/it, D_loss=0.514, G_C_loss=0.353, G_H_loss=0.192, G_loss=9.13, I_H_loss=0.194, I_loss=0.295, PC_loss=7.77, cycle_C_loss=0.282, cycle_H_loss=0.2, iter=456, max_psnr=0, max_ssim=0]   "
     ]
    },
    {
     "name": "stdout",
     "output_type": "stream",
     "text": [
      "=> Saving checkpoint\n"
     ]
    },
    {
     "name": "stderr",
     "output_type": "stream",
     "text": [
      "  1%|          | 456/60000 [2:13:32<286:00:14, 17.29s/it, D_loss=0.384, G_C_loss=0.337, G_H_loss=0.453, G_loss=8.49, I_H_loss=0.172, I_loss=0.216, PC_loss=7.74, cycle_C_loss=0.24, cycle_H_loss=0.18, iter=457, max_psnr=0, max_ssim=0]"
     ]
    },
    {
     "name": "stdout",
     "output_type": "stream",
     "text": [
      "=> Saving checkpoint\n"
     ]
    },
    {
     "name": "stderr",
     "output_type": "stream",
     "text": [
      "  1%|          | 457/60000 [2:13:49<282:50:04, 17.10s/it, D_loss=0.515, G_C_loss=0.388, G_H_loss=0.192, G_loss=5.59, I_H_loss=0.105, I_loss=0.142, PC_loss=7.35, cycle_C_loss=0.14, cycle_H_loss=0.106, iter=458, max_psnr=0, max_ssim=0]"
     ]
    },
    {
     "name": "stdout",
     "output_type": "stream",
     "text": [
      "=> Saving checkpoint\n"
     ]
    },
    {
     "name": "stderr",
     "output_type": "stream",
     "text": [
      "  1%|          | 458/60000 [2:14:06<281:23:33, 17.01s/it, D_loss=0.275, G_C_loss=0.546, G_H_loss=0.414, G_loss=9.58, I_H_loss=0.169, I_loss=0.287, PC_loss=6.65, cycle_C_loss=0.301, cycle_H_loss=0.17, iter=459, max_psnr=0, max_ssim=0]"
     ]
    },
    {
     "name": "stdout",
     "output_type": "stream",
     "text": [
      "=> Saving checkpoint\n"
     ]
    },
    {
     "name": "stderr",
     "output_type": "stream",
     "text": [
      "  1%|          | 459/60000 [2:14:25<282:10:55, 17.06s/it, D_loss=0.771, G_C_loss=0.427, G_H_loss=0.379, G_loss=7.81, I_H_loss=0.23, I_loss=0.138, PC_loss=5.85, cycle_C_loss=0.14, cycle_H_loss=0.237, iter=460, max_psnr=0, max_ssim=0] "
     ]
    },
    {
     "name": "stdout",
     "output_type": "stream",
     "text": [
      "=> Saving checkpoint\n"
     ]
    },
    {
     "name": "stderr",
     "output_type": "stream",
     "text": [
      "  1%|          | 460/60000 [2:14:41<289:11:38, 17.49s/it, D_loss=0.282, G_C_loss=0.424, G_H_loss=0.515, G_loss=10.9, I_H_loss=0.261, I_loss=0.309, PC_loss=5.76, cycle_C_loss=0.31, cycle_H_loss=0.253, iter=461, max_psnr=0, max_ssim=0]"
     ]
    },
    {
     "name": "stdout",
     "output_type": "stream",
     "text": [
      "=> Saving checkpoint\n"
     ]
    },
    {
     "name": "stderr",
     "output_type": "stream",
     "text": [
      "  1%|          | 461/60000 [2:14:58<285:30:09, 17.26s/it, D_loss=0.459, G_C_loss=0.256, G_H_loss=0.352, G_loss=8.4, I_H_loss=0.113, I_loss=0.247, PC_loss=9.3, cycle_C_loss=0.297, cycle_H_loss=0.149, iter=462, max_psnr=0, max_ssim=0] "
     ]
    },
    {
     "name": "stdout",
     "output_type": "stream",
     "text": [
      "=> Saving checkpoint\n"
     ]
    },
    {
     "name": "stderr",
     "output_type": "stream",
     "text": [
      "  1%|          | 462/60000 [2:15:16<284:23:24, 17.20s/it, D_loss=0.561, G_C_loss=0.187, G_H_loss=0.299, G_loss=7.31, I_H_loss=0.187, I_loss=0.155, PC_loss=13.4, cycle_C_loss=0.157, cycle_H_loss=0.172, iter=463, max_psnr=0, max_ssim=0]"
     ]
    },
    {
     "name": "stdout",
     "output_type": "stream",
     "text": [
      "=> Saving checkpoint\n"
     ]
    },
    {
     "name": "stderr",
     "output_type": "stream",
     "text": [
      "  1%|          | 463/60000 [2:15:34<287:01:49, 17.36s/it, D_loss=0.53, G_C_loss=0.224, G_H_loss=0.196, G_loss=6.09, I_H_loss=0.0893, I_loss=0.2, PC_loss=5.77, cycle_C_loss=0.224, cycle_H_loss=0.0985, iter=464, max_psnr=0, max_ssim=0] "
     ]
    },
    {
     "name": "stdout",
     "output_type": "stream",
     "text": [
      "=> Saving checkpoint\n"
     ]
    },
    {
     "name": "stderr",
     "output_type": "stream",
     "text": [
      "  1%|          | 464/60000 [2:15:50<287:51:34, 17.41s/it, D_loss=0.598, G_C_loss=0.312, G_H_loss=0.196, G_loss=8.9, I_H_loss=0.322, I_loss=0.166, PC_loss=4.84, cycle_C_loss=0.172, cycle_H_loss=0.324, iter=465, max_psnr=0, max_ssim=0]"
     ]
    },
    {
     "name": "stdout",
     "output_type": "stream",
     "text": [
      "=> Saving checkpoint\n"
     ]
    },
    {
     "name": "stderr",
     "output_type": "stream",
     "text": [
      "  1%|          | 465/60000 [2:16:07<283:40:21, 17.15s/it, D_loss=0.444, G_C_loss=0.404, G_H_loss=0.362, G_loss=4.68, I_H_loss=0.0662, I_loss=0.0917, PC_loss=5.54, cycle_C_loss=0.115, cycle_H_loss=0.0658, iter=466, max_psnr=0, max_ssim=0]"
     ]
    },
    {
     "name": "stdout",
     "output_type": "stream",
     "text": [
      "=> Saving checkpoint\n"
     ]
    },
    {
     "name": "stderr",
     "output_type": "stream",
     "text": [
      "  1%|          | 466/60000 [2:16:24<283:23:57, 17.14s/it, D_loss=0.319, G_C_loss=0.431, G_H_loss=0.419, G_loss=7.94, I_H_loss=0.127, I_loss=0.206, PC_loss=6.23, cycle_C_loss=0.227, cycle_H_loss=0.168, iter=467, max_psnr=0, max_ssim=0]   "
     ]
    },
    {
     "name": "stdout",
     "output_type": "stream",
     "text": [
      "=> Saving checkpoint\n"
     ]
    },
    {
     "name": "stderr",
     "output_type": "stream",
     "text": [
      "  1%|          | 467/60000 [2:16:41<280:56:52, 16.99s/it, D_loss=0.328, G_C_loss=0.477, G_H_loss=0.384, G_loss=8.28, I_H_loss=0.208, I_loss=0.186, PC_loss=6.14, cycle_C_loss=0.215, cycle_H_loss=0.182, iter=468, max_psnr=0, max_ssim=0]"
     ]
    },
    {
     "name": "stdout",
     "output_type": "stream",
     "text": [
      "=> Saving checkpoint\n"
     ]
    },
    {
     "name": "stderr",
     "output_type": "stream",
     "text": [
      "  1%|          | 468/60000 [2:16:59<283:19:23, 17.13s/it, D_loss=0.449, G_C_loss=0.346, G_H_loss=0.366, G_loss=6.86, I_H_loss=0.139, I_loss=0.137, PC_loss=7.11, cycle_C_loss=0.152, cycle_H_loss=0.182, iter=469, max_psnr=0, max_ssim=0]"
     ]
    },
    {
     "name": "stdout",
     "output_type": "stream",
     "text": [
      "=> Saving checkpoint\n"
     ]
    },
    {
     "name": "stderr",
     "output_type": "stream",
     "text": [
      "  1%|          | 469/60000 [2:17:17<287:33:22, 17.39s/it, D_loss=0.527, G_C_loss=0.503, G_H_loss=0.303, G_loss=5.91, I_H_loss=0.146, I_loss=0.142, PC_loss=5.42, cycle_C_loss=0.0927, cycle_H_loss=0.139, iter=470, max_psnr=0, max_ssim=0]"
     ]
    },
    {
     "name": "stdout",
     "output_type": "stream",
     "text": [
      "=> Saving checkpoint\n"
     ]
    },
    {
     "name": "stderr",
     "output_type": "stream",
     "text": [
      "  1%|          | 470/60000 [2:17:33<288:07:00, 17.42s/it, D_loss=0.323, G_C_loss=0.401, G_H_loss=0.524, G_loss=6.26, I_H_loss=0.141, I_loss=0.107, PC_loss=5.12, cycle_C_loss=0.133, cycle_H_loss=0.132, iter=471, max_psnr=0, max_ssim=0] "
     ]
    },
    {
     "name": "stdout",
     "output_type": "stream",
     "text": [
      "=> Saving checkpoint\n"
     ]
    },
    {
     "name": "stderr",
     "output_type": "stream",
     "text": [
      "  1%|          | 471/60000 [2:17:50<282:52:43, 17.11s/it, D_loss=0.507, G_C_loss=0.317, G_H_loss=0.353, G_loss=6.29, I_H_loss=0.138, I_loss=0.135, PC_loss=9.47, cycle_C_loss=0.114, cycle_H_loss=0.15, iter=472, max_psnr=0, max_ssim=0] "
     ]
    },
    {
     "name": "stdout",
     "output_type": "stream",
     "text": [
      "=> Saving checkpoint\n"
     ]
    },
    {
     "name": "stderr",
     "output_type": "stream",
     "text": [
      "  1%|          | 472/60000 [2:18:06<279:42:42, 16.92s/it, D_loss=0.496, G_C_loss=0.269, G_H_loss=0.336, G_loss=5.1, I_H_loss=0.0783, I_loss=0.0945, PC_loss=8.49, cycle_C_loss=0.123, cycle_H_loss=0.0945, iter=473, max_psnr=0, max_ssim=0]"
     ]
    },
    {
     "name": "stdout",
     "output_type": "stream",
     "text": [
      "=> Saving checkpoint\n"
     ]
    },
    {
     "name": "stderr",
     "output_type": "stream",
     "text": [
      "  1%|          | 473/60000 [2:18:23<278:47:26, 16.86s/it, D_loss=0.261, G_C_loss=0.473, G_H_loss=0.533, G_loss=17.1, I_H_loss=0.613, I_loss=0.363, PC_loss=6.37, cycle_C_loss=0.383, cycle_H_loss=0.578, iter=474, max_psnr=0, max_ssim=0]  "
     ]
    },
    {
     "name": "stdout",
     "output_type": "stream",
     "text": [
      "=> Saving checkpoint\n"
     ]
    },
    {
     "name": "stderr",
     "output_type": "stream",
     "text": [
      "  1%|          | 474/60000 [2:18:43<279:34:05, 16.91s/it, D_loss=0.35, G_C_loss=0.502, G_H_loss=0.512, G_loss=7.84, I_H_loss=0.233, I_loss=0.102, PC_loss=4.46, cycle_C_loss=0.129, cycle_H_loss=0.24, iter=475, max_psnr=0, max_ssim=0]  "
     ]
    },
    {
     "name": "stdout",
     "output_type": "stream",
     "text": [
      "=> Saving checkpoint\n"
     ]
    },
    {
     "name": "stderr",
     "output_type": "stream",
     "text": [
      "  1%|          | 475/60000 [2:19:01<292:09:43, 17.67s/it, D_loss=0.544, G_C_loss=0.399, G_H_loss=0.209, G_loss=7.92, I_H_loss=0.235, I_loss=0.205, PC_loss=4.32, cycle_C_loss=0.158, cycle_H_loss=0.249, iter=476, max_psnr=0, max_ssim=0]"
     ]
    },
    {
     "name": "stdout",
     "output_type": "stream",
     "text": [
      "=> Saving checkpoint\n"
     ]
    },
    {
     "name": "stderr",
     "output_type": "stream",
     "text": [
      "  1%|          | 476/60000 [2:19:19<292:14:54, 17.68s/it, D_loss=0.356, G_C_loss=0.394, G_H_loss=0.45, G_loss=8.27, I_H_loss=0.299, I_loss=0.125, PC_loss=5.99, cycle_C_loss=0.137, cycle_H_loss=0.249, iter=477, max_psnr=0, max_ssim=0] "
     ]
    },
    {
     "name": "stdout",
     "output_type": "stream",
     "text": [
      "=> Saving checkpoint\n"
     ]
    },
    {
     "name": "stderr",
     "output_type": "stream",
     "text": [
      "  1%|          | 477/60000 [2:19:37<295:37:04, 17.88s/it, D_loss=0.499, G_C_loss=0.257, G_H_loss=0.488, G_loss=7.47, I_H_loss=0.237, I_loss=0.11, PC_loss=6.11, cycle_C_loss=0.108, cycle_H_loss=0.255, iter=478, max_psnr=0, max_ssim=0]"
     ]
    },
    {
     "name": "stdout",
     "output_type": "stream",
     "text": [
      "=> Saving checkpoint\n"
     ]
    },
    {
     "name": "stderr",
     "output_type": "stream",
     "text": [
      "  1%|          | 478/60000 [2:19:55<299:45:08, 18.13s/it, D_loss=0.302, G_C_loss=0.482, G_H_loss=0.316, G_loss=7.3, I_H_loss=0.13, I_loss=0.227, PC_loss=4.57, cycle_C_loss=0.239, cycle_H_loss=0.108, iter=479, max_psnr=0, max_ssim=0] "
     ]
    },
    {
     "name": "stdout",
     "output_type": "stream",
     "text": [
      "=> Saving checkpoint\n"
     ]
    },
    {
     "name": "stderr",
     "output_type": "stream",
     "text": [
      "  1%|          | 479/60000 [2:20:13<297:05:55, 17.97s/it, D_loss=0.486, G_C_loss=0.409, G_H_loss=0.21, G_loss=6.78, I_H_loss=0.0912, I_loss=0.246, PC_loss=9.74, cycle_C_loss=0.182, cycle_H_loss=0.106, iter=480, max_psnr=0, max_ssim=0]"
     ]
    },
    {
     "name": "stdout",
     "output_type": "stream",
     "text": [
      "=> Saving checkpoint\n"
     ]
    },
    {
     "name": "stderr",
     "output_type": "stream",
     "text": [
      "  1%|          | 480/60000 [2:20:30<295:01:33, 17.84s/it, D_loss=0.354, G_C_loss=0.332, G_H_loss=0.479, G_loss=8.58, I_H_loss=0.274, I_loss=0.116, PC_loss=7.94, cycle_C_loss=0.174, cycle_H_loss=0.247, iter=481, max_psnr=0, max_ssim=0]"
     ]
    },
    {
     "name": "stdout",
     "output_type": "stream",
     "text": [
      "=> Saving checkpoint\n"
     ]
    },
    {
     "name": "stderr",
     "output_type": "stream",
     "text": [
      "  1%|          | 481/60000 [2:20:48<291:13:43, 17.61s/it, D_loss=0.201, G_C_loss=0.54, G_H_loss=0.468, G_loss=11.1, I_H_loss=0.471, I_loss=0.125, PC_loss=5.57, cycle_C_loss=0.143, cycle_H_loss=0.407, iter=482, max_psnr=0, max_ssim=0] "
     ]
    },
    {
     "name": "stdout",
     "output_type": "stream",
     "text": [
      "=> Saving checkpoint\n"
     ]
    },
    {
     "name": "stderr",
     "output_type": "stream",
     "text": [
      "  1%|          | 482/60000 [2:21:05<291:27:25, 17.63s/it, D_loss=0.489, G_C_loss=0.459, G_H_loss=0.404, G_loss=8.45, I_H_loss=0.151, I_loss=0.271, PC_loss=4.73, cycle_C_loss=0.207, cycle_H_loss=0.207, iter=483, max_psnr=0, max_ssim=0]"
     ]
    },
    {
     "name": "stdout",
     "output_type": "stream",
     "text": [
      "=> Saving checkpoint\n"
     ]
    },
    {
     "name": "stderr",
     "output_type": "stream",
     "text": [
      "  1%|          | 483/60000 [2:21:23<290:57:56, 17.60s/it, D_loss=0.533, G_C_loss=0.272, G_H_loss=0.417, G_loss=6.65, I_H_loss=0.082, I_loss=0.28, PC_loss=8.2, cycle_C_loss=0.157, cycle_H_loss=0.107, iter=484, max_psnr=0, max_ssim=0]  "
     ]
    },
    {
     "name": "stdout",
     "output_type": "stream",
     "text": [
      "=> Saving checkpoint\n"
     ]
    },
    {
     "name": "stderr",
     "output_type": "stream",
     "text": [
      "  1%|          | 484/60000 [2:21:40<293:10:38, 17.73s/it, D_loss=0.378, G_C_loss=0.292, G_H_loss=0.339, G_loss=6.4, I_H_loss=0.164, I_loss=0.0885, PC_loss=6.22, cycle_C_loss=0.175, cycle_H_loss=0.15, iter=485, max_psnr=0, max_ssim=0]"
     ]
    },
    {
     "name": "stdout",
     "output_type": "stream",
     "text": [
      "=> Saving checkpoint\n"
     ]
    },
    {
     "name": "stderr",
     "output_type": "stream",
     "text": [
      "  1%|          | 485/60000 [2:21:56<288:19:22, 17.44s/it, D_loss=0.579, G_C_loss=0.207, G_H_loss=0.502, G_loss=6.16, I_H_loss=0.107, I_loss=0.108, PC_loss=10.4, cycle_C_loss=0.145, cycle_H_loss=0.118, iter=486, max_psnr=0, max_ssim=0]"
     ]
    },
    {
     "name": "stdout",
     "output_type": "stream",
     "text": [
      "=> Saving checkpoint\n"
     ]
    },
    {
     "name": "stderr",
     "output_type": "stream",
     "text": [
      "  1%|          | 486/60000 [2:22:14<283:22:28, 17.14s/it, D_loss=0.422, G_C_loss=0.386, G_H_loss=0.438, G_loss=5.82, I_H_loss=0.0865, I_loss=0.105, PC_loss=8.05, cycle_C_loss=0.16, cycle_H_loss=0.0809, iter=487, max_psnr=0, max_ssim=0]"
     ]
    },
    {
     "name": "stdout",
     "output_type": "stream",
     "text": [
      "=> Saving checkpoint\n"
     ]
    },
    {
     "name": "stderr",
     "output_type": "stream",
     "text": [
      "  1%|          | 487/60000 [2:22:30<283:49:34, 17.17s/it, D_loss=0.424, G_C_loss=0.413, G_H_loss=0.314, G_loss=9.81, I_H_loss=0.356, I_loss=0.124, PC_loss=4.54, cycle_C_loss=0.107, cycle_H_loss=0.444, iter=488, max_psnr=0, max_ssim=0] "
     ]
    },
    {
     "name": "stdout",
     "output_type": "stream",
     "text": [
      "=> Saving checkpoint\n"
     ]
    },
    {
     "name": "stderr",
     "output_type": "stream",
     "text": [
      "  1%|          | 488/60000 [2:22:45<277:34:25, 16.79s/it, D_loss=0.388, G_C_loss=0.43, G_H_loss=0.478, G_loss=6.41, I_H_loss=0.177, I_loss=0.0877, PC_loss=7.89, cycle_C_loss=0.0736, cycle_H_loss=0.175, iter=489, max_psnr=0, max_ssim=0]"
     ]
    },
    {
     "name": "stdout",
     "output_type": "stream",
     "text": [
      "=> Saving checkpoint\n"
     ]
    },
    {
     "name": "stderr",
     "output_type": "stream",
     "text": [
      "  1%|          | 489/60000 [2:23:01<271:11:07, 16.40s/it, D_loss=0.279, G_C_loss=0.399, G_H_loss=0.468, G_loss=7.03, I_H_loss=0.159, I_loss=0.11, PC_loss=8.69, cycle_C_loss=0.154, cycle_H_loss=0.154, iter=490, max_psnr=0, max_ssim=0]  "
     ]
    },
    {
     "name": "stdout",
     "output_type": "stream",
     "text": [
      "=> Saving checkpoint\n"
     ]
    },
    {
     "name": "stderr",
     "output_type": "stream",
     "text": [
      "  1%|          | 490/60000 [2:23:17<266:58:26, 16.15s/it, D_loss=0.592, G_C_loss=0.269, G_H_loss=0.29, G_loss=5.98, I_H_loss=0.0819, I_loss=0.157, PC_loss=8.37, cycle_C_loss=0.161, cycle_H_loss=0.122, iter=491, max_psnr=0, max_ssim=0]"
     ]
    },
    {
     "name": "stdout",
     "output_type": "stream",
     "text": [
      "=> Saving checkpoint\n"
     ]
    },
    {
     "name": "stderr",
     "output_type": "stream",
     "text": [
      "  1%|          | 491/60000 [2:23:37<268:55:22, 16.27s/it, D_loss=0.654, G_C_loss=0.283, G_H_loss=0.218, G_loss=5.36, I_H_loss=0.139, I_loss=0.13, PC_loss=4.42, cycle_C_loss=0.109, cycle_H_loss=0.149, iter=492, max_psnr=0, max_ssim=0] "
     ]
    },
    {
     "name": "stdout",
     "output_type": "stream",
     "text": [
      "=> Saving checkpoint\n"
     ]
    },
    {
     "name": "stderr",
     "output_type": "stream",
     "text": [
      "  1%|          | 492/60000 [2:23:54<286:02:46, 17.30s/it, D_loss=0.334, G_C_loss=0.376, G_H_loss=0.584, G_loss=10.8, I_H_loss=0.269, I_loss=0.266, PC_loss=7.87, cycle_C_loss=0.291, cycle_H_loss=0.247, iter=493, max_psnr=0, max_ssim=0]"
     ]
    },
    {
     "name": "stdout",
     "output_type": "stream",
     "text": [
      "=> Saving checkpoint\n"
     ]
    },
    {
     "name": "stderr",
     "output_type": "stream",
     "text": [
      "  1%|          | 493/60000 [2:24:10<283:32:32, 17.15s/it, D_loss=0.458, G_C_loss=0.36, G_H_loss=0.406, G_loss=7.91, I_H_loss=0.221, I_loss=0.209, PC_loss=6.18, cycle_C_loss=0.128, cycle_H_loss=0.232, iter=494, max_psnr=0, max_ssim=0] "
     ]
    },
    {
     "name": "stdout",
     "output_type": "stream",
     "text": [
      "=> Saving checkpoint\n"
     ]
    },
    {
     "name": "stderr",
     "output_type": "stream",
     "text": [
      "  1%|          | 494/60000 [2:24:28<282:04:19, 17.06s/it, D_loss=0.429, G_C_loss=0.28, G_H_loss=0.367, G_loss=7.21, I_H_loss=0.23, I_loss=0.0989, PC_loss=4.73, cycle_C_loss=0.149, cycle_H_loss=0.231, iter=495, max_psnr=0, max_ssim=0]"
     ]
    },
    {
     "name": "stdout",
     "output_type": "stream",
     "text": [
      "=> Saving checkpoint\n"
     ]
    },
    {
     "name": "stderr",
     "output_type": "stream",
     "text": [
      "  1%|          | 495/60000 [2:24:47<285:47:06, 17.29s/it, D_loss=0.481, G_C_loss=0.363, G_H_loss=0.484, G_loss=8.82, I_H_loss=0.212, I_loss=0.128, PC_loss=6.77, cycle_C_loss=0.226, cycle_H_loss=0.249, iter=496, max_psnr=0, max_ssim=0]"
     ]
    },
    {
     "name": "stdout",
     "output_type": "stream",
     "text": [
      "=> Saving checkpoint\n"
     ]
    },
    {
     "name": "stderr",
     "output_type": "stream",
     "text": [
      "  1%|          | 496/60000 [2:25:04<291:07:39, 17.61s/it, D_loss=0.512, G_C_loss=0.262, G_H_loss=0.409, G_loss=5.42, I_H_loss=0.0846, I_loss=0.107, PC_loss=11.3, cycle_C_loss=0.111, cycle_H_loss=0.0884, iter=497, max_psnr=0, max_ssim=0]"
     ]
    },
    {
     "name": "stdout",
     "output_type": "stream",
     "text": [
      "=> Saving checkpoint\n"
     ]
    },
    {
     "name": "stderr",
     "output_type": "stream",
     "text": [
      "  1%|          | 497/60000 [2:25:21<290:32:59, 17.58s/it, D_loss=0.458, G_C_loss=0.341, G_H_loss=0.374, G_loss=4.76, I_H_loss=0.0599, I_loss=0.0872, PC_loss=6.21, cycle_C_loss=0.133, cycle_H_loss=0.0644, iter=498, max_psnr=0, max_ssim=0]"
     ]
    },
    {
     "name": "stdout",
     "output_type": "stream",
     "text": [
      "=> Saving checkpoint\n"
     ]
    },
    {
     "name": "stderr",
     "output_type": "stream",
     "text": [
      "  1%|          | 498/60000 [2:25:38<288:02:42, 17.43s/it, D_loss=0.292, G_C_loss=0.421, G_H_loss=0.375, G_loss=9.7, I_H_loss=0.392, I_loss=0.1, PC_loss=8.21, cycle_C_loss=0.105, cycle_H_loss=0.377, iter=499, max_psnr=0, max_ssim=0]      "
     ]
    },
    {
     "name": "stdout",
     "output_type": "stream",
     "text": [
      "=> Saving checkpoint\n"
     ]
    },
    {
     "name": "stderr",
     "output_type": "stream",
     "text": [
      "100%|██████████| 500/500 [25:40<00:00,  3.08s/it, psnr=27.4, ssim=0.861]G_C_loss=0.421, G_H_loss=0.375, G_loss=9.7, I_H_loss=0.392, I_loss=0.1, PC_loss=8.21, cycle_C_loss=0.105, cycle_H_loss=0.377, iter=499, max_psnr=0, max_ssim=0]\n"
     ]
    },
    {
     "name": "stdout",
     "output_type": "stream",
     "text": [
      "\n",
      " iter :500 |ssim:0.8635| psnr:28.4234\n",
      "sim eval\n",
      "=> Saving checkpoint\n"
     ]
    },
    {
     "name": "stderr",
     "output_type": "stream",
     "text": [
      "  1%|          | 499/60000 [2:51:39<287:00:13, 17.36s/it, D_loss=0.385, G_C_loss=0.403, G_H_loss=0.489, G_loss=8.6, I_H_loss=0.273, I_loss=0.146, PC_loss=6.17, cycle_C_loss=0.159, cycle_H_loss=0.251, iter=500, max_psnr=28.4, max_ssim=0.864]"
     ]
    },
    {
     "name": "stdout",
     "output_type": "stream",
     "text": [
      "\n",
      " model saved at :500 | max_psnr:28.4234|max_ssim:0.8635\n",
      "=> Saving checkpoint\n"
     ]
    },
    {
     "name": "stderr",
     "output_type": "stream",
     "text": [
      "  1%|          | 500/60000 [2:51:41<340:31:40, 20.60s/it, D_loss=0.385, G_C_loss=0.403, G_H_loss=0.489, G_loss=8.6, I_H_loss=0.273, I_loss=0.146, PC_loss=6.17, cycle_C_loss=0.159, cycle_H_loss=0.251, iter=500, max_psnr=28.4, max_ssim=0.864]  \n"
     ]
    },
    {
     "ename": "StopIteration",
     "evalue": "",
     "output_type": "error",
     "traceback": [
      "\u001b[31m---------------------------------------------------------------------------\u001b[39m",
      "\u001b[31mStopIteration\u001b[39m                             Traceback (most recent call last)",
      "\u001b[36mCell\u001b[39m\u001b[36m \u001b[39m\u001b[32mIn[15]\u001b[39m\u001b[32m, line 1\u001b[39m\n\u001b[32m----> \u001b[39m\u001b[32m1\u001b[39m \u001b[43mmain\u001b[49m\u001b[43m(\u001b[49m\u001b[43m)\u001b[49m\n",
      "\u001b[36mCell\u001b[39m\u001b[36m \u001b[39m\u001b[32mIn[14]\u001b[39m\u001b[32m, line 30\u001b[39m, in \u001b[36mmain\u001b[39m\u001b[34m()\u001b[39m\n\u001b[32m     27\u001b[39m mse = nn.MSELoss()\n\u001b[32m     29\u001b[39m \u001b[38;5;66;03m# set just_eval = False for training \u001b[39;00m\n\u001b[32m---> \u001b[39m\u001b[32m30\u001b[39m \u001b[43mtrain_fn\u001b[49m\u001b[43m(\u001b[49m\u001b[43mdisc_C\u001b[49m\u001b[43m,\u001b[49m\u001b[43m \u001b[49m\u001b[43mdisc_H\u001b[49m\u001b[43m,\u001b[49m\u001b[43m \u001b[49m\u001b[43mgen_H\u001b[49m\u001b[43m,\u001b[49m\u001b[43m \u001b[49m\u001b[43mgen_C\u001b[49m\u001b[43m,\u001b[49m\u001b[43m \u001b[49m\u001b[43mITS_train_loader\u001b[49m\u001b[43m,\u001b[49m\u001b[43m \u001b[49m\u001b[43mITS_test_loader\u001b[49m\u001b[43m,\u001b[49m\n\u001b[32m     31\u001b[39m \u001b[43m             \u001b[49m\u001b[43mopt_disc\u001b[49m\u001b[43m,\u001b[49m\u001b[43m \u001b[49m\u001b[43mopt_gen\u001b[49m\u001b[43m,\u001b[49m\u001b[43m \u001b[49m\u001b[43mL1\u001b[49m\u001b[43m,\u001b[49m\u001b[43m \u001b[49m\u001b[43mmse\u001b[49m\u001b[43m,\u001b[49m\u001b[43m \u001b[49m\u001b[43mjust_eval\u001b[49m\u001b[43m=\u001b[49m\u001b[38;5;28;43;01mFalse\u001b[39;49;00m\u001b[43m)\u001b[49m\n",
      "\u001b[36mCell\u001b[39m\u001b[36m \u001b[39m\u001b[32mIn[13]\u001b[39m\u001b[32m, line 56\u001b[39m, in \u001b[36mtrain_fn\u001b[39m\u001b[34m(disc_C, disc_H, gen_H, gen_C, train_loader, test_loader, opt_disc, opt_gen, l1, mse, just_eval)\u001b[39m\n\u001b[32m     53\u001b[39m \u001b[38;5;28;01mfor\u001b[39;00m param_group \u001b[38;5;129;01min\u001b[39;00m opt_gen.param_groups:\n\u001b[32m     54\u001b[39m     param_group[\u001b[33m\"\u001b[39m\u001b[33mlr\u001b[39m\u001b[33m\"\u001b[39m] = lr\n\u001b[32m---> \u001b[39m\u001b[32m56\u001b[39m haze, clean = \u001b[38;5;28mnext\u001b[39m(train_iterator)\n\u001b[32m     57\u001b[39m haze = haze.to(opt.device)\n\u001b[32m     58\u001b[39m clean = clean.to(opt.device)\n",
      "\u001b[36mFile \u001b[39m\u001b[32m/opt/miniconda3/envs/cv/lib/python3.11/site-packages/torch/utils/data/dataloader.py:733\u001b[39m, in \u001b[36m_BaseDataLoaderIter.__next__\u001b[39m\u001b[34m(self)\u001b[39m\n\u001b[32m    730\u001b[39m \u001b[38;5;28;01mif\u001b[39;00m \u001b[38;5;28mself\u001b[39m._sampler_iter \u001b[38;5;129;01mis\u001b[39;00m \u001b[38;5;28;01mNone\u001b[39;00m:\n\u001b[32m    731\u001b[39m     \u001b[38;5;66;03m# TODO(https://github.com/pytorch/pytorch/issues/76750)\u001b[39;00m\n\u001b[32m    732\u001b[39m     \u001b[38;5;28mself\u001b[39m._reset()  \u001b[38;5;66;03m# type: ignore[call-arg]\u001b[39;00m\n\u001b[32m--> \u001b[39m\u001b[32m733\u001b[39m data = \u001b[38;5;28;43mself\u001b[39;49m\u001b[43m.\u001b[49m\u001b[43m_next_data\u001b[49m\u001b[43m(\u001b[49m\u001b[43m)\u001b[49m\n\u001b[32m    734\u001b[39m \u001b[38;5;28mself\u001b[39m._num_yielded += \u001b[32m1\u001b[39m\n\u001b[32m    735\u001b[39m \u001b[38;5;28;01mif\u001b[39;00m (\n\u001b[32m    736\u001b[39m     \u001b[38;5;28mself\u001b[39m._dataset_kind == _DatasetKind.Iterable\n\u001b[32m    737\u001b[39m     \u001b[38;5;129;01mand\u001b[39;00m \u001b[38;5;28mself\u001b[39m._IterableDataset_len_called \u001b[38;5;129;01mis\u001b[39;00m \u001b[38;5;129;01mnot\u001b[39;00m \u001b[38;5;28;01mNone\u001b[39;00m\n\u001b[32m    738\u001b[39m     \u001b[38;5;129;01mand\u001b[39;00m \u001b[38;5;28mself\u001b[39m._num_yielded > \u001b[38;5;28mself\u001b[39m._IterableDataset_len_called\n\u001b[32m    739\u001b[39m ):\n",
      "\u001b[36mFile \u001b[39m\u001b[32m/opt/miniconda3/envs/cv/lib/python3.11/site-packages/torch/utils/data/dataloader.py:788\u001b[39m, in \u001b[36m_SingleProcessDataLoaderIter._next_data\u001b[39m\u001b[34m(self)\u001b[39m\n\u001b[32m    787\u001b[39m \u001b[38;5;28;01mdef\u001b[39;00m\u001b[38;5;250m \u001b[39m\u001b[34m_next_data\u001b[39m(\u001b[38;5;28mself\u001b[39m):\n\u001b[32m--> \u001b[39m\u001b[32m788\u001b[39m     index = \u001b[38;5;28;43mself\u001b[39;49m\u001b[43m.\u001b[49m\u001b[43m_next_index\u001b[49m\u001b[43m(\u001b[49m\u001b[43m)\u001b[49m  \u001b[38;5;66;03m# may raise StopIteration\u001b[39;00m\n\u001b[32m    789\u001b[39m     data = \u001b[38;5;28mself\u001b[39m._dataset_fetcher.fetch(index)  \u001b[38;5;66;03m# may raise StopIteration\u001b[39;00m\n\u001b[32m    790\u001b[39m     \u001b[38;5;28;01mif\u001b[39;00m \u001b[38;5;28mself\u001b[39m._pin_memory:\n",
      "\u001b[36mFile \u001b[39m\u001b[32m/opt/miniconda3/envs/cv/lib/python3.11/site-packages/torch/utils/data/dataloader.py:723\u001b[39m, in \u001b[36m_BaseDataLoaderIter._next_index\u001b[39m\u001b[34m(self)\u001b[39m\n\u001b[32m    722\u001b[39m \u001b[38;5;28;01mdef\u001b[39;00m\u001b[38;5;250m \u001b[39m\u001b[34m_next_index\u001b[39m(\u001b[38;5;28mself\u001b[39m):\n\u001b[32m--> \u001b[39m\u001b[32m723\u001b[39m     \u001b[38;5;28;01mreturn\u001b[39;00m \u001b[38;5;28mnext\u001b[39m(\u001b[38;5;28mself\u001b[39m._sampler_iter)\n",
      "\u001b[31mStopIteration\u001b[39m: "
     ]
    }
   ],
   "source": [
    "main()"
   ]
  }
 ],
 "metadata": {
  "kernelspec": {
   "display_name": "cv",
   "language": "python",
   "name": "python3"
  },
  "language_info": {
   "codemirror_mode": {
    "name": "ipython",
    "version": 3
   },
   "file_extension": ".py",
   "mimetype": "text/x-python",
   "name": "python",
   "nbconvert_exporter": "python",
   "pygments_lexer": "ipython3",
   "version": "3.11.11"
  }
 },
 "nbformat": 4,
 "nbformat_minor": 5
}
