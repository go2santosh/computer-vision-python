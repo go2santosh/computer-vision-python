{
 "cells": [
  {
   "cell_type": "markdown",
   "id": "4dc3bd8c",
   "metadata": {},
   "source": [
    "# Comparing Images"
   ]
  },
  {
   "cell_type": "code",
   "execution_count": 1,
   "id": "95c87c20",
   "metadata": {},
   "outputs": [],
   "source": [
    "import numpy as np\n",
    "import torch\n",
    "import torch.nn.functional as F\n",
    "from torchmetrics.image import StructuralSimilarityIndexMeasure\n",
    "from PIL import Image\n",
    "import matplotlib.pyplot as plt"
   ]
  },
  {
   "cell_type": "markdown",
   "id": "d171c9f7",
   "metadata": {},
   "source": [
    "## Common Functions\n",
    "Updated to use PyTorch's built-in MSE function."
   ]
  },
  {
   "cell_type": "code",
   "execution_count": 2,
   "id": "7a1a1f2d",
   "metadata": {},
   "outputs": [],
   "source": [
    "# Function to create a random image\n",
    "def create_random_image(height=32, width=32, channels=3):     \n",
    "    # Create a random image tensor\n",
    "    random_image = torch.rand(channels, height, width)  # 3 channels (RGB), 256x256 pixels\n",
    "    # Convert the tensor to a NumPy array\n",
    "    random_image_np = random_image.numpy()\n",
    "    # Convert the tensor to a PIL image\n",
    "    random_image_pil = Image.fromarray((random_image_np * 255).astype(np.uint8).transpose(1, 2, 0))\n",
    "    # Return the PIL image\n",
    "    return random_image_pil"
   ]
  },
  {
   "cell_type": "code",
   "execution_count": 3,
   "id": "74149b0e",
   "metadata": {},
   "outputs": [],
   "source": [
    "# Create two random images, compare their MSE, and display them side by side\n",
    "def display_images_side_by_side(image1, image2):\n",
    "    \n",
    "    # Create a figure with two subplots\n",
    "    fig, axes = plt.subplots(1, 2, figsize=(10, 5))\n",
    "    \n",
    "    # Display the first image\n",
    "    axes[0].imshow(image1)\n",
    "    axes[0].set_title('Image 1')\n",
    "    axes[0].axis('off')  # Hide axes\n",
    "    \n",
    "    # Display the second image\n",
    "    axes[1].imshow(image2)\n",
    "    axes[1].set_title('Image 2')\n",
    "    axes[1].axis('off')  # Hide axes\n",
    "    \n",
    "    # Show the plot\n",
    "    plt.show()"
   ]
  },
  {
   "cell_type": "code",
   "execution_count": 4,
   "id": "69169c68",
   "metadata": {},
   "outputs": [],
   "source": [
    "# Function to create SSIM image for two given images\n",
    "def create_ssim_image(image1, image2):\n",
    "    # Convert images to tensors with shape (1, C, H, W)\n",
    "    img1_tensor = torch.tensor(np.array(image1), dtype=torch.float32).permute(2, 0, 1).unsqueeze(0)\n",
    "    img2_tensor = torch.tensor(np.array(image2), dtype=torch.float32).permute(2, 0, 1).unsqueeze(0)\n",
    "\n",
    "    # Calculate SSIM and extract the SSIM map\n",
    "    ssim_value, ssim_map = StructuralSimilarityIndexMeasure(return_full_image=True)(img1_tensor, img2_tensor)\n",
    "\n",
    "    # Display the SSIM map (average over channels to get a 2D map)\n",
    "    ssim_map_np = ssim_map.squeeze().numpy()\n",
    "    if ssim_map_np.ndim == 3 and ssim_map_np.shape[0] == 3:\n",
    "        ssim_map_2d = ssim_map_np.mean(axis=0)\n",
    "    else:\n",
    "        ssim_map_2d = ssim_map_np\n",
    "\n",
    "    # Return the SSIM map\n",
    "    return ssim_value, ssim_map_2d"
   ]
  },
  {
   "cell_type": "markdown",
   "id": "a834ae41",
   "metadata": {},
   "source": [
    "## Compare Images "
   ]
  },
  {
   "cell_type": "code",
   "execution_count": 5,
   "id": "6a3475f6",
   "metadata": {},
   "outputs": [
    {
     "data": {
      "image/png": "[encoded data removed]",
      "text/plain": [
       "<Figure size 1000x500 with 2 Axes>"
      ]
     },
     "metadata": {},
     "output_type": "display_data"
    }
   ],
   "source": [
    "# Create two random images, display them side by side\n",
    "image1 = create_random_image()\n",
    "image2 = create_random_image()\n",
    "display_images_side_by_side(image1, image2)"
   ]
  },
  {
   "cell_type": "code",
   "execution_count": 6,
   "id": "52714b24",
   "metadata": {},
   "outputs": [
    {
     "data": {
      "image/png": "[encoded data removed]",
      "text/plain": [
       "<Figure size 1000x500 with 2 Axes>"
      ]
     },
     "metadata": {},
     "output_type": "display_data"
    }
   ],
   "source": [
    "# Create a black image and a white image and then display them side by side\n",
    "black_image = Image.new('RGB', (32, 32), (0, 0, 0))\n",
    "white_image = Image.new('RGB', (32, 32), (255, 255, 255))\n",
    "display_images_side_by_side(black_image, white_image)"
   ]
  },
  {
   "cell_type": "code",
   "execution_count": 7,
   "id": "8aa37bbe",
   "metadata": {},
   "outputs": [
    {
     "name": "stdout",
     "output_type": "stream",
     "text": [
      "Mean Squared Error between the two identical images: 0.0\n"
     ]
    }
   ],
   "source": [
    "# Calculate MSE of two identical images\n",
    "mse = F.mse_loss(torch.tensor(np.array(image1), dtype=torch.float32) / 255, torch.tensor(np.array(image1), dtype=torch.float32) / 255)\n",
    "print(f\"Mean Squared Error between the two identical images: {mse}\")"
   ]
  },
  {
   "cell_type": "code",
   "execution_count": 8,
   "id": "3307f3ef",
   "metadata": {},
   "outputs": [
    {
     "name": "stdout",
     "output_type": "stream",
     "text": [
      "Mean Squared Error between the two random images: 0.171212837100029\n"
     ]
    }
   ],
   "source": [
    "# Calculate MSE of two random images\n",
    "mse = F.mse_loss(torch.tensor(np.array(image1), dtype=torch.float32) / 255, torch.tensor(np.array(image2), dtype=torch.float32) / 255)\n",
    "print(f\"Mean Squared Error between the two random images: {mse}\")"
   ]
  },
  {
   "cell_type": "code",
   "execution_count": 9,
   "id": "0bc6864c",
   "metadata": {},
   "outputs": [
    {
     "name": "stdout",
     "output_type": "stream",
     "text": [
      "Peak Signal-to-Noise Ratio between the two identical images: inf\n"
     ]
    }
   ],
   "source": [
    "# Calculate PSNR for two identical images\n",
    "mse = F.mse_loss(torch.tensor(np.array(image1), dtype=torch.float32) / 255, torch.tensor(np.array(image1), dtype=torch.float32) / 255)\n",
    "psnr = 10 * torch.log10(1 / mse)\n",
    "print(f\"Peak Signal-to-Noise Ratio between the two identical images: {psnr.item()}\")"
   ]
  },
  {
   "cell_type": "code",
   "execution_count": 10,
   "id": "8604a6b1",
   "metadata": {},
   "outputs": [
    {
     "name": "stdout",
     "output_type": "stream",
     "text": [
      "Peak Signal-to-Noise Ratio between the two random images: 7.664637088775635\n"
     ]
    }
   ],
   "source": [
    "# Calculate PSNR of two random images\n",
    "mse = F.mse_loss(torch.tensor(np.array(image1), dtype=torch.float32) / 255, torch.tensor(np.array(image2), dtype=torch.float32) / 255)\n",
    "psnr = 10 * torch.log10(1 / mse)\n",
    "print(f\"Peak Signal-to-Noise Ratio between the two random images: {psnr.item()}\")"
   ]
  },
  {
   "cell_type": "code",
   "execution_count": 11,
   "id": "33686dfc",
   "metadata": {},
   "outputs": [
    {
     "name": "stdout",
     "output_type": "stream",
     "text": [
      "Structural Similarity Index between the two identical images: 1.0\n"
     ]
    }
   ],
   "source": [
    "# Calculate SSIM for two identical images\n",
    "\n",
    "# Convert images to tensors with shape (1, C, H, W)\n",
    "img1_tensor = torch.tensor(np.array(image1), dtype=torch.float32).permute(2, 0, 1).unsqueeze(0)\n",
    "img2_tensor = torch.tensor(np.array(image1), dtype=torch.float32).permute(2, 0, 1).unsqueeze(0)\n",
    "\n",
    "# Calculate SSIM\n",
    "ssim = StructuralSimilarityIndexMeasure()(img1_tensor, img2_tensor)\n",
    "print(f\"Structural Similarity Index between the two identical images: {ssim.item()}\")"
   ]
  },
  {
   "cell_type": "code",
   "execution_count": 12,
   "id": "c84e394f",
   "metadata": {},
   "outputs": [
    {
     "name": "stdout",
     "output_type": "stream",
     "text": [
      "Structural Similarity Index between the two random images: -0.008927597664296627\n"
     ]
    }
   ],
   "source": [
    "# Calculate SSIM of two random images\n",
    "\n",
    "# Convert images to tensors with shape (1, C, H, W)\n",
    "img1_tensor = torch.tensor(np.array(image1), dtype=torch.float32).permute(2, 0, 1).unsqueeze(0)\n",
    "img2_tensor = torch.tensor(np.array(image2), dtype=torch.float32).permute(2, 0, 1).unsqueeze(0)\n",
    "\n",
    "# Calculate SSIM\n",
    "ssim = StructuralSimilarityIndexMeasure()(img1_tensor, img2_tensor)\n",
    "print(f\"Structural Similarity Index between the two random images: {ssim.item()}\")"
   ]
  },
  {
   "cell_type": "code",
   "execution_count": 13,
   "id": "b742e89e",
   "metadata": {},
   "outputs": [
    {
     "data": {
      "image/png": "[encoded data removed]",
      "text/plain": [
       "<Figure size 640x480 with 1 Axes>"
      ]
     },
     "metadata": {},
     "output_type": "display_data"
    },
    {
     "name": "stdout",
     "output_type": "stream",
     "text": [
      "Structural Similarity Index (SSIM) Value of the identical images: 1.0\n"
     ]
    }
   ],
   "source": [
    "# Display SSIM map of two identical images\n",
    "\n",
    "# Create SSIM image for two identical images\n",
    "ssim_value, ssim_map_2d = create_ssim_image(image1, image1)\n",
    "\n",
    "# Display the SSIM map\n",
    "plt.imshow(ssim_map_2d, cmap=plt.cm.gray, vmin=0, vmax=1)\n",
    "plt.title('SSIM Map')\n",
    "plt.axis('off')  # Hide axes\n",
    "plt.show()\n",
    "\n",
    "# Print the SSIM value\n",
    "print(f\"Structural Similarity Index (SSIM) Value of the identical images: {ssim_value.item()}\")"
   ]
  },
  {
   "cell_type": "code",
   "execution_count": 14,
   "id": "0b1ebf44",
   "metadata": {},
   "outputs": [
    {
     "data": {
      "image/png": "[encoded data removed]",
      "text/plain": [
       "<Figure size 640x480 with 1 Axes>"
      ]
     },
     "metadata": {},
     "output_type": "display_data"
    },
    {
     "name": "stdout",
     "output_type": "stream",
     "text": [
      "Structural Similarity Index (SSIM) Value: -0.008927597664296627\n"
     ]
    }
   ],
   "source": [
    "# SSIM map of two random images\n",
    "\n",
    "# Create SSIM image for two random images\n",
    "ssim_value, ssim_map_2d = create_ssim_image(image1, image2)\n",
    "\n",
    "# Display the SSIM map\n",
    "plt.imshow(ssim_map_2d, cmap=plt.cm.gray, vmin=0, vmax=1)\n",
    "plt.title('SSIM Map')\n",
    "plt.axis('off')  # Hide axes\n",
    "plt.show()\n",
    "\n",
    "# Print the SSIM value\n",
    "print(f\"Structural Similarity Index (SSIM) Value: {ssim_value.item()}\")"
   ]
  },
  {
   "cell_type": "code",
   "execution_count": 15,
   "id": "1783f73a",
   "metadata": {},
   "outputs": [
    {
     "data": {
      "image/png": "[encoded data removed]",
      "text/plain": [
       "<Figure size 640x480 with 1 Axes>"
      ]
     },
     "metadata": {},
     "output_type": "display_data"
    },
    {
     "name": "stdout",
     "output_type": "stream",
     "text": [
      "Structural Similarity Index (SSIM) Value: 4.752631411975017e-06\n"
     ]
    }
   ],
   "source": [
    "# Calculate SSIM for a blank image and a random image\n",
    "\n",
    "# Create SSIM image for a blank image and a random image\n",
    "ssim_value, ssim_map_2d = create_ssim_image(black_image, image1)\n",
    "\n",
    "# Display the SSIM map\n",
    "plt.imshow(ssim_map_2d, cmap=plt.cm.gray, vmin=0, vmax=1)\n",
    "plt.title('SSIM Map')\n",
    "plt.axis('off')  # Hide axes\n",
    "plt.show()\n",
    "\n",
    "# Print the SSIM value\n",
    "print(f\"Structural Similarity Index (SSIM) Value: {ssim_value.item()}\")"
   ]
  },
  {
   "cell_type": "code",
   "execution_count": 16,
   "id": "3a4bab4f",
   "metadata": {},
   "outputs": [
    {
     "data": {
      "image/png": "[encoded data removed]",
      "text/plain": [
       "<Figure size 640x480 with 1 Axes>"
      ]
     },
     "metadata": {},
     "output_type": "display_data"
    },
    {
     "name": "stdout",
     "output_type": "stream",
     "text": [
      "Structural Similarity Index (SSIM) Value between Black and White Image: 0.0\n"
     ]
    }
   ],
   "source": [
    "# Create SSIM image for a black image and a white image\n",
    "ssim_value, ssim_map_2d = create_ssim_image(black_image, white_image)\n",
    "# Display the SSIM map\n",
    "plt.imshow(ssim_map_2d, cmap=plt.cm.gray, vmin=0, vmax=1)\n",
    "plt.title('SSIM Map between Black and White Image')\n",
    "plt.axis('off')  # Hide axes\n",
    "plt.show()\n",
    "# Print the SSIM value\n",
    "print(f\"Structural Similarity Index (SSIM) Value between Black and White Image: {ssim_value.item()}\")"
   ]
  },
  {
   "cell_type": "code",
   "execution_count": 17,
   "id": "09dd4cb9",
   "metadata": {},
   "outputs": [
    {
     "name": "stdout",
     "output_type": "stream",
     "text": [
      "Structural Similarity Index between the two black images: nan\n"
     ]
    },
    {
     "data": {
      "image/png": "[encoded data removed]",
      "text/plain": [
       "<Figure size 640x480 with 1 Axes>"
      ]
     },
     "metadata": {},
     "output_type": "display_data"
    },
    {
     "name": "stdout",
     "output_type": "stream",
     "text": [
      "Structural Similarity Index (SSIM) Value between Two Blank Images: nan\n"
     ]
    }
   ],
   "source": [
    "# Calculate SSIM for the two black images\n",
    "black_image1_tensor = torch.tensor(np.array(black_image), dtype=torch.float32).permute(2, 0, 1).unsqueeze(0)\n",
    "black_image2_tensor = torch.tensor(np.array(black_image), dtype=torch.float32).permute(2, 0, 1).unsqueeze(0)\n",
    "ssim = StructuralSimilarityIndexMeasure()(black_image1_tensor, black_image2_tensor)\n",
    "print(f\"Structural Similarity Index between the two black images: {ssim.item()}\")\n",
    "# Create SSIM image for the two black images\n",
    "ssim_value, ssim_map_2d = create_ssim_image(black_image, black_image)\n",
    "# Display the SSIM map\n",
    "plt.imshow(ssim_map_2d, cmap=plt.cm.gray, vmin=0, vmax=1)\n",
    "plt.title('SSIM Map between Two Black Images')\n",
    "plt.axis('off')  # Hide axes\n",
    "plt.show()\n",
    "# Print the SSIM value\n",
    "print(f\"Structural Similarity Index (SSIM) Value between Two Blank Images: {ssim_value.item()}\")"
   ]
  },
  {
   "cell_type": "code",
   "execution_count": 18,
   "id": "e4497201",
   "metadata": {},
   "outputs": [
    {
     "name": "stdout",
     "output_type": "stream",
     "text": [
      "Structural Similarity Index between the two white images: 1.0\n"
     ]
    },
    {
     "data": {
      "image/png": "[encoded data removed]",
      "text/plain": [
       "<Figure size 640x480 with 1 Axes>"
      ]
     },
     "metadata": {},
     "output_type": "display_data"
    },
    {
     "name": "stdout",
     "output_type": "stream",
     "text": [
      "Structural Similarity Index (SSIM) Value between Two White Images: 1.0\n"
     ]
    }
   ],
   "source": [
    "# Calculate SSIM for the two white images\n",
    "white_image1_tensor = torch.tensor(np.array(white_image), dtype=torch.float32).permute(2, 0, 1).unsqueeze(0)\n",
    "white_image2_tensor = torch.tensor(np.array(white_image), dtype=torch.float32).permute(2, 0, 1).unsqueeze(0)\n",
    "ssim = StructuralSimilarityIndexMeasure()(white_image1_tensor, white_image2_tensor)\n",
    "print(f\"Structural Similarity Index between the two white images: {ssim.item()}\")\n",
    "# Create SSIM image for the two white images\n",
    "ssim_value, ssim_map_2d = create_ssim_image(white_image, white_image)\n",
    "# Display the SSIM map\n",
    "plt.imshow(ssim_map_2d, cmap=plt.cm.gray, vmin=0, vmax=1)\n",
    "plt.title('SSIM Map between Two White Images')\n",
    "plt.axis('off')  # Hide axes\n",
    "plt.show()\n",
    "# Print the SSIM value\n",
    "print(f\"Structural Similarity Index (SSIM) Value between Two White Images: {ssim_value.item()}\")"
   ]
  }
 ],
 "metadata": {
  "kernelspec": {
   "display_name": "cv",
   "language": "python",
   "name": "python3"
  },
  "language_info": {
   "codemirror_mode": {
    "name": "ipython",
    "version": 3
   },
   "file_extension": ".py",
   "mimetype": "text/x-python",
   "name": "python",
   "nbconvert_exporter": "python",
   "pygments_lexer": "ipython3",
   "version": "3.11.11"
  }
 },
 "nbformat": 4,
 "nbformat_minor": 5
}
